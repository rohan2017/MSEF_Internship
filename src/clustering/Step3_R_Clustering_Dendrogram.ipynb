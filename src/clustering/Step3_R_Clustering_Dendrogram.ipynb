{
 "cells": [
  {
   "cell_type": "code",
   "execution_count": 11,
   "id": "7dafd1a9",
   "metadata": {},
   "outputs": [],
   "source": [
    "rm(list = ls())\n",
    "library(tidyverse)\n",
    "library(readxl)\n",
    "library(dplyr)\n",
    "library(ggplot2)\n",
    "setwd(\"C:/Users/rohan/Jupyter Projects/MSEF/Clustering Workspace/\")\n",
    "#dat <- read.table(\"distanceMatrix3.txt\", header = T, sep = \",\",row.names = 1)\n",
    "dist <- read.table(\"Out_distanceMatrix.txt\", header = T, sep = \",\",row.names = 1)\n",
    "wordct <- read.table(\"Out_wordCountMatrix.txt\", header = T, sep = \",\",row.names = 1)\n",
    "matchct <- read.table(\"Out_matchCountMatrix.txt\", header = T, sep = \",\",row.names = 1)\n",
    "\n",
    "msef <- read_excel(\"MSEF_data2_20210907.xlsx\", sheet = \"ParticipantLevel\", na = \"NA\")\n",
    "# msef <- as.data.frame(msef[,c(1,3)])\n",
    "msef <- as.data.frame(msef)"
   ]
  },
  {
   "cell_type": "code",
   "execution_count": 12,
   "id": "0d487e40",
   "metadata": {},
   "outputs": [
    {
     "data": {
      "text/html": [
       "<table>\n",
       "<thead><tr><th scope=col>sno</th><th scope=col>Year</th><th scope=col>Title</th><th scope=col>clean Title + Ontology Terms</th><th scope=col>uniq_project_title</th><th scope=col>ProjectID3</th><th scope=col>uniqProjectID</th><th scope=col>multischool_project</th><th scope=col>ProjectApproach</th><th scope=col>OnotologyTerms</th><th scope=col>...</th><th scope=col>American_Indian%</th><th scope=col>Pacific_Islander%</th><th scope=col>Two_or_more_races%</th><th scope=col>WhitePercInMSEF</th><th scope=col>BlackPercInMSEF</th><th scope=col>HispanicPercInMSEF</th><th scope=col>AsianPercInMSEF</th><th scope=col>SchoolDiversity</th><th scope=col>MSEFDiversity</th><th scope=col>DeviationEthnicityRep</th></tr></thead>\n",
       "<tbody>\n",
       "\t<tr><td>  23                                                                                                                                                                                                                            </td><td>2014                                                                                                                                                                                                                            </td><td>A New Method for Identifying Active Regulatory DNA Elements, Phase II                                                                                                                                                           </td><td>a new method for identifying active regulatory dna elements, phase ii genetic,method genetics funda biology                                                                                                                     </td><td>1                                                                                                                                                                                                                               </td><td>1                                                                                                                                                                                                                               </td><td>1                                                                                                                                                                                                                               </td><td>NA                                                                                                                                                                                                                              </td><td>m                                                                                                                                                                                                                               </td><td>genetic,method                                                                                                                                                                                                                  </td><td>...                                                                                                                                                                                                                             </td><td>   NA                                                                                                                                                                                                                           </td><td>   NA                                                                                                                                                                                                                           </td><td>   NA                                                                                                                                                                                                                           </td><td>0.6907216                                                                                                                                                                                                                       </td><td>0.000000000                                                                                                                                                                                                                     </td><td>0.00000000                                                                                                                                                                                                                      </td><td>0.1340206                                                                                                                                                                                                                       </td><td>        NA                                                                                                                                                                                                                      </td><td>-0.2279738                                                                                                                                                                                                                      </td><td>       NA                                                                                                                                                                                                                       </td></tr>\n",
       "\t<tr><td>1134                                                                                                                                                                                                                            </td><td>2017                                                                                                                                                                                                                            </td><td>Actively Growing Hydroponics with Salt Water, Electricity-Free                                                                                                                                                                  </td><td>actively growing hydroponics with sodium chloride water, electricity free chemical,chemical,method,agriculture,water biology agriculture environment                                                                            </td><td>1                                                                                                                                                                                                                               </td><td>2                                                                                                                                                                                                                               </td><td>1                                                                                                                                                                                                                               </td><td>NA                                                                                                                                                                                                                              </td><td>m                                                                                                                                                                                                                               </td><td>chemical,chemical,method,agriculture,water                                                                                                                                                                                      </td><td>...                                                                                                                                                                                                                             </td><td>0.001                                                                                                                                                                                                                           </td><td>0.000                                                                                                                                                                                                                           </td><td>0.053                                                                                                                                                                                                                           </td><td>0.2339181                                                                                                                                                                                                                       </td><td>0.005847953                                                                                                                                                                                                                     </td><td>0.00000000                                                                                                                                                                                                                      </td><td>0.5906433                                                                                                                                                                                                                       </td><td>-0.4878019                                                                                                                                                                                                                      </td><td>-0.2957110                                                                                                                                                                                                                      </td><td>0.1133163                                                                                                                                                                                                                       </td></tr>\n",
       "\t<tr><td>2256                                                                                                                                                                                                                            </td><td>2020                                                                                                                                                                                                                            </td><td>Air Pressure, Friction, and the Motion of Objects                                                                                                                                                                               </td><td>air pressure, friction, and the motion of objects aerodynamics physics funda Engineering                                                                                                                                        </td><td>1                                                                                                                                                                                                                               </td><td>3                                                                                                                                                                                                                               </td><td>1                                                                                                                                                                                                                               </td><td>NA                                                                                                                                                                                                                              </td><td>a                                                                                                                                                                                                                               </td><td>aerodynamics                                                                                                                                                                                                                    </td><td>...                                                                                                                                                                                                                             </td><td>0.003                                                                                                                                                                                                                           </td><td>0.002                                                                                                                                                                                                                           </td><td>0.053                                                                                                                                                                                                                           </td><td>0.4000000                                                                                                                                                                                                                       </td><td>0.133333333                                                                                                                                                                                                                     </td><td>0.03333333                                                                                                                                                                                                                      </td><td>0.3000000                                                                                                                                                                                                                       </td><td>-0.5559626                                                                                                                                                                                                                      </td><td>-0.4819518                                                                                                                                                                                                                      </td><td>0.1575366                                                                                                                                                                                                                       </td></tr>\n",
       "\t<tr><td>2792                                                                                                                                                                                                                            </td><td>2018                                                                                                                                                                                                                            </td><td>Al, NaF, and C4H6O2 Impacts on Learning and Memory in D. melanogaster                                                                                                                                                           </td><td>al, naf, and c4h6o2 impacts on learning and memory in d.melanogaster behaviour,chemical,chemical,alcohol,chemical,metal, inorganic,neuroscience, behaviour,organism,insect, fruitfly, drosophila chemistry behaviour biology    </td><td>1                                                                                                                                                                                                                               </td><td>4                                                                                                                                                                                                                               </td><td>1                                                                                                                                                                                                                               </td><td>NA                                                                                                                                                                                                                              </td><td>a                                                                                                                                                                                                                               </td><td>behaviour,chemical,chemical,alcohol,chemical,metal, inorganic,neuroscience, behaviour,organism,insect, fruitfly, drosophila                                                                                                     </td><td>...                                                                                                                                                                                                                             </td><td>   NA                                                                                                                                                                                                                           </td><td>   NA                                                                                                                                                                                                                           </td><td>   NA                                                                                                                                                                                                                           </td><td>0.0000000                                                                                                                                                                                                                       </td><td>0.000000000                                                                                                                                                                                                                     </td><td>0.00000000                                                                                                                                                                                                                      </td><td>0.0000000                                                                                                                                                                                                                       </td><td>        NA                                                                                                                                                                                                                      </td><td>        NA                                                                                                                                                                                                                      </td><td>       NA                                                                                                                                                                                                                       </td></tr>\n",
       "\t<tr><td>2793                                                                                                                                                                                                                            </td><td>2015                                                                                                                                                                                                                            </td><td>Aluminum, Gasoline, and Your Brain                                                                                                                                                                                              </td><td>aluminum, gasoline, and your brain chemical,metal, inorganic,energy,organ,neuroscience, toxin chemistry medical BehavioralAndSocial                                                                                             </td><td>1                                                                                                                                                                                                                               </td><td>5                                                                                                                                                                                                                               </td><td>1                                                                                                                                                                                                                               </td><td>NA                                                                                                                                                                                                                              </td><td>a                                                                                                                                                                                                                               </td><td>chemical,metal, inorganic,energy,organ,neuroscience, toxin                                                                                                                                                                      </td><td>...                                                                                                                                                                                                                             </td><td>   NA                                                                                                                                                                                                                           </td><td>   NA                                                                                                                                                                                                                           </td><td>   NA                                                                                                                                                                                                                           </td><td>0.0000000                                                                                                                                                                                                                       </td><td>0.000000000                                                                                                                                                                                                                     </td><td>0.00000000                                                                                                                                                                                                                      </td><td>0.0000000                                                                                                                                                                                                                       </td><td>        NA                                                                                                                                                                                                                      </td><td>        NA                                                                                                                                                                                                                      </td><td>       NA                                                                                                                                                                                                                       </td></tr>\n",
       "\t<tr><td>2704                                                                                                                                                                                                                            </td><td>2021                                                                                                                                                                                                                            </td><td>Automated Detection of Stereotypic Behaviors, Their Characterization and Their Relation to Sensory Input and Cardiovascular Activity Using Wearable Sensors and ML/DL Techniques                                                </td><td>automated detection of stereotypic behaviors, their characterization and their relation to sensory input and cardiovascular activity using wearable sensors and ml dl techniques device,organ, human compsci medical ComputerSci</td><td>1                                                                                                                                                                                                                               </td><td>6                                                                                                                                                                                                                               </td><td>1                                                                                                                                                                                                                               </td><td>NA                                                                                                                                                                                                                              </td><td>m                                                                                                                                                                                                                               </td><td>device,organ, human                                                                                                                                                                                                             </td><td>...                                                                                                                                                                                                                             </td><td>0.002                                                                                                                                                                                                                           </td><td>0.001                                                                                                                                                                                                                           </td><td>0.032                                                                                                                                                                                                                           </td><td>0.0952381                                                                                                                                                                                                                       </td><td>0.000000000                                                                                                                                                                                                                     </td><td>0.00000000                                                                                                                                                                                                                      </td><td>0.4761905                                                                                                                                                                                                                       </td><td>-0.4859208                                                                                                                                                                                                                      </td><td>-0.2506939                                                                                                                                                                                                                      </td><td>0.3015949                                                                                                                                                                                                                       </td></tr>\n",
       "</tbody>\n",
       "</table>\n"
      ],
      "text/latex": [
       "\\begin{tabular}{r|lllllllllllllllllllllllllllllllllllllllllllllllllllllllllllllllllllll}\n",
       " sno & Year & Title & clean Title + Ontology Terms & uniq\\_project\\_title & ProjectID3 & uniqProjectID & multischool\\_project & ProjectApproach & OnotologyTerms & ... & American\\_Indian\\% & Pacific\\_Islander\\% & Two\\_or\\_more\\_races\\% & WhitePercInMSEF & BlackPercInMSEF & HispanicPercInMSEF & AsianPercInMSEF & SchoolDiversity & MSEFDiversity & DeviationEthnicityRep\\\\\n",
       "\\hline\n",
       "\t   23                                                                                                                                                                                                                             & 2014                                                                                                                                                                                                                             & A New Method for Identifying Active Regulatory DNA Elements, Phase II                                                                                                                                                            & a new method for identifying active regulatory dna elements, phase ii genetic,method genetics funda biology                                                                                                                      & 1                                                                                                                                                                                                                                & 1                                                                                                                                                                                                                                & 1                                                                                                                                                                                                                                & NA                                                                                                                                                                                                                               & m                                                                                                                                                                                                                                & genetic,method                                                                                                                                                                                                                   & ...                                                                                                                                                                                                                              &    NA                                                                                                                                                                                                                            &    NA                                                                                                                                                                                                                            &    NA                                                                                                                                                                                                                            & 0.6907216                                                                                                                                                                                                                        & 0.000000000                                                                                                                                                                                                                      & 0.00000000                                                                                                                                                                                                                       & 0.1340206                                                                                                                                                                                                                        &         NA                                                                                                                                                                                                                       & -0.2279738                                                                                                                                                                                                                       &        NA                                                                                                                                                                                                                       \\\\\n",
       "\t 1134                                                                                                                                                                                                                             & 2017                                                                                                                                                                                                                             & Actively Growing Hydroponics with Salt Water, Electricity-Free                                                                                                                                                                   & actively growing hydroponics with sodium chloride water, electricity free chemical,chemical,method,agriculture,water biology agriculture environment                                                                             & 1                                                                                                                                                                                                                                & 2                                                                                                                                                                                                                                & 1                                                                                                                                                                                                                                & NA                                                                                                                                                                                                                               & m                                                                                                                                                                                                                                & chemical,chemical,method,agriculture,water                                                                                                                                                                                       & ...                                                                                                                                                                                                                              & 0.001                                                                                                                                                                                                                            & 0.000                                                                                                                                                                                                                            & 0.053                                                                                                                                                                                                                            & 0.2339181                                                                                                                                                                                                                        & 0.005847953                                                                                                                                                                                                                      & 0.00000000                                                                                                                                                                                                                       & 0.5906433                                                                                                                                                                                                                        & -0.4878019                                                                                                                                                                                                                       & -0.2957110                                                                                                                                                                                                                       & 0.1133163                                                                                                                                                                                                                       \\\\\n",
       "\t 2256                                                                                                                                                                                                                             & 2020                                                                                                                                                                                                                             & Air Pressure, Friction, and the Motion of Objects                                                                                                                                                                                & air pressure, friction, and the motion of objects aerodynamics physics funda Engineering                                                                                                                                         & 1                                                                                                                                                                                                                                & 3                                                                                                                                                                                                                                & 1                                                                                                                                                                                                                                & NA                                                                                                                                                                                                                               & a                                                                                                                                                                                                                                & aerodynamics                                                                                                                                                                                                                     & ...                                                                                                                                                                                                                              & 0.003                                                                                                                                                                                                                            & 0.002                                                                                                                                                                                                                            & 0.053                                                                                                                                                                                                                            & 0.4000000                                                                                                                                                                                                                        & 0.133333333                                                                                                                                                                                                                      & 0.03333333                                                                                                                                                                                                                       & 0.3000000                                                                                                                                                                                                                        & -0.5559626                                                                                                                                                                                                                       & -0.4819518                                                                                                                                                                                                                       & 0.1575366                                                                                                                                                                                                                       \\\\\n",
       "\t 2792                                                                                                                                                                                                                             & 2018                                                                                                                                                                                                                             & Al, NaF, and C4H6O2 Impacts on Learning and Memory in D. melanogaster                                                                                                                                                            & al, naf, and c4h6o2 impacts on learning and memory in d.melanogaster behaviour,chemical,chemical,alcohol,chemical,metal, inorganic,neuroscience, behaviour,organism,insect, fruitfly, drosophila chemistry behaviour biology     & 1                                                                                                                                                                                                                                & 4                                                                                                                                                                                                                                & 1                                                                                                                                                                                                                                & NA                                                                                                                                                                                                                               & a                                                                                                                                                                                                                                & behaviour,chemical,chemical,alcohol,chemical,metal, inorganic,neuroscience, behaviour,organism,insect, fruitfly, drosophila                                                                                                      & ...                                                                                                                                                                                                                              &    NA                                                                                                                                                                                                                            &    NA                                                                                                                                                                                                                            &    NA                                                                                                                                                                                                                            & 0.0000000                                                                                                                                                                                                                        & 0.000000000                                                                                                                                                                                                                      & 0.00000000                                                                                                                                                                                                                       & 0.0000000                                                                                                                                                                                                                        &         NA                                                                                                                                                                                                                       &         NA                                                                                                                                                                                                                       &        NA                                                                                                                                                                                                                       \\\\\n",
       "\t 2793                                                                                                                                                                                                                             & 2015                                                                                                                                                                                                                             & Aluminum, Gasoline, and Your Brain                                                                                                                                                                                               & aluminum, gasoline, and your brain chemical,metal, inorganic,energy,organ,neuroscience, toxin chemistry medical BehavioralAndSocial                                                                                              & 1                                                                                                                                                                                                                                & 5                                                                                                                                                                                                                                & 1                                                                                                                                                                                                                                & NA                                                                                                                                                                                                                               & a                                                                                                                                                                                                                                & chemical,metal, inorganic,energy,organ,neuroscience, toxin                                                                                                                                                                       & ...                                                                                                                                                                                                                              &    NA                                                                                                                                                                                                                            &    NA                                                                                                                                                                                                                            &    NA                                                                                                                                                                                                                            & 0.0000000                                                                                                                                                                                                                        & 0.000000000                                                                                                                                                                                                                      & 0.00000000                                                                                                                                                                                                                       & 0.0000000                                                                                                                                                                                                                        &         NA                                                                                                                                                                                                                       &         NA                                                                                                                                                                                                                       &        NA                                                                                                                                                                                                                       \\\\\n",
       "\t 2704                                                                                                                                                                                                                             & 2021                                                                                                                                                                                                                             & Automated Detection of Stereotypic Behaviors, Their Characterization and Their Relation to Sensory Input and Cardiovascular Activity Using Wearable Sensors and ML/DL Techniques                                                 & automated detection of stereotypic behaviors, their characterization and their relation to sensory input and cardiovascular activity using wearable sensors and ml dl techniques device,organ, human compsci medical ComputerSci & 1                                                                                                                                                                                                                                & 6                                                                                                                                                                                                                                & 1                                                                                                                                                                                                                                & NA                                                                                                                                                                                                                               & m                                                                                                                                                                                                                                & device,organ, human                                                                                                                                                                                                              & ...                                                                                                                                                                                                                              & 0.002                                                                                                                                                                                                                            & 0.001                                                                                                                                                                                                                            & 0.032                                                                                                                                                                                                                            & 0.0952381                                                                                                                                                                                                                        & 0.000000000                                                                                                                                                                                                                      & 0.00000000                                                                                                                                                                                                                       & 0.4761905                                                                                                                                                                                                                        & -0.4859208                                                                                                                                                                                                                       & -0.2506939                                                                                                                                                                                                                       & 0.3015949                                                                                                                                                                                                                       \\\\\n",
       "\\end{tabular}\n"
      ],
      "text/markdown": [
       "\n",
       "| sno | Year | Title | clean Title + Ontology Terms | uniq_project_title | ProjectID3 | uniqProjectID | multischool_project | ProjectApproach | OnotologyTerms | ... | American_Indian% | Pacific_Islander% | Two_or_more_races% | WhitePercInMSEF | BlackPercInMSEF | HispanicPercInMSEF | AsianPercInMSEF | SchoolDiversity | MSEFDiversity | DeviationEthnicityRep |\n",
       "|---|---|---|---|---|---|---|---|---|---|---|---|---|---|---|---|---|---|---|---|---|\n",
       "|   23                                                                                                                                                                                                                             | 2014                                                                                                                                                                                                                             | A New Method for Identifying Active Regulatory DNA Elements, Phase II                                                                                                                                                            | a new method for identifying active regulatory dna elements, phase ii genetic,method genetics funda biology                                                                                                                      | 1                                                                                                                                                                                                                                | 1                                                                                                                                                                                                                                | 1                                                                                                                                                                                                                                | NA                                                                                                                                                                                                                               | m                                                                                                                                                                                                                                | genetic,method                                                                                                                                                                                                                   | ...                                                                                                                                                                                                                              |    NA                                                                                                                                                                                                                            |    NA                                                                                                                                                                                                                            |    NA                                                                                                                                                                                                                            | 0.6907216                                                                                                                                                                                                                        | 0.000000000                                                                                                                                                                                                                      | 0.00000000                                                                                                                                                                                                                       | 0.1340206                                                                                                                                                                                                                        |         NA                                                                                                                                                                                                                       | -0.2279738                                                                                                                                                                                                                       |        NA                                                                                                                                                                                                                        |\n",
       "| 1134                                                                                                                                                                                                                             | 2017                                                                                                                                                                                                                             | Actively Growing Hydroponics with Salt Water, Electricity-Free                                                                                                                                                                   | actively growing hydroponics with sodium chloride water, electricity free chemical,chemical,method,agriculture,water biology agriculture environment                                                                             | 1                                                                                                                                                                                                                                | 2                                                                                                                                                                                                                                | 1                                                                                                                                                                                                                                | NA                                                                                                                                                                                                                               | m                                                                                                                                                                                                                                | chemical,chemical,method,agriculture,water                                                                                                                                                                                       | ...                                                                                                                                                                                                                              | 0.001                                                                                                                                                                                                                            | 0.000                                                                                                                                                                                                                            | 0.053                                                                                                                                                                                                                            | 0.2339181                                                                                                                                                                                                                        | 0.005847953                                                                                                                                                                                                                      | 0.00000000                                                                                                                                                                                                                       | 0.5906433                                                                                                                                                                                                                        | -0.4878019                                                                                                                                                                                                                       | -0.2957110                                                                                                                                                                                                                       | 0.1133163                                                                                                                                                                                                                        |\n",
       "| 2256                                                                                                                                                                                                                             | 2020                                                                                                                                                                                                                             | Air Pressure, Friction, and the Motion of Objects                                                                                                                                                                                | air pressure, friction, and the motion of objects aerodynamics physics funda Engineering                                                                                                                                         | 1                                                                                                                                                                                                                                | 3                                                                                                                                                                                                                                | 1                                                                                                                                                                                                                                | NA                                                                                                                                                                                                                               | a                                                                                                                                                                                                                                | aerodynamics                                                                                                                                                                                                                     | ...                                                                                                                                                                                                                              | 0.003                                                                                                                                                                                                                            | 0.002                                                                                                                                                                                                                            | 0.053                                                                                                                                                                                                                            | 0.4000000                                                                                                                                                                                                                        | 0.133333333                                                                                                                                                                                                                      | 0.03333333                                                                                                                                                                                                                       | 0.3000000                                                                                                                                                                                                                        | -0.5559626                                                                                                                                                                                                                       | -0.4819518                                                                                                                                                                                                                       | 0.1575366                                                                                                                                                                                                                        |\n",
       "| 2792                                                                                                                                                                                                                             | 2018                                                                                                                                                                                                                             | Al, NaF, and C4H6O2 Impacts on Learning and Memory in D. melanogaster                                                                                                                                                            | al, naf, and c4h6o2 impacts on learning and memory in d.melanogaster behaviour,chemical,chemical,alcohol,chemical,metal, inorganic,neuroscience, behaviour,organism,insect, fruitfly, drosophila chemistry behaviour biology     | 1                                                                                                                                                                                                                                | 4                                                                                                                                                                                                                                | 1                                                                                                                                                                                                                                | NA                                                                                                                                                                                                                               | a                                                                                                                                                                                                                                | behaviour,chemical,chemical,alcohol,chemical,metal, inorganic,neuroscience, behaviour,organism,insect, fruitfly, drosophila                                                                                                      | ...                                                                                                                                                                                                                              |    NA                                                                                                                                                                                                                            |    NA                                                                                                                                                                                                                            |    NA                                                                                                                                                                                                                            | 0.0000000                                                                                                                                                                                                                        | 0.000000000                                                                                                                                                                                                                      | 0.00000000                                                                                                                                                                                                                       | 0.0000000                                                                                                                                                                                                                        |         NA                                                                                                                                                                                                                       |         NA                                                                                                                                                                                                                       |        NA                                                                                                                                                                                                                        |\n",
       "| 2793                                                                                                                                                                                                                             | 2015                                                                                                                                                                                                                             | Aluminum, Gasoline, and Your Brain                                                                                                                                                                                               | aluminum, gasoline, and your brain chemical,metal, inorganic,energy,organ,neuroscience, toxin chemistry medical BehavioralAndSocial                                                                                              | 1                                                                                                                                                                                                                                | 5                                                                                                                                                                                                                                | 1                                                                                                                                                                                                                                | NA                                                                                                                                                                                                                               | a                                                                                                                                                                                                                                | chemical,metal, inorganic,energy,organ,neuroscience, toxin                                                                                                                                                                       | ...                                                                                                                                                                                                                              |    NA                                                                                                                                                                                                                            |    NA                                                                                                                                                                                                                            |    NA                                                                                                                                                                                                                            | 0.0000000                                                                                                                                                                                                                        | 0.000000000                                                                                                                                                                                                                      | 0.00000000                                                                                                                                                                                                                       | 0.0000000                                                                                                                                                                                                                        |         NA                                                                                                                                                                                                                       |         NA                                                                                                                                                                                                                       |        NA                                                                                                                                                                                                                        |\n",
       "| 2704                                                                                                                                                                                                                             | 2021                                                                                                                                                                                                                             | Automated Detection of Stereotypic Behaviors, Their Characterization and Their Relation to Sensory Input and Cardiovascular Activity Using Wearable Sensors and ML/DL Techniques                                                 | automated detection of stereotypic behaviors, their characterization and their relation to sensory input and cardiovascular activity using wearable sensors and ml dl techniques device,organ, human compsci medical ComputerSci | 1                                                                                                                                                                                                                                | 6                                                                                                                                                                                                                                | 1                                                                                                                                                                                                                                | NA                                                                                                                                                                                                                               | m                                                                                                                                                                                                                                | device,organ, human                                                                                                                                                                                                              | ...                                                                                                                                                                                                                              | 0.002                                                                                                                                                                                                                            | 0.001                                                                                                                                                                                                                            | 0.032                                                                                                                                                                                                                            | 0.0952381                                                                                                                                                                                                                        | 0.000000000                                                                                                                                                                                                                      | 0.00000000                                                                                                                                                                                                                       | 0.4761905                                                                                                                                                                                                                        | -0.4859208                                                                                                                                                                                                                       | -0.2506939                                                                                                                                                                                                                       | 0.3015949                                                                                                                                                                                                                        |\n",
       "\n"
      ],
      "text/plain": [
       "  sno  Year\n",
       "1   23 2014\n",
       "2 1134 2017\n",
       "3 2256 2020\n",
       "4 2792 2018\n",
       "5 2793 2015\n",
       "6 2704 2021\n",
       "  Title                                                                                                                                                                           \n",
       "1 A New Method for Identifying Active Regulatory DNA Elements, Phase II                                                                                                           \n",
       "2 Actively Growing Hydroponics with Salt Water, Electricity-Free                                                                                                                  \n",
       "3 Air Pressure, Friction, and the Motion of Objects                                                                                                                               \n",
       "4 Al, NaF, and C4H6O2 Impacts on Learning and Memory in D. melanogaster                                                                                                           \n",
       "5 Aluminum, Gasoline, and Your Brain                                                                                                                                              \n",
       "6 Automated Detection of Stereotypic Behaviors, Their Characterization and Their Relation to Sensory Input and Cardiovascular Activity Using Wearable Sensors and ML/DL Techniques\n",
       "  clean Title + Ontology Terms                                                                                                                                                                                                    \n",
       "1 a new method for identifying active regulatory dna elements, phase ii genetic,method genetics funda biology                                                                                                                     \n",
       "2 actively growing hydroponics with sodium chloride water, electricity free chemical,chemical,method,agriculture,water biology agriculture environment                                                                            \n",
       "3 air pressure, friction, and the motion of objects aerodynamics physics funda Engineering                                                                                                                                        \n",
       "4 al, naf, and c4h6o2 impacts on learning and memory in d.melanogaster behaviour,chemical,chemical,alcohol,chemical,metal, inorganic,neuroscience, behaviour,organism,insect, fruitfly, drosophila chemistry behaviour biology    \n",
       "5 aluminum, gasoline, and your brain chemical,metal, inorganic,energy,organ,neuroscience, toxin chemistry medical BehavioralAndSocial                                                                                             \n",
       "6 automated detection of stereotypic behaviors, their characterization and their relation to sensory input and cardiovascular activity using wearable sensors and ml dl techniques device,organ, human compsci medical ComputerSci\n",
       "  uniq_project_title ProjectID3 uniqProjectID multischool_project\n",
       "1 1                  1          1             NA                 \n",
       "2 1                  2          1             NA                 \n",
       "3 1                  3          1             NA                 \n",
       "4 1                  4          1             NA                 \n",
       "5 1                  5          1             NA                 \n",
       "6 1                  6          1             NA                 \n",
       "  ProjectApproach\n",
       "1 m              \n",
       "2 m              \n",
       "3 a              \n",
       "4 a              \n",
       "5 a              \n",
       "6 m              \n",
       "  OnotologyTerms                                                                                                             \n",
       "1 genetic,method                                                                                                             \n",
       "2 chemical,chemical,method,agriculture,water                                                                                 \n",
       "3 aerodynamics                                                                                                               \n",
       "4 behaviour,chemical,chemical,alcohol,chemical,metal, inorganic,neuroscience, behaviour,organism,insect, fruitfly, drosophila\n",
       "5 chemical,metal, inorganic,energy,organ,neuroscience, toxin                                                                 \n",
       "6 device,organ, human                                                                                                        \n",
       "  ... American_Indian% Pacific_Islander% Two_or_more_races% WhitePercInMSEF\n",
       "1 ...    NA               NA                NA              0.6907216      \n",
       "2 ... 0.001            0.000             0.053              0.2339181      \n",
       "3 ... 0.003            0.002             0.053              0.4000000      \n",
       "4 ...    NA               NA                NA              0.0000000      \n",
       "5 ...    NA               NA                NA              0.0000000      \n",
       "6 ... 0.002            0.001             0.032              0.0952381      \n",
       "  BlackPercInMSEF HispanicPercInMSEF AsianPercInMSEF SchoolDiversity\n",
       "1 0.000000000     0.00000000         0.1340206               NA     \n",
       "2 0.005847953     0.00000000         0.5906433       -0.4878019     \n",
       "3 0.133333333     0.03333333         0.3000000       -0.5559626     \n",
       "4 0.000000000     0.00000000         0.0000000               NA     \n",
       "5 0.000000000     0.00000000         0.0000000               NA     \n",
       "6 0.000000000     0.00000000         0.4761905       -0.4859208     \n",
       "  MSEFDiversity DeviationEthnicityRep\n",
       "1 -0.2279738           NA            \n",
       "2 -0.2957110    0.1133163            \n",
       "3 -0.4819518    0.1575366            \n",
       "4         NA           NA            \n",
       "5         NA           NA            \n",
       "6 -0.2506939    0.3015949            "
      ]
     },
     "metadata": {},
     "output_type": "display_data"
    }
   ],
   "source": [
    "head(msef)"
   ]
  },
  {
   "cell_type": "code",
   "execution_count": 13,
   "id": "d31e3c90",
   "metadata": {
    "scrolled": true
   },
   "outputs": [
    {
     "data": {
      "text/html": [
       "<ol class=list-inline>\n",
       "\t<li>60</li>\n",
       "\t<li>60</li>\n",
       "</ol>\n"
      ],
      "text/latex": [
       "\\begin{enumerate*}\n",
       "\\item 60\n",
       "\\item 60\n",
       "\\end{enumerate*}\n"
      ],
      "text/markdown": [
       "1. 60\n",
       "2. 60\n",
       "\n",
       "\n"
      ],
      "text/plain": [
       "[1] 60 60"
      ]
     },
     "metadata": {},
     "output_type": "display_data"
    },
    {
     "data": {
      "text/html": [
       "<ol class=list-inline>\n",
       "\t<li>60</li>\n",
       "\t<li>60</li>\n",
       "</ol>\n"
      ],
      "text/latex": [
       "\\begin{enumerate*}\n",
       "\\item 60\n",
       "\\item 60\n",
       "\\end{enumerate*}\n"
      ],
      "text/markdown": [
       "1. 60\n",
       "2. 60\n",
       "\n",
       "\n"
      ],
      "text/plain": [
       "[1] 60 60"
      ]
     },
     "metadata": {},
     "output_type": "display_data"
    },
    {
     "data": {
      "text/html": [
       "<ol class=list-inline>\n",
       "\t<li>60</li>\n",
       "\t<li>60</li>\n",
       "</ol>\n"
      ],
      "text/latex": [
       "\\begin{enumerate*}\n",
       "\\item 60\n",
       "\\item 60\n",
       "\\end{enumerate*}\n"
      ],
      "text/markdown": [
       "1. 60\n",
       "2. 60\n",
       "\n",
       "\n"
      ],
      "text/plain": [
       "[1] 60 60"
      ]
     },
     "metadata": {},
     "output_type": "display_data"
    }
   ],
   "source": [
    "dim(dist)\n",
    "dim(wordct)\n",
    "dim(matchct)"
   ]
  },
  {
   "cell_type": "code",
   "execution_count": 14,
   "id": "850a51c1",
   "metadata": {},
   "outputs": [],
   "source": [
    "fillLowerTri <- function(m){\n",
    "    r <- dim(m)[1]\n",
    "    c <- dim(m)[2]\n",
    "    out = matrix(0, nrow = r, ncol = c)\n",
    "    rownames(out) <- rownames(m)\n",
    "    colnames(out) <- colnames(m)\n",
    "    \n",
    "    for (i in c(1:r)){\n",
    "        for (j in c(1:c)){\n",
    "            out[j,i] <- m[i,j]            \n",
    "        }\n",
    "    }\n",
    "    return(out)\n",
    "}"
   ]
  },
  {
   "cell_type": "code",
   "execution_count": 15,
   "id": "f582dc67",
   "metadata": {
    "scrolled": true
   },
   "outputs": [
    {
     "data": {
      "text/html": [
       "<ol class=list-inline>\n",
       "\t<li>0</li>\n",
       "\t<li>10</li>\n",
       "</ol>\n"
      ],
      "text/latex": [
       "\\begin{enumerate*}\n",
       "\\item 0\n",
       "\\item 10\n",
       "\\end{enumerate*}\n"
      ],
      "text/markdown": [
       "1. 0\n",
       "2. 10\n",
       "\n",
       "\n"
      ],
      "text/plain": [
       "[1]  0 10"
      ]
     },
     "metadata": {},
     "output_type": "display_data"
    },
    {
     "data": {
      "text/html": [
       "<ol class=list-inline>\n",
       "\t<li>0</li>\n",
       "\t<li>10</li>\n",
       "</ol>\n"
      ],
      "text/latex": [
       "\\begin{enumerate*}\n",
       "\\item 0\n",
       "\\item 10\n",
       "\\end{enumerate*}\n"
      ],
      "text/markdown": [
       "1. 0\n",
       "2. 10\n",
       "\n",
       "\n"
      ],
      "text/plain": [
       "[1]  0 10"
      ]
     },
     "metadata": {},
     "output_type": "display_data"
    },
    {
     "data": {
      "text/html": [
       "<ol class=list-inline>\n",
       "\t<li>0</li>\n",
       "\t<li>10</li>\n",
       "</ol>\n"
      ],
      "text/latex": [
       "\\begin{enumerate*}\n",
       "\\item 0\n",
       "\\item 10\n",
       "\\end{enumerate*}\n"
      ],
      "text/markdown": [
       "1. 0\n",
       "2. 10\n",
       "\n",
       "\n"
      ],
      "text/plain": [
       "[1]  0 10"
      ]
     },
     "metadata": {},
     "output_type": "display_data"
    },
    {
     "data": {
      "text/html": [
       "<ol class=list-inline>\n",
       "\t<li>-0.5</li>\n",
       "\t<li>8</li>\n",
       "</ol>\n"
      ],
      "text/latex": [
       "\\begin{enumerate*}\n",
       "\\item -0.5\n",
       "\\item 8\n",
       "\\end{enumerate*}\n"
      ],
      "text/markdown": [
       "1. -0.5\n",
       "2. 8\n",
       "\n",
       "\n"
      ],
      "text/plain": [
       "[1] -0.5  8.0"
      ]
     },
     "metadata": {},
     "output_type": "display_data"
    },
    {
     "data": {
      "text/html": [
       "685"
      ],
      "text/latex": [
       "685"
      ],
      "text/markdown": [
       "685"
      ],
      "text/plain": [
       "[1] 685"
      ]
     },
     "metadata": {},
     "output_type": "display_data"
    },
    {
     "data": {
      "text/html": [
       "<ol class=list-inline>\n",
       "\t<li>0</li>\n",
       "\t<li>72.25</li>\n",
       "</ol>\n"
      ],
      "text/latex": [
       "\\begin{enumerate*}\n",
       "\\item 0\n",
       "\\item 72.25\n",
       "\\end{enumerate*}\n"
      ],
      "text/markdown": [
       "1. 0\n",
       "2. 72.25\n",
       "\n",
       "\n"
      ],
      "text/plain": [
       "[1]  0.00 72.25"
      ]
     },
     "metadata": {},
     "output_type": "display_data"
    },
    {
     "data": {
      "text/html": [
       "<ol class=list-inline>\n",
       "\t<li>0</li>\n",
       "\t<li>64</li>\n",
       "</ol>\n"
      ],
      "text/latex": [
       "\\begin{enumerate*}\n",
       "\\item 0\n",
       "\\item 64\n",
       "\\end{enumerate*}\n"
      ],
      "text/markdown": [
       "1. 0\n",
       "2. 64\n",
       "\n",
       "\n"
      ],
      "text/plain": [
       "[1]  0 64"
      ]
     },
     "metadata": {},
     "output_type": "display_data"
    },
    {
     "data": {
      "text/html": [
       "<ol class=list-inline>\n",
       "\t<li>0</li>\n",
       "\t<li>64</li>\n",
       "</ol>\n"
      ],
      "text/latex": [
       "\\begin{enumerate*}\n",
       "\\item 0\n",
       "\\item 64\n",
       "\\end{enumerate*}\n"
      ],
      "text/markdown": [
       "1. 0\n",
       "2. 64\n",
       "\n",
       "\n"
      ],
      "text/plain": [
       "[1]  0 64"
      ]
     },
     "metadata": {},
     "output_type": "display_data"
    },
    {
     "data": {
      "text/html": [
       "<ol class=list-inline>\n",
       "\t<li>-0.0025</li>\n",
       "\t<li>63.99</li>\n",
       "</ol>\n"
      ],
      "text/latex": [
       "\\begin{enumerate*}\n",
       "\\item -0.0025\n",
       "\\item 63.99\n",
       "\\end{enumerate*}\n"
      ],
      "text/markdown": [
       "1. -0.0025\n",
       "2. 63.99\n",
       "\n",
       "\n"
      ],
      "text/plain": [
       "[1] -0.0025 63.9900"
      ]
     },
     "metadata": {},
     "output_type": "display_data"
    },
    {
     "data": {
      "text/html": [
       "<ol class=list-inline>\n",
       "\t<li>0</li>\n",
       "\t<li>63.9925</li>\n",
       "</ol>\n"
      ],
      "text/latex": [
       "\\begin{enumerate*}\n",
       "\\item 0\n",
       "\\item 63.9925\n",
       "\\end{enumerate*}\n"
      ],
      "text/markdown": [
       "1. 0\n",
       "2. 63.9925\n",
       "\n",
       "\n"
      ],
      "text/plain": [
       "[1]  0.0000 63.9925"
      ]
     },
     "metadata": {},
     "output_type": "display_data"
    }
   ],
   "source": [
    "m <- as.matrix(dist)\n",
    "m <- fillLowerTri(m)\n",
    "range(m)\n",
    "diag(m) = 0\n",
    "\n",
    "m2 <- as.matrix(wordct)\n",
    "m2 <- fillLowerTri(m2)\n",
    "m2 <- m2/2\n",
    "range(m2)\n",
    "\n",
    "m3 <- as.matrix(matchct)\n",
    "m3 <- fillLowerTri(m3)\n",
    "range(m3)\n",
    "\n",
    "#unmatchedWordCount\n",
    "m4 <- m2 - m3\n",
    "range(m4)\n",
    "m4 <- m4+abs(min(m4))\n",
    "m4 <- m4*m4\n",
    "# m4 <- m4/max(m4)\n",
    "which(m4[lower.tri(m4)] == 0)\n",
    "range(m4)\n",
    "\n",
    "\n",
    "#invert the distance matrix\n",
    "m <- m*m\n",
    "# m[which(m == 0)] = -1\n",
    "range(m)\n",
    "# m <- 1/m\n",
    "# m[which(m == -1)] = 0\n",
    "range(m)\n",
    "\n",
    "\n",
    "m5 <- m - m4*0.01\n",
    "m5[which(m4 == 0)] = 0\n",
    "range(m5)\n",
    "m5 = max(m5)-m5\n",
    "range(m5)\n",
    "# m5 = abs(m5)\n",
    "\n"
   ]
  },
  {
   "cell_type": "code",
   "execution_count": 16,
   "id": "92ac9604",
   "metadata": {
    "scrolled": false
   },
   "outputs": [],
   "source": [
    "d <- as.dist(m5)\n",
    "h <- hclust(d)\n",
    "tre <- as.dendrogram(h)"
   ]
  },
  {
   "cell_type": "code",
   "execution_count": 17,
   "id": "fd1d63f6",
   "metadata": {
    "scrolled": false
   },
   "outputs": [
    {
     "data": {
      "image/png": "[encoded data removed]",
      "text/plain": [
       "plot without title"
      ]
     },
     "metadata": {},
     "output_type": "display_data"
    }
   ],
   "source": [
    "par(cex=0.5, mar=c(5, 8, 4, 1))\n",
    "plot(tre, horiz = T)"
   ]
  },
  {
   "cell_type": "code",
   "execution_count": 18,
   "id": "3b8c9b75",
   "metadata": {
    "scrolled": true
   },
   "outputs": [
    {
     "name": "stdout",
     "output_type": "stream",
     "text": [
      "x1398\n",
      "x1012\n",
      "x973\n",
      "x1641\n",
      "x2680\n",
      "x685\n",
      "x2685\n",
      "x1675\n",
      "x1657\n",
      "x1390\n",
      "x2809\n",
      "x2274\n",
      "x2879\n",
      "x534\n",
      "x1396\n",
      "x1272\n",
      "x6\n",
      "x1425\n",
      "x2457\n",
      "x1476\n",
      "x398\n",
      "x1915\n",
      "x542\n",
      "x2877\n",
      "x2364\n",
      "x2678\n",
      "x1230\n",
      "x1802\n",
      "x1733\n",
      "x1907\n",
      "x2610\n",
      "x2212\n",
      "x1110\n",
      "x2112\n",
      "x1080\n",
      "x2938\n",
      "x2949\n",
      "x37\n",
      "x441\n",
      "x1869\n",
      "x2900\n",
      "x808\n",
      "x901\n",
      "x609\n",
      "x2683\n",
      "x365\n",
      "x2876\n",
      "x2767\n",
      "x1609\n",
      "x2947\n",
      "x1991\n",
      "x334\n",
      "x2854\n",
      "x1639\n",
      "x2679\n",
      "x689\n",
      "x2932\n",
      "x371\n",
      "x1879\n",
      "x1289\n"
     ]
    },
    {
     "data": {
      "text/html": [
       "<ol class=list-inline>\n",
       "\t<li>60</li>\n",
       "\t<li>71</li>\n",
       "</ol>\n"
      ],
      "text/latex": [
       "\\begin{enumerate*}\n",
       "\\item 60\n",
       "\\item 71\n",
       "\\end{enumerate*}\n"
      ],
      "text/markdown": [
       "1. 60\n",
       "2. 71\n",
       "\n",
       "\n"
      ],
      "text/plain": [
       "[1] 60 71"
      ]
     },
     "metadata": {},
     "output_type": "display_data"
    },
    {
     "data": {
      "text/html": [
       "<ol class=list-inline>\n",
       "\t<li>'sno'</li>\n",
       "\t<li>'Year'</li>\n",
       "\t<li>'Title'</li>\n",
       "\t<li>'clean Title + Ontology Terms'</li>\n",
       "\t<li>'uniq_project_title'</li>\n",
       "\t<li>'ProjectID3'</li>\n",
       "\t<li>'uniqProjectID'</li>\n",
       "\t<li>'multischool_project'</li>\n",
       "\t<li>'ProjectApproach'</li>\n",
       "\t<li>'OnotologyTerms'</li>\n",
       "\t<li>'Field'</li>\n",
       "\t<li>'AppliedTo'</li>\n",
       "\t<li>'AppliedValue'</li>\n",
       "\t<li>'ProjectField'</li>\n",
       "\t<li>'Cancer'</li>\n",
       "\t<li>'AI_ML'</li>\n",
       "\t<li>'InfectiousDiseases_Covid'</li>\n",
       "\t<li>'Water'</li>\n",
       "\t<li>'energy'</li>\n",
       "\t<li>'medical'</li>\n",
       "\t<li>'pollution'</li>\n",
       "\t<li>'Category'</li>\n",
       "\t<li>'SchoolName'</li>\n",
       "\t<li>'school_id'</li>\n",
       "\t<li>'school_region'</li>\n",
       "\t<li>'zip'</li>\n",
       "\t<li>'gender'</li>\n",
       "\t<li>'grade'</li>\n",
       "\t<li>'award'</li>\n",
       "\t<li>'awardvalue'</li>\n",
       "\t<li>'Ethnicity'</li>\n",
       "\t<li>'Race'</li>\n",
       "\t<li>'PerfBySchoolByYr'</li>\n",
       "\t<li>'RacePercBySchoolAllYears'</li>\n",
       "\t<li>'TotalStudentParticipatedAllYears'</li>\n",
       "\t<li>'StudentsByYearBySchool'</li>\n",
       "\t<li>'AllGender'</li>\n",
       "\t<li>'AllGrade'</li>\n",
       "\t<li>'AllEthnicity'</li>\n",
       "\t<li>'GenderComp'</li>\n",
       "\t<li>'AvgGrade'</li>\n",
       "\t<li>'EthnicityComp'</li>\n",
       "\t<li>'team_size'</li>\n",
       "\t<li>'award_value'</li>\n",
       "\t<li>'Total_awardValue'</li>\n",
       "\t<li>'TotalProjectFromSchoolAllYears'</li>\n",
       "\t<li>'NumberOfYearsParticipated'</li>\n",
       "\t<li>'2019Score'</li>\n",
       "\t<li>'2019SchoolRank'</li>\n",
       "\t<li>'2018Rank'</li>\n",
       "\t<li>'isCharter'</li>\n",
       "\t<li>'isTitle1'</li>\n",
       "\t<li>'NumStudents'</li>\n",
       "\t<li>'NumTeachers'</li>\n",
       "\t<li>'SpendingPerPupil'</li>\n",
       "\t<li>'White%'</li>\n",
       "\t<li>'Black%'</li>\n",
       "\t<li>'Hispanic%'</li>\n",
       "\t<li>'Asian%'</li>\n",
       "\t<li>'American_Indian%'</li>\n",
       "\t<li>'Pacific_Islander%'</li>\n",
       "\t<li>'Two_or_more_races%'</li>\n",
       "\t<li>'WhitePercInMSEF'</li>\n",
       "\t<li>'BlackPercInMSEF'</li>\n",
       "\t<li>'HispanicPercInMSEF'</li>\n",
       "\t<li>'AsianPercInMSEF'</li>\n",
       "\t<li>'SchoolDiversity'</li>\n",
       "\t<li>'MSEFDiversity'</li>\n",
       "\t<li>'DeviationEthnicityRep'</li>\n",
       "\t<li>'model'</li>\n",
       "\t<li>'clustord'</li>\n",
       "</ol>\n"
      ],
      "text/latex": [
       "\\begin{enumerate*}\n",
       "\\item 'sno'\n",
       "\\item 'Year'\n",
       "\\item 'Title'\n",
       "\\item 'clean Title + Ontology Terms'\n",
       "\\item 'uniq\\_project\\_title'\n",
       "\\item 'ProjectID3'\n",
       "\\item 'uniqProjectID'\n",
       "\\item 'multischool\\_project'\n",
       "\\item 'ProjectApproach'\n",
       "\\item 'OnotologyTerms'\n",
       "\\item 'Field'\n",
       "\\item 'AppliedTo'\n",
       "\\item 'AppliedValue'\n",
       "\\item 'ProjectField'\n",
       "\\item 'Cancer'\n",
       "\\item 'AI\\_ML'\n",
       "\\item 'InfectiousDiseases\\_Covid'\n",
       "\\item 'Water'\n",
       "\\item 'energy'\n",
       "\\item 'medical'\n",
       "\\item 'pollution'\n",
       "\\item 'Category'\n",
       "\\item 'SchoolName'\n",
       "\\item 'school\\_id'\n",
       "\\item 'school\\_region'\n",
       "\\item 'zip'\n",
       "\\item 'gender'\n",
       "\\item 'grade'\n",
       "\\item 'award'\n",
       "\\item 'awardvalue'\n",
       "\\item 'Ethnicity'\n",
       "\\item 'Race'\n",
       "\\item 'PerfBySchoolByYr'\n",
       "\\item 'RacePercBySchoolAllYears'\n",
       "\\item 'TotalStudentParticipatedAllYears'\n",
       "\\item 'StudentsByYearBySchool'\n",
       "\\item 'AllGender'\n",
       "\\item 'AllGrade'\n",
       "\\item 'AllEthnicity'\n",
       "\\item 'GenderComp'\n",
       "\\item 'AvgGrade'\n",
       "\\item 'EthnicityComp'\n",
       "\\item 'team\\_size'\n",
       "\\item 'award\\_value'\n",
       "\\item 'Total\\_awardValue'\n",
       "\\item 'TotalProjectFromSchoolAllYears'\n",
       "\\item 'NumberOfYearsParticipated'\n",
       "\\item '2019Score'\n",
       "\\item '2019SchoolRank'\n",
       "\\item '2018Rank'\n",
       "\\item 'isCharter'\n",
       "\\item 'isTitle1'\n",
       "\\item 'NumStudents'\n",
       "\\item 'NumTeachers'\n",
       "\\item 'SpendingPerPupil'\n",
       "\\item 'White\\%'\n",
       "\\item 'Black\\%'\n",
       "\\item 'Hispanic\\%'\n",
       "\\item 'Asian\\%'\n",
       "\\item 'American\\_Indian\\%'\n",
       "\\item 'Pacific\\_Islander\\%'\n",
       "\\item 'Two\\_or\\_more\\_races\\%'\n",
       "\\item 'WhitePercInMSEF'\n",
       "\\item 'BlackPercInMSEF'\n",
       "\\item 'HispanicPercInMSEF'\n",
       "\\item 'AsianPercInMSEF'\n",
       "\\item 'SchoolDiversity'\n",
       "\\item 'MSEFDiversity'\n",
       "\\item 'DeviationEthnicityRep'\n",
       "\\item 'model'\n",
       "\\item 'clustord'\n",
       "\\end{enumerate*}\n"
      ],
      "text/markdown": [
       "1. 'sno'\n",
       "2. 'Year'\n",
       "3. 'Title'\n",
       "4. 'clean Title + Ontology Terms'\n",
       "5. 'uniq_project_title'\n",
       "6. 'ProjectID3'\n",
       "7. 'uniqProjectID'\n",
       "8. 'multischool_project'\n",
       "9. 'ProjectApproach'\n",
       "10. 'OnotologyTerms'\n",
       "11. 'Field'\n",
       "12. 'AppliedTo'\n",
       "13. 'AppliedValue'\n",
       "14. 'ProjectField'\n",
       "15. 'Cancer'\n",
       "16. 'AI_ML'\n",
       "17. 'InfectiousDiseases_Covid'\n",
       "18. 'Water'\n",
       "19. 'energy'\n",
       "20. 'medical'\n",
       "21. 'pollution'\n",
       "22. 'Category'\n",
       "23. 'SchoolName'\n",
       "24. 'school_id'\n",
       "25. 'school_region'\n",
       "26. 'zip'\n",
       "27. 'gender'\n",
       "28. 'grade'\n",
       "29. 'award'\n",
       "30. 'awardvalue'\n",
       "31. 'Ethnicity'\n",
       "32. 'Race'\n",
       "33. 'PerfBySchoolByYr'\n",
       "34. 'RacePercBySchoolAllYears'\n",
       "35. 'TotalStudentParticipatedAllYears'\n",
       "36. 'StudentsByYearBySchool'\n",
       "37. 'AllGender'\n",
       "38. 'AllGrade'\n",
       "39. 'AllEthnicity'\n",
       "40. 'GenderComp'\n",
       "41. 'AvgGrade'\n",
       "42. 'EthnicityComp'\n",
       "43. 'team_size'\n",
       "44. 'award_value'\n",
       "45. 'Total_awardValue'\n",
       "46. 'TotalProjectFromSchoolAllYears'\n",
       "47. 'NumberOfYearsParticipated'\n",
       "48. '2019Score'\n",
       "49. '2019SchoolRank'\n",
       "50. '2018Rank'\n",
       "51. 'isCharter'\n",
       "52. 'isTitle1'\n",
       "53. 'NumStudents'\n",
       "54. 'NumTeachers'\n",
       "55. 'SpendingPerPupil'\n",
       "56. 'White%'\n",
       "57. 'Black%'\n",
       "58. 'Hispanic%'\n",
       "59. 'Asian%'\n",
       "60. 'American_Indian%'\n",
       "61. 'Pacific_Islander%'\n",
       "62. 'Two_or_more_races%'\n",
       "63. 'WhitePercInMSEF'\n",
       "64. 'BlackPercInMSEF'\n",
       "65. 'HispanicPercInMSEF'\n",
       "66. 'AsianPercInMSEF'\n",
       "67. 'SchoolDiversity'\n",
       "68. 'MSEFDiversity'\n",
       "69. 'DeviationEthnicityRep'\n",
       "70. 'model'\n",
       "71. 'clustord'\n",
       "\n",
       "\n"
      ],
      "text/plain": [
       " [1] \"sno\"                              \"Year\"                            \n",
       " [3] \"Title\"                            \"clean Title + Ontology Terms\"    \n",
       " [5] \"uniq_project_title\"               \"ProjectID3\"                      \n",
       " [7] \"uniqProjectID\"                    \"multischool_project\"             \n",
       " [9] \"ProjectApproach\"                  \"OnotologyTerms\"                  \n",
       "[11] \"Field\"                            \"AppliedTo\"                       \n",
       "[13] \"AppliedValue\"                     \"ProjectField\"                    \n",
       "[15] \"Cancer\"                           \"AI_ML\"                           \n",
       "[17] \"InfectiousDiseases_Covid\"         \"Water\"                           \n",
       "[19] \"energy\"                           \"medical\"                         \n",
       "[21] \"pollution\"                        \"Category\"                        \n",
       "[23] \"SchoolName\"                       \"school_id\"                       \n",
       "[25] \"school_region\"                    \"zip\"                             \n",
       "[27] \"gender\"                           \"grade\"                           \n",
       "[29] \"award\"                            \"awardvalue\"                      \n",
       "[31] \"Ethnicity\"                        \"Race\"                            \n",
       "[33] \"PerfBySchoolByYr\"                 \"RacePercBySchoolAllYears\"        \n",
       "[35] \"TotalStudentParticipatedAllYears\" \"StudentsByYearBySchool\"          \n",
       "[37] \"AllGender\"                        \"AllGrade\"                        \n",
       "[39] \"AllEthnicity\"                     \"GenderComp\"                      \n",
       "[41] \"AvgGrade\"                         \"EthnicityComp\"                   \n",
       "[43] \"team_size\"                        \"award_value\"                     \n",
       "[45] \"Total_awardValue\"                 \"TotalProjectFromSchoolAllYears\"  \n",
       "[47] \"NumberOfYearsParticipated\"        \"2019Score\"                       \n",
       "[49] \"2019SchoolRank\"                   \"2018Rank\"                        \n",
       "[51] \"isCharter\"                        \"isTitle1\"                        \n",
       "[53] \"NumStudents\"                      \"NumTeachers\"                     \n",
       "[55] \"SpendingPerPupil\"                 \"White%\"                          \n",
       "[57] \"Black%\"                           \"Hispanic%\"                       \n",
       "[59] \"Asian%\"                           \"American_Indian%\"                \n",
       "[61] \"Pacific_Islander%\"                \"Two_or_more_races%\"              \n",
       "[63] \"WhitePercInMSEF\"                  \"BlackPercInMSEF\"                 \n",
       "[65] \"HispanicPercInMSEF\"               \"AsianPercInMSEF\"                 \n",
       "[67] \"SchoolDiversity\"                  \"MSEFDiversity\"                   \n",
       "[69] \"DeviationEthnicityRep\"            \"model\"                           \n",
       "[71] \"clustord\"                        "
      ]
     },
     "metadata": {},
     "output_type": "display_data"
    },
    {
     "name": "stdout",
     "output_type": "stream",
     "text": [
      "The Effect of Heat on the Amount of Static Electricity Gathered\n",
      "Relationship between Temperature and Conductivity\n",
      "Liquids vs. Electrical Wires\n",
      "The Effect of Different Liquids on the Faraday Effect\n",
      "The Effectiveness of Manually Cooling a Hot Liquid\n",
      "The Boston Molasses Disaster\n",
      "Density Functional Theory Calculation of Electronic Structure of Fe-N-C, Fe-O-C, Fe-P-C, Fe-S-C Single-Atom Catalysts Systems\n",
      "Water Drying\n",
      "The Investigation of Pepper’s Ghost\n",
      "The Change in Resistance of Metals with Temperature\n",
      "Blood Spatter Analysis\n",
      "Blood Spatter\n",
      "All That Matters Is The Spatter\n",
      "An Analysis of Blood Stain Patterns\n",
      "The Effect of Electromagnetic Forces on Metal Rings\n",
      "Electromagnets\n",
      "Unveiling the Power of Supermassive Black Holes in Distant Galaxies\n",
      "The Power of PSI\n",
      "Turns out, The Earth is Round\n",
      "Are We Becoming More Alone in Space?\n",
      "The Causation of Glitches in Pulsars\n",
      "A Theory for Ring Formation Around Asteroid Chariklo\n",
      "Astronomical Spectroscopy\n",
      "Making Astronomical Observations Using the Electromagnetic Spectrum\n",
      "Impact of Observation Direction on Measuring the Universe's Expansion\n",
      "An Investigation of Dark Matter in M31 Andromeda Based on Stellar Density and Rotational Velocity\n",
      "Catching Stellar Dust\n",
      "An Algorithm to Uncover Exoplanets Using Stellar Spectral Properties\n",
      "A Novel Algorithm to Increase Exoplanetary Detection Accuracy\n",
      "A Correlation between Telescope Lens Diameter and Image Resolution\n",
      "Exploring the Dwarf Nova VW Hydri through TESS Photometry, Superhump Period Analysis, and SED Modeling\n",
      "Assessing the Authenticity of Planets Discovered Around Sun-Like Stars\n",
      "An Analysis of HRRGs with Mid-Range Spectral Indices at z ~ 6\n",
      "The Mystery Behind Aerial Warfare\n",
      "Varying Viscosity\n",
      "What Truly Happens in an Elevator\n",
      "Why So Tense?\n",
      "Stiletto Stress\n",
      "What's Nu? Solving for the Value of Planck's Constant\n",
      "Relativity: The Secrets of the Octonions\n",
      "Ping Pong Drop\n",
      "Tint Down the Rays!\n",
      "Do Heavier Marbles Roll Faster?\n",
      "Just Plane Physics\n",
      "Travelling Through Walls\n",
      "Aerodynamics in Ice Hockey\n",
      "The Magnus Effect\n",
      "Studying the Polarization of Light Using Chiral Substances\n",
      "Photovoltaichroma\n",
      "Wavelengths of Light\n",
      "Exploring the Diffractive Bending of Light Through Apertures\n",
      "The Speed of Light … Does a Medium's Density Affect It?\n",
      "How Golf Ball Core Affects Distance\n",
      "The Effect of Different Alcohols on Cloud Chamber Reactivity\n",
      "The Effect of Ski Goggle Tint on Sunlight Transmission\n",
      "The Danger of Dark Lightning\n",
      "The Effects of Temperature and Humidity on Night Sky Visibility\n",
      "Correlation between the Acoustic Signatures: Expensive Vs. Inexpensive\n",
      "Visualization of Sound Waves in 3D\n",
      "Harp Strings and Humidity\n"
     ]
    }
   ],
   "source": [
    "labs <- rev(h$labels[h$order])\n",
    "cat(labs, sep = \"\\n\")\n",
    "model <- paste(\"x\", msef$sno, sep = \"\")\n",
    "rownames(msef) <- model\n",
    "msef <- cbind(msef, model)\n",
    "clustord <- c(1:length(labs))\n",
    "msef <- cbind(msef[labs,], clustord)\n",
    "dim(msef)\n",
    "colnames(msef)\n",
    "# msef[labs,c(1,2)]\n",
    "#msef <- cbind(msef, t)\n",
    "cat(unlist(msef[labs,\"Title\"]), sep = \"\\n\")"
   ]
  },
  {
   "cell_type": "code",
   "execution_count": 19,
   "id": "89f9302d",
   "metadata": {
    "scrolled": false
   },
   "outputs": [
    {
     "data": {
      "image/png": "[encoded data removed]",
      "text/plain": [
       "plot without title"
      ]
     },
     "metadata": {},
     "output_type": "display_data"
    }
   ],
   "source": [
    "cluster <- cutree(h, k=12)\n",
    "xy <- data.frame(cmdscale(d), factor(cluster))\n",
    "names(xy) <- c(\"x\", \"y\", \"cluster\")\n",
    "xy$model <- rownames(xy)\n",
    "\n",
    "ggplot(xy, aes(x, y)) + geom_point(aes(colour=cluster), size=1)"
   ]
  },
  {
   "cell_type": "code",
   "execution_count": 20,
   "id": "2e23608c",
   "metadata": {},
   "outputs": [],
   "source": [
    "#xy\n",
    "#reord <- merge(xy, msef, by = rownames)\n",
    "msef <- merge(msef, xy, by = \"model\")\n",
    "write.table(msef, file = \"PhysicsProjects_msef_clusteringOrd.txt\", sep = \"\\t\", row.names=F)"
   ]
  },
  {
   "cell_type": "code",
   "execution_count": 14,
   "id": "3009d81f",
   "metadata": {},
   "outputs": [],
   "source": []
  },
  {
   "cell_type": "code",
   "execution_count": null,
   "id": "67137a09",
   "metadata": {},
   "outputs": [],
   "source": []
  }
 ],
 "metadata": {
  "kernelspec": {
   "display_name": "R",
   "language": "R",
   "name": "ir"
  },
  "language_info": {
   "codemirror_mode": "r",
   "file_extension": ".r",
   "mimetype": "text/x-r-source",
   "name": "R",
   "pygments_lexer": "r",
   "version": "3.6.1"
  }
 },
 "nbformat": 4,
 "nbformat_minor": 5
}
