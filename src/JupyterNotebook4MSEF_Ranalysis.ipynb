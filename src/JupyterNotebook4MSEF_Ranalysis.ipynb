{
 "cells": [
  {
   "cell_type": "code",
   "execution_count": 1,
   "id": "b04880aa",
   "metadata": {},
   "outputs": [
    {
     "name": "stderr",
     "output_type": "stream",
     "text": [
      "Registered S3 methods overwritten by 'ggplot2':\n",
      "  method         from \n",
      "  [.quosures     rlang\n",
      "  c.quosures     rlang\n",
      "  print.quosures rlang\n",
      "Registered S3 method overwritten by 'rvest':\n",
      "  method            from\n",
      "  read_xml.response xml2\n",
      "-- Attaching packages --------------------------------------- tidyverse 1.2.1 --\n",
      "v ggplot2 3.1.1       v purrr   0.3.2  \n",
      "v tibble  2.1.1       v dplyr   0.8.0.1\n",
      "v tidyr   0.8.3       v stringr 1.4.0  \n",
      "v readr   1.3.1       v forcats 0.4.0  \n",
      "-- Conflicts ------------------------------------------ tidyverse_conflicts() --\n",
      "x dplyr::filter() masks stats::filter()\n",
      "x dplyr::lag()    masks stats::lag()\n"
     ]
    }
   ],
   "source": [
    "setwd(\"C:/Users/rohan/Jupyter Projects/MSEF/FinalWorkingSpace\")\n",
    "#This is where all my data set, results etc go.\n",
    "library(tidyverse)\n",
    "library(readxl)\n",
    "library(dplyr)\n",
    "library(ggplot2)"
   ]
  },
  {
   "cell_type": "code",
   "execution_count": 2,
   "id": "861293fc",
   "metadata": {},
   "outputs": [],
   "source": [
    "getcolids <- function(df, collabels){\n",
    "    col_labels <- colnames(df)\n",
    "    colids = which(col_labels %in% collabels)\n",
    "    return(colids)\n",
    "}\n",
    "getUniqRows <- function(df, collabs){\n",
    "# function to take in a data frame and two or more columns that you want to pull a combination of uniq values and get one row each of the data frame for each of the unique values.\n",
    "    colids <- getcolids(df, collabs)\n",
    "    newvar <- apply(df[,colids], 1, paste, collapse = \"_\")\n",
    "    ord = order(newvar);\n",
    "    tvar = newvar[ord]\n",
    "    tvar2 = tvar\n",
    "    tvar2[2:length(tvar2)] = tvar[1:length(tvar)-1]\n",
    "    tvar2[1] = 0\n",
    "    idx = which((tvar2 == tvar) == 0)\n",
    "    return(df[ord[idx],])\n",
    "}\n",
    "\n",
    "getCounts <- function(df, collabs){\n",
    "    tab <- table(df[,collabs])\n",
    "    tab[(tab != 0)] = 1\n",
    "    res <- apply(tab, 2, sum)\n",
    "    return(res)\n",
    "}\n",
    "\n",
    "setDataType <- function(df, numcols, facCols){\n",
    "    for (col in numcols){\n",
    "        temp <- unlist(df[,col])\n",
    "        df[,col] <- as.numeric(temp)\n",
    "    }\n",
    "    for (col in facCols){\n",
    "        temp <- unlist(df[,col])\n",
    "#        print(class(df[,col]))\n",
    "        df[,col] <- as.factor(temp)    \n",
    "    }\n",
    "    return(df)\n",
    "}\n",
    "createSummaryStats <- function(df){\n",
    "    print(dim(df))\n",
    "    for (col in colnames(df)) {\n",
    "        temp <- unlist(df[,col])\n",
    "        print(paste(c(col, class(temp)), sep = \" \"))\n",
    "        if (class(temp) == \"character\"){\n",
    "            vals = length(unique(temp))\n",
    "            print(paste(c(\"unique values\", vals), sep = \" \"))\n",
    "        }else {\n",
    "            print(summary(temp))\n",
    "        }\n",
    "    }\n",
    "}\n",
    "    \n",
    "\n",
    "colorsGray = c(\"gray90\", \"gray70\", \"gray50\", \"grey30\", \"grey10\",\"slategray\",\"darkslategrey\")\n",
    "colors4plots = c(\"coral\", \"chartreuse3\", \"cadetblue3\", \"deepskyblue2\", \"darkorchid1\", \"goldenrod2\", \"magenta1\", \"tan4\", \"lightslateblue\", \"gray70\")\n"
   ]
  },
  {
   "cell_type": "code",
   "execution_count": 3,
   "id": "4703e6a1",
   "metadata": {
    "scrolled": false
   },
   "outputs": [],
   "source": [
    "dat <- read_excel(\"MSEF_data2_20210907.xlsx\", sheet = \"ParticipantLevel\", na = \"NA\")"
   ]
  },
  {
   "cell_type": "code",
   "execution_count": 4,
   "id": "d1e0696f",
   "metadata": {
    "scrolled": true
   },
   "outputs": [
    {
     "data": {
      "text/html": [
       "<ol class=list-inline>\n",
       "\t<li>2928</li>\n",
       "\t<li>65</li>\n",
       "</ol>\n"
      ],
      "text/latex": [
       "\\begin{enumerate*}\n",
       "\\item 2928\n",
       "\\item 65\n",
       "\\end{enumerate*}\n"
      ],
      "text/markdown": [
       "1. 2928\n",
       "2. 65\n",
       "\n",
       "\n"
      ],
      "text/plain": [
       "[1] 2928   65"
      ]
     },
     "metadata": {},
     "output_type": "display_data"
    },
    {
     "data": {
      "text/html": [
       "<table>\n",
       "<thead><tr><th scope=col>sno</th><th scope=col>Year</th><th scope=col>Title</th><th scope=col>cleanTitle</th><th scope=col>uniq_project_title</th><th scope=col>ProjectID3</th><th scope=col>uniqProjectID</th><th scope=col>multischool_project</th><th scope=col>ProjectApproach</th><th scope=col>class_ontology</th><th scope=col>...</th><th scope=col>American_Indian%</th><th scope=col>Pacific_Islander%</th><th scope=col>Two_or_more_races%</th><th scope=col>WhitePercInMSEF</th><th scope=col>BlackPercInMSEF</th><th scope=col>HispanicPercInMSEF</th><th scope=col>AsianPercInMSEF</th><th scope=col>SchoolDiversity</th><th scope=col>MSEFDiversity</th><th scope=col>DeviationEthnicityRep</th></tr></thead>\n",
       "<tbody>\n",
       "\t<tr><td> 900                                                                  </td><td>2016                                                                  </td><td>Do All Store Bought Yogurts Have Good Bacteria?                       </td><td>do all store bought yogurts have good bacteria                        </td><td>1                                                                     </td><td>632                                                                   </td><td>1                                                                     </td><td>NA                                                                    </td><td>a                                                                     </td><td>NA                                                                    </td><td>...                                                                   </td><td>0.005                                                                 </td><td>0.002                                                                 </td><td>0.019                                                                 </td><td>0.0000000                                                             </td><td>0.0000000                                                             </td><td>1.0000000                                                             </td><td>0                                                                     </td><td>-0.4003085                                                            </td><td> 0.0000000                                                            </td><td>0.31478600                                                            </td></tr>\n",
       "\t<tr><td> 529                                                                  </td><td>2015                                                                  </td><td>Algae to Green Diesel                                                 </td><td>algae to green diesel                                                 </td><td>1                                                                     </td><td>201                                                                   </td><td>1                                                                     </td><td>NA                                                                    </td><td>m                                                                     </td><td>NA                                                                    </td><td>...                                                                   </td><td>0.003                                                                 </td><td>0.000                                                                 </td><td>0.022                                                                 </td><td>0.0000000                                                             </td><td>0.0000000                                                             </td><td>0.0000000                                                             </td><td>1                                                                     </td><td>-0.3829768                                                            </td><td> 0.0000000                                                            </td><td>1.47505100                                                            </td></tr>\n",
       "\t<tr><td>1956                                                                  </td><td>2019                                                                  </td><td>Devel of Bdelloid Rotifers As Experimental Model For Cell Rejuvenation</td><td>devel of bdelloid rotifers as experimental model for cell rejuvenation</td><td>2                                                                     </td><td>584                                                                   </td><td>2                                                                     </td><td>NA                                                                    </td><td>a                                                                     </td><td>NA                                                                    </td><td>...                                                                   </td><td>0.000                                                                 </td><td>0.005                                                                 </td><td>0.012                                                                 </td><td>0.1111111                                                             </td><td>0.6666667                                                             </td><td>0.1111111                                                             </td><td>0                                                                     </td><td>-0.3368587                                                            </td><td>-0.3294481                                                            </td><td>0.02741558                                                            </td></tr>\n",
       "\t<tr><td>1957                                                                  </td><td>2019                                                                  </td><td>Devel of Bdelloid Rotifers As Experimental Model For Cell Rejuvenation</td><td>devel of bdelloid rotifers as experimental model for cell rejuvenation</td><td>3                                                                     </td><td>584                                                                   </td><td>3                                                                     </td><td>NA                                                                    </td><td>a                                                                     </td><td>NA                                                                    </td><td>...                                                                   </td><td>0.000                                                                 </td><td>0.005                                                                 </td><td>0.012                                                                 </td><td>0.1111111                                                             </td><td>0.6666667                                                             </td><td>0.1111111                                                             </td><td>0                                                                     </td><td>-0.3368587                                                            </td><td>-0.3294481                                                            </td><td>0.02741558                                                            </td></tr>\n",
       "\t<tr><td>1995                                                                  </td><td>2019                                                                  </td><td>Food Waste At The Burke                                               </td><td>food waste at the burke                                               </td><td>1                                                                     </td><td>917                                                                   </td><td>1                                                                     </td><td>NA                                                                    </td><td>a                                                                     </td><td>location,                                                             </td><td>...                                                                   </td><td>0.000                                                                 </td><td>0.005                                                                 </td><td>0.012                                                                 </td><td>0.1111111                                                             </td><td>0.6666667                                                             </td><td>0.1111111                                                             </td><td>0                                                                     </td><td>-0.3368587                                                            </td><td>-0.3294481                                                            </td><td>0.02741558                                                            </td></tr>\n",
       "\t<tr><td>1996                                                                  </td><td>2019                                                                  </td><td>Food Waste At The Burke                                               </td><td>food waste at the burke                                               </td><td>2                                                                     </td><td>917                                                                   </td><td>2                                                                     </td><td>NA                                                                    </td><td>a                                                                     </td><td>NA                                                                    </td><td>...                                                                   </td><td>0.000                                                                 </td><td>0.005                                                                 </td><td>0.012                                                                 </td><td>0.1111111                                                             </td><td>0.6666667                                                             </td><td>0.1111111                                                             </td><td>0                                                                     </td><td>-0.3368587                                                            </td><td>-0.3294481                                                            </td><td>0.02741558                                                            </td></tr>\n",
       "</tbody>\n",
       "</table>\n"
      ],
      "text/latex": [
       "\\begin{tabular}{r|lllllllllllllllllllllllllllllllllllllllllllllllllllllllllllllllll}\n",
       " sno & Year & Title & cleanTitle & uniq\\_project\\_title & ProjectID3 & uniqProjectID & multischool\\_project & ProjectApproach & class\\_ontology & ... & American\\_Indian\\% & Pacific\\_Islander\\% & Two\\_or\\_more\\_races\\% & WhitePercInMSEF & BlackPercInMSEF & HispanicPercInMSEF & AsianPercInMSEF & SchoolDiversity & MSEFDiversity & DeviationEthnicityRep\\\\\n",
       "\\hline\n",
       "\t  900                                                                   & 2016                                                                   & Do All Store Bought Yogurts Have Good Bacteria?                        & do all store bought yogurts have good bacteria                         & 1                                                                      & 632                                                                    & 1                                                                      & NA                                                                     & a                                                                      & NA                                                                     & ...                                                                    & 0.005                                                                  & 0.002                                                                  & 0.019                                                                  & 0.0000000                                                              & 0.0000000                                                              & 1.0000000                                                              & 0                                                                      & -0.4003085                                                             &  0.0000000                                                             & 0.31478600                                                            \\\\\n",
       "\t  529                                                                   & 2015                                                                   & Algae to Green Diesel                                                  & algae to green diesel                                                  & 1                                                                      & 201                                                                    & 1                                                                      & NA                                                                     & m                                                                      & NA                                                                     & ...                                                                    & 0.003                                                                  & 0.000                                                                  & 0.022                                                                  & 0.0000000                                                              & 0.0000000                                                              & 0.0000000                                                              & 1                                                                      & -0.3829768                                                             &  0.0000000                                                             & 1.47505100                                                            \\\\\n",
       "\t 1956                                                                   & 2019                                                                   & Devel of Bdelloid Rotifers As Experimental Model For Cell Rejuvenation & devel of bdelloid rotifers as experimental model for cell rejuvenation & 2                                                                      & 584                                                                    & 2                                                                      & NA                                                                     & a                                                                      & NA                                                                     & ...                                                                    & 0.000                                                                  & 0.005                                                                  & 0.012                                                                  & 0.1111111                                                              & 0.6666667                                                              & 0.1111111                                                              & 0                                                                      & -0.3368587                                                             & -0.3294481                                                             & 0.02741558                                                            \\\\\n",
       "\t 1957                                                                   & 2019                                                                   & Devel of Bdelloid Rotifers As Experimental Model For Cell Rejuvenation & devel of bdelloid rotifers as experimental model for cell rejuvenation & 3                                                                      & 584                                                                    & 3                                                                      & NA                                                                     & a                                                                      & NA                                                                     & ...                                                                    & 0.000                                                                  & 0.005                                                                  & 0.012                                                                  & 0.1111111                                                              & 0.6666667                                                              & 0.1111111                                                              & 0                                                                      & -0.3368587                                                             & -0.3294481                                                             & 0.02741558                                                            \\\\\n",
       "\t 1995                                                                   & 2019                                                                   & Food Waste At The Burke                                                & food waste at the burke                                                & 1                                                                      & 917                                                                    & 1                                                                      & NA                                                                     & a                                                                      & location,                                                              & ...                                                                    & 0.000                                                                  & 0.005                                                                  & 0.012                                                                  & 0.1111111                                                              & 0.6666667                                                              & 0.1111111                                                              & 0                                                                      & -0.3368587                                                             & -0.3294481                                                             & 0.02741558                                                            \\\\\n",
       "\t 1996                                                                   & 2019                                                                   & Food Waste At The Burke                                                & food waste at the burke                                                & 2                                                                      & 917                                                                    & 2                                                                      & NA                                                                     & a                                                                      & NA                                                                     & ...                                                                    & 0.000                                                                  & 0.005                                                                  & 0.012                                                                  & 0.1111111                                                              & 0.6666667                                                              & 0.1111111                                                              & 0                                                                      & -0.3368587                                                             & -0.3294481                                                             & 0.02741558                                                            \\\\\n",
       "\\end{tabular}\n"
      ],
      "text/markdown": [
       "\n",
       "| sno | Year | Title | cleanTitle | uniq_project_title | ProjectID3 | uniqProjectID | multischool_project | ProjectApproach | class_ontology | ... | American_Indian% | Pacific_Islander% | Two_or_more_races% | WhitePercInMSEF | BlackPercInMSEF | HispanicPercInMSEF | AsianPercInMSEF | SchoolDiversity | MSEFDiversity | DeviationEthnicityRep |\n",
       "|---|---|---|---|---|---|---|---|---|---|---|---|---|---|---|---|---|---|---|---|---|\n",
       "|  900                                                                   | 2016                                                                   | Do All Store Bought Yogurts Have Good Bacteria?                        | do all store bought yogurts have good bacteria                         | 1                                                                      | 632                                                                    | 1                                                                      | NA                                                                     | a                                                                      | NA                                                                     | ...                                                                    | 0.005                                                                  | 0.002                                                                  | 0.019                                                                  | 0.0000000                                                              | 0.0000000                                                              | 1.0000000                                                              | 0                                                                      | -0.4003085                                                             |  0.0000000                                                             | 0.31478600                                                             |\n",
       "|  529                                                                   | 2015                                                                   | Algae to Green Diesel                                                  | algae to green diesel                                                  | 1                                                                      | 201                                                                    | 1                                                                      | NA                                                                     | m                                                                      | NA                                                                     | ...                                                                    | 0.003                                                                  | 0.000                                                                  | 0.022                                                                  | 0.0000000                                                              | 0.0000000                                                              | 0.0000000                                                              | 1                                                                      | -0.3829768                                                             |  0.0000000                                                             | 1.47505100                                                             |\n",
       "| 1956                                                                   | 2019                                                                   | Devel of Bdelloid Rotifers As Experimental Model For Cell Rejuvenation | devel of bdelloid rotifers as experimental model for cell rejuvenation | 2                                                                      | 584                                                                    | 2                                                                      | NA                                                                     | a                                                                      | NA                                                                     | ...                                                                    | 0.000                                                                  | 0.005                                                                  | 0.012                                                                  | 0.1111111                                                              | 0.6666667                                                              | 0.1111111                                                              | 0                                                                      | -0.3368587                                                             | -0.3294481                                                             | 0.02741558                                                             |\n",
       "| 1957                                                                   | 2019                                                                   | Devel of Bdelloid Rotifers As Experimental Model For Cell Rejuvenation | devel of bdelloid rotifers as experimental model for cell rejuvenation | 3                                                                      | 584                                                                    | 3                                                                      | NA                                                                     | a                                                                      | NA                                                                     | ...                                                                    | 0.000                                                                  | 0.005                                                                  | 0.012                                                                  | 0.1111111                                                              | 0.6666667                                                              | 0.1111111                                                              | 0                                                                      | -0.3368587                                                             | -0.3294481                                                             | 0.02741558                                                             |\n",
       "| 1995                                                                   | 2019                                                                   | Food Waste At The Burke                                                | food waste at the burke                                                | 1                                                                      | 917                                                                    | 1                                                                      | NA                                                                     | a                                                                      | location,                                                              | ...                                                                    | 0.000                                                                  | 0.005                                                                  | 0.012                                                                  | 0.1111111                                                              | 0.6666667                                                              | 0.1111111                                                              | 0                                                                      | -0.3368587                                                             | -0.3294481                                                             | 0.02741558                                                             |\n",
       "| 1996                                                                   | 2019                                                                   | Food Waste At The Burke                                                | food waste at the burke                                                | 2                                                                      | 917                                                                    | 2                                                                      | NA                                                                     | a                                                                      | NA                                                                     | ...                                                                    | 0.000                                                                  | 0.005                                                                  | 0.012                                                                  | 0.1111111                                                              | 0.6666667                                                              | 0.1111111                                                              | 0                                                                      | -0.3368587                                                             | -0.3294481                                                             | 0.02741558                                                             |\n",
       "\n"
      ],
      "text/plain": [
       "  sno  Year\n",
       "1  900 2016\n",
       "2  529 2015\n",
       "3 1956 2019\n",
       "4 1957 2019\n",
       "5 1995 2019\n",
       "6 1996 2019\n",
       "  Title                                                                 \n",
       "1 Do All Store Bought Yogurts Have Good Bacteria?                       \n",
       "2 Algae to Green Diesel                                                 \n",
       "3 Devel of Bdelloid Rotifers As Experimental Model For Cell Rejuvenation\n",
       "4 Devel of Bdelloid Rotifers As Experimental Model For Cell Rejuvenation\n",
       "5 Food Waste At The Burke                                               \n",
       "6 Food Waste At The Burke                                               \n",
       "  cleanTitle                                                            \n",
       "1 do all store bought yogurts have good bacteria                        \n",
       "2 algae to green diesel                                                 \n",
       "3 devel of bdelloid rotifers as experimental model for cell rejuvenation\n",
       "4 devel of bdelloid rotifers as experimental model for cell rejuvenation\n",
       "5 food waste at the burke                                               \n",
       "6 food waste at the burke                                               \n",
       "  uniq_project_title ProjectID3 uniqProjectID multischool_project\n",
       "1 1                  632        1             NA                 \n",
       "2 1                  201        1             NA                 \n",
       "3 2                  584        2             NA                 \n",
       "4 3                  584        3             NA                 \n",
       "5 1                  917        1             NA                 \n",
       "6 2                  917        2             NA                 \n",
       "  ProjectApproach class_ontology ... American_Indian% Pacific_Islander%\n",
       "1 a               NA             ... 0.005            0.002            \n",
       "2 m               NA             ... 0.003            0.000            \n",
       "3 a               NA             ... 0.000            0.005            \n",
       "4 a               NA             ... 0.000            0.005            \n",
       "5 a               location,      ... 0.000            0.005            \n",
       "6 a               NA             ... 0.000            0.005            \n",
       "  Two_or_more_races% WhitePercInMSEF BlackPercInMSEF HispanicPercInMSEF\n",
       "1 0.019              0.0000000       0.0000000       1.0000000         \n",
       "2 0.022              0.0000000       0.0000000       0.0000000         \n",
       "3 0.012              0.1111111       0.6666667       0.1111111         \n",
       "4 0.012              0.1111111       0.6666667       0.1111111         \n",
       "5 0.012              0.1111111       0.6666667       0.1111111         \n",
       "6 0.012              0.1111111       0.6666667       0.1111111         \n",
       "  AsianPercInMSEF SchoolDiversity MSEFDiversity DeviationEthnicityRep\n",
       "1 0               -0.4003085       0.0000000    0.31478600           \n",
       "2 1               -0.3829768       0.0000000    1.47505100           \n",
       "3 0               -0.3368587      -0.3294481    0.02741558           \n",
       "4 0               -0.3368587      -0.3294481    0.02741558           \n",
       "5 0               -0.3368587      -0.3294481    0.02741558           \n",
       "6 0               -0.3368587      -0.3294481    0.02741558           "
      ]
     },
     "metadata": {},
     "output_type": "display_data"
    },
    {
     "data": {
      "text/html": [
       "<ol class=list-inline>\n",
       "\t<li>'sno'</li>\n",
       "\t<li>'Year'</li>\n",
       "\t<li>'Title'</li>\n",
       "\t<li>'cleanTitle'</li>\n",
       "\t<li>'uniq_project_title'</li>\n",
       "\t<li>'ProjectID3'</li>\n",
       "\t<li>'uniqProjectID'</li>\n",
       "\t<li>'multischool_project'</li>\n",
       "\t<li>'ProjectApproach'</li>\n",
       "\t<li>'class_ontology'</li>\n",
       "\t<li>'Field'</li>\n",
       "\t<li>'AppliedTo'</li>\n",
       "\t<li>'AppliedValue'</li>\n",
       "\t<li>'ProjectField'</li>\n",
       "\t<li>'Cancer'</li>\n",
       "\t<li>'AI_ML'</li>\n",
       "\t<li>'InfectiousDiseases_Covid'</li>\n",
       "\t<li>'Category'</li>\n",
       "\t<li>'SchoolName'</li>\n",
       "\t<li>'school_id'</li>\n",
       "\t<li>'school_region'</li>\n",
       "\t<li>'zip'</li>\n",
       "\t<li>'gender'</li>\n",
       "\t<li>'grade'</li>\n",
       "\t<li>'award'</li>\n",
       "\t<li>'awardvalue'</li>\n",
       "\t<li>'Ethnicity'</li>\n",
       "\t<li>'Race'</li>\n",
       "\t<li>'PerfBySchoolByYr'</li>\n",
       "\t<li>'RacePercBySchoolAllYears'</li>\n",
       "\t<li>'TotalStudentParticipatedAllYears'</li>\n",
       "\t<li>'StudentsByYearBySchool'</li>\n",
       "\t<li>'AllGender'</li>\n",
       "\t<li>'AllGrade'</li>\n",
       "\t<li>'AllEthnicity'</li>\n",
       "\t<li>'GenderComp'</li>\n",
       "\t<li>'AvgGrade'</li>\n",
       "\t<li>'EthnicityComp'</li>\n",
       "\t<li>'team_size'</li>\n",
       "\t<li>'award_value'</li>\n",
       "\t<li>'Total_awardValue'</li>\n",
       "\t<li>'TotalProjectFromSchoolAllYears'</li>\n",
       "\t<li>'NumberOfYearsParticipated'</li>\n",
       "\t<li>'2019Score'</li>\n",
       "\t<li>'2019SchoolRank'</li>\n",
       "\t<li>'2018Rank'</li>\n",
       "\t<li>'isCharter'</li>\n",
       "\t<li>'isTitle1'</li>\n",
       "\t<li>'NumStudents'</li>\n",
       "\t<li>'NumTeachers'</li>\n",
       "\t<li>'SpendingPerPupil'</li>\n",
       "\t<li>'White%'</li>\n",
       "\t<li>'Black%'</li>\n",
       "\t<li>'Hispanic%'</li>\n",
       "\t<li>'Asian%'</li>\n",
       "\t<li>'American_Indian%'</li>\n",
       "\t<li>'Pacific_Islander%'</li>\n",
       "\t<li>'Two_or_more_races%'</li>\n",
       "\t<li>'WhitePercInMSEF'</li>\n",
       "\t<li>'BlackPercInMSEF'</li>\n",
       "\t<li>'HispanicPercInMSEF'</li>\n",
       "\t<li>'AsianPercInMSEF'</li>\n",
       "\t<li>'SchoolDiversity'</li>\n",
       "\t<li>'MSEFDiversity'</li>\n",
       "\t<li>'DeviationEthnicityRep'</li>\n",
       "</ol>\n"
      ],
      "text/latex": [
       "\\begin{enumerate*}\n",
       "\\item 'sno'\n",
       "\\item 'Year'\n",
       "\\item 'Title'\n",
       "\\item 'cleanTitle'\n",
       "\\item 'uniq\\_project\\_title'\n",
       "\\item 'ProjectID3'\n",
       "\\item 'uniqProjectID'\n",
       "\\item 'multischool\\_project'\n",
       "\\item 'ProjectApproach'\n",
       "\\item 'class\\_ontology'\n",
       "\\item 'Field'\n",
       "\\item 'AppliedTo'\n",
       "\\item 'AppliedValue'\n",
       "\\item 'ProjectField'\n",
       "\\item 'Cancer'\n",
       "\\item 'AI\\_ML'\n",
       "\\item 'InfectiousDiseases\\_Covid'\n",
       "\\item 'Category'\n",
       "\\item 'SchoolName'\n",
       "\\item 'school\\_id'\n",
       "\\item 'school\\_region'\n",
       "\\item 'zip'\n",
       "\\item 'gender'\n",
       "\\item 'grade'\n",
       "\\item 'award'\n",
       "\\item 'awardvalue'\n",
       "\\item 'Ethnicity'\n",
       "\\item 'Race'\n",
       "\\item 'PerfBySchoolByYr'\n",
       "\\item 'RacePercBySchoolAllYears'\n",
       "\\item 'TotalStudentParticipatedAllYears'\n",
       "\\item 'StudentsByYearBySchool'\n",
       "\\item 'AllGender'\n",
       "\\item 'AllGrade'\n",
       "\\item 'AllEthnicity'\n",
       "\\item 'GenderComp'\n",
       "\\item 'AvgGrade'\n",
       "\\item 'EthnicityComp'\n",
       "\\item 'team\\_size'\n",
       "\\item 'award\\_value'\n",
       "\\item 'Total\\_awardValue'\n",
       "\\item 'TotalProjectFromSchoolAllYears'\n",
       "\\item 'NumberOfYearsParticipated'\n",
       "\\item '2019Score'\n",
       "\\item '2019SchoolRank'\n",
       "\\item '2018Rank'\n",
       "\\item 'isCharter'\n",
       "\\item 'isTitle1'\n",
       "\\item 'NumStudents'\n",
       "\\item 'NumTeachers'\n",
       "\\item 'SpendingPerPupil'\n",
       "\\item 'White\\%'\n",
       "\\item 'Black\\%'\n",
       "\\item 'Hispanic\\%'\n",
       "\\item 'Asian\\%'\n",
       "\\item 'American\\_Indian\\%'\n",
       "\\item 'Pacific\\_Islander\\%'\n",
       "\\item 'Two\\_or\\_more\\_races\\%'\n",
       "\\item 'WhitePercInMSEF'\n",
       "\\item 'BlackPercInMSEF'\n",
       "\\item 'HispanicPercInMSEF'\n",
       "\\item 'AsianPercInMSEF'\n",
       "\\item 'SchoolDiversity'\n",
       "\\item 'MSEFDiversity'\n",
       "\\item 'DeviationEthnicityRep'\n",
       "\\end{enumerate*}\n"
      ],
      "text/markdown": [
       "1. 'sno'\n",
       "2. 'Year'\n",
       "3. 'Title'\n",
       "4. 'cleanTitle'\n",
       "5. 'uniq_project_title'\n",
       "6. 'ProjectID3'\n",
       "7. 'uniqProjectID'\n",
       "8. 'multischool_project'\n",
       "9. 'ProjectApproach'\n",
       "10. 'class_ontology'\n",
       "11. 'Field'\n",
       "12. 'AppliedTo'\n",
       "13. 'AppliedValue'\n",
       "14. 'ProjectField'\n",
       "15. 'Cancer'\n",
       "16. 'AI_ML'\n",
       "17. 'InfectiousDiseases_Covid'\n",
       "18. 'Category'\n",
       "19. 'SchoolName'\n",
       "20. 'school_id'\n",
       "21. 'school_region'\n",
       "22. 'zip'\n",
       "23. 'gender'\n",
       "24. 'grade'\n",
       "25. 'award'\n",
       "26. 'awardvalue'\n",
       "27. 'Ethnicity'\n",
       "28. 'Race'\n",
       "29. 'PerfBySchoolByYr'\n",
       "30. 'RacePercBySchoolAllYears'\n",
       "31. 'TotalStudentParticipatedAllYears'\n",
       "32. 'StudentsByYearBySchool'\n",
       "33. 'AllGender'\n",
       "34. 'AllGrade'\n",
       "35. 'AllEthnicity'\n",
       "36. 'GenderComp'\n",
       "37. 'AvgGrade'\n",
       "38. 'EthnicityComp'\n",
       "39. 'team_size'\n",
       "40. 'award_value'\n",
       "41. 'Total_awardValue'\n",
       "42. 'TotalProjectFromSchoolAllYears'\n",
       "43. 'NumberOfYearsParticipated'\n",
       "44. '2019Score'\n",
       "45. '2019SchoolRank'\n",
       "46. '2018Rank'\n",
       "47. 'isCharter'\n",
       "48. 'isTitle1'\n",
       "49. 'NumStudents'\n",
       "50. 'NumTeachers'\n",
       "51. 'SpendingPerPupil'\n",
       "52. 'White%'\n",
       "53. 'Black%'\n",
       "54. 'Hispanic%'\n",
       "55. 'Asian%'\n",
       "56. 'American_Indian%'\n",
       "57. 'Pacific_Islander%'\n",
       "58. 'Two_or_more_races%'\n",
       "59. 'WhitePercInMSEF'\n",
       "60. 'BlackPercInMSEF'\n",
       "61. 'HispanicPercInMSEF'\n",
       "62. 'AsianPercInMSEF'\n",
       "63. 'SchoolDiversity'\n",
       "64. 'MSEFDiversity'\n",
       "65. 'DeviationEthnicityRep'\n",
       "\n",
       "\n"
      ],
      "text/plain": [
       " [1] \"sno\"                              \"Year\"                            \n",
       " [3] \"Title\"                            \"cleanTitle\"                      \n",
       " [5] \"uniq_project_title\"               \"ProjectID3\"                      \n",
       " [7] \"uniqProjectID\"                    \"multischool_project\"             \n",
       " [9] \"ProjectApproach\"                  \"class_ontology\"                  \n",
       "[11] \"Field\"                            \"AppliedTo\"                       \n",
       "[13] \"AppliedValue\"                     \"ProjectField\"                    \n",
       "[15] \"Cancer\"                           \"AI_ML\"                           \n",
       "[17] \"InfectiousDiseases_Covid\"         \"Category\"                        \n",
       "[19] \"SchoolName\"                       \"school_id\"                       \n",
       "[21] \"school_region\"                    \"zip\"                             \n",
       "[23] \"gender\"                           \"grade\"                           \n",
       "[25] \"award\"                            \"awardvalue\"                      \n",
       "[27] \"Ethnicity\"                        \"Race\"                            \n",
       "[29] \"PerfBySchoolByYr\"                 \"RacePercBySchoolAllYears\"        \n",
       "[31] \"TotalStudentParticipatedAllYears\" \"StudentsByYearBySchool\"          \n",
       "[33] \"AllGender\"                        \"AllGrade\"                        \n",
       "[35] \"AllEthnicity\"                     \"GenderComp\"                      \n",
       "[37] \"AvgGrade\"                         \"EthnicityComp\"                   \n",
       "[39] \"team_size\"                        \"award_value\"                     \n",
       "[41] \"Total_awardValue\"                 \"TotalProjectFromSchoolAllYears\"  \n",
       "[43] \"NumberOfYearsParticipated\"        \"2019Score\"                       \n",
       "[45] \"2019SchoolRank\"                   \"2018Rank\"                        \n",
       "[47] \"isCharter\"                        \"isTitle1\"                        \n",
       "[49] \"NumStudents\"                      \"NumTeachers\"                     \n",
       "[51] \"SpendingPerPupil\"                 \"White%\"                          \n",
       "[53] \"Black%\"                           \"Hispanic%\"                       \n",
       "[55] \"Asian%\"                           \"American_Indian%\"                \n",
       "[57] \"Pacific_Islander%\"                \"Two_or_more_races%\"              \n",
       "[59] \"WhitePercInMSEF\"                  \"BlackPercInMSEF\"                 \n",
       "[61] \"HispanicPercInMSEF\"               \"AsianPercInMSEF\"                 \n",
       "[63] \"SchoolDiversity\"                  \"MSEFDiversity\"                   \n",
       "[65] \"DeviationEthnicityRep\"           "
      ]
     },
     "metadata": {},
     "output_type": "display_data"
    }
   ],
   "source": [
    "dim(dat)\n",
    "head(dat)\n",
    "colnames(dat)"
   ]
  },
  {
   "cell_type": "code",
   "execution_count": 5,
   "id": "44d54461",
   "metadata": {
    "scrolled": true
   },
   "outputs": [
    {
     "name": "stdout",
     "output_type": "stream",
     "text": [
      "Classes 'tbl_df', 'tbl' and 'data.frame':\t2928 obs. of  65 variables:\n",
      " $ sno                             : num  900 529 1956 1957 1995 ...\n",
      " $ Year                            : Factor w/ 8 levels \"2014\",\"2015\",..: 3 2 6 6 6 6 6 6 6 6 ...\n",
      " $ Title                           : chr  \"Do All Store Bought Yogurts Have Good Bacteria?\" \"Algae to Green Diesel\" \"Devel of Bdelloid Rotifers As Experimental Model For Cell Rejuvenation\" \"Devel of Bdelloid Rotifers As Experimental Model For Cell Rejuvenation\" ...\n",
      " $ cleanTitle                      : chr  \"do all store bought yogurts have good bacteria\" \"algae to green diesel\" \"devel of bdelloid rotifers as experimental model for cell rejuvenation\" \"devel of bdelloid rotifers as experimental model for cell rejuvenation\" ...\n",
      " $ uniq_project_title              : num  1 1 2 3 1 2 3 1 2 3 ...\n",
      " $ ProjectID3                      : Factor w/ 2262 levels \"1\",\"2\",\"3\",\"4\",..: 632 201 584 584 917 917 917 1980 1980 1980 ...\n",
      " $ uniqProjectID                   : Factor w/ 8 levels \"1\",\"2\",\"3\",\"4\",..: 1 1 2 3 1 2 3 1 2 3 ...\n",
      " $ multischool_project             : Factor w/ 1 level \"1\": NA NA NA NA NA NA NA NA NA NA ...\n",
      " $ ProjectApproach                 : Factor w/ 5 levels \"a\",\"d\",\"m\",\"n\",..: 1 3 1 1 1 1 1 1 1 1 ...\n",
      " $ class_ontology                  : chr  NA NA NA NA ...\n",
      " $ Field                           : Factor w/ 42 levels \"acoustics\",\"agriculture\",..: 32 16 8 8 22 22 22 40 40 40 ...\n",
      " $ AppliedTo                       : Factor w/ 45 levels \"agriculture\",..: 36 16 9 9 43 43 43 4 4 4 ...\n",
      " $ AppliedValue                    : num  3 7 2 2 3 3 3 5 5 5 ...\n",
      " $ ProjectField                    : Factor w/ 8 levels \"BehavioralAndSocial\",..: 2 2 2 2 6 6 6 1 1 1 ...\n",
      " $ Cancer                          : Factor w/ 2 levels \"0\",\"1\": 1 1 1 1 1 1 1 1 1 1 ...\n",
      " $ AI_ML                           : Factor w/ 2 levels \"0\",\"1\": 1 1 1 1 1 1 1 1 1 1 ...\n",
      " $ InfectiousDiseases_Covid        : Factor w/ 2 levels \"0\",\"1\": 1 1 1 1 1 1 1 1 1 1 ...\n",
      " $ Category                        : Factor w/ 12 levels \"Behavioral_and_Social_Sciences\",..: 4 3 4 4 10 10 10 2 2 2 ...\n",
      " $ SchoolName                      : chr  \"Madison Park High School\" \"Community Academy of Science and Health\" \"Jeremiah E. Burke High School\" \"Jeremiah E. Burke High School\" ...\n",
      " $ school_id                       : Factor w/ 172 levels \"1\",\"2\",\"3\",\"4\",..: 77 42 69 69 69 69 69 69 69 69 ...\n",
      " $ school_region                   : chr  \"Boston Public Schools Region VI Science Fair\" \"Boston Public Schools Region VI Science Fair\" \"Boston Public Schools Region VI Science Fair\" \"Boston Public Schools Region VI Science Fair\" ...\n",
      " $ zip                             : chr  \"x02120\" \"x02122\" \"x02121\" \"x02121\" ...\n",
      " $ gender                          : Factor w/ 3 levels \"F\",\"M\",\"X\": 1 2 1 2 1 1 1 1 2 1 ...\n",
      " $ grade                           : Factor w/ 5 levels \"10th\",\"11th\",..: 3 3 4 4 1 1 1 2 3 3 ...\n",
      " $ award                           : Factor w/ 5 levels \"First\",\"HM\",\"noAward\",..: 3 3 3 3 3 3 3 3 3 3 ...\n",
      " $ awardvalue                      : num  0 0 0 0 0 0 0 0 0 0 ...\n",
      " $ Ethnicity                       : Factor w/ 8 levels \"African\",\"Asian\",..: 5 2 5 7 1 1 1 1 1 1 ...\n",
      " $ Race                            : chr  \"Hispanic\" \"Asian\" \"Hispanic\" NA ...\n",
      " $ PerfBySchoolByYr                : num  0 0 0 0 0 0 0 0 0 0 ...\n",
      " $ RacePercBySchoolAllYears        : num  1 1 0.111 NA 0.667 ...\n",
      " $ TotalStudentParticipatedAllYears: num  1 1 9 9 9 9 9 9 9 9 ...\n",
      " $ StudentsByYearBySchool          : num  1 1 9 9 9 9 9 9 9 9 ...\n",
      " $ AllGender                       : Factor w/ 12 levels \"F\",\"F_F\",\"F_F_F\",..: 1 9 7 7 3 3 3 4 4 4 ...\n",
      " $ AllGrade                        : Factor w/ 31 levels \"10\",\"10_10\",\"10_10_10\",..: 16 16 30 30 3 3 3 15 15 15 ...\n",
      " $ AllEthnicity                    : Factor w/ 71 levels \"African\",\"African_African\",..: 55 18 51 51 3 3 3 3 3 3 ...\n",
      " $ GenderComp                      : Factor w/ 4 levels \"AllF\",\"AllM\",..: 1 2 3 3 1 1 1 3 3 3 ...\n",
      " $ AvgGrade                        : num  12 12 9 9 10 ...\n",
      " $ EthnicityComp                   : Factor w/ 10 levels \"1\",\"2\",\"3\",\"AllAsian\",..: 7 4 3 3 6 6 6 6 6 6 ...\n",
      " $ team_size                       : num  1 1 3 3 3 3 3 3 3 3 ...\n",
      " $ award_value                     : num  20 20 20 20 20 20 20 20 20 20 ...\n",
      " $ Total_awardValue                : num  0.05 0.05 0.45 0.45 0.45 0.45 0.45 0.45 0.45 0.45 ...\n",
      " $ TotalProjectFromSchoolAllYears  : num  1 1 9 9 9 9 9 9 9 9 ...\n",
      " $ NumberOfYearsParticipated       : num  1 1 1 1 1 1 1 1 1 1 ...\n",
      " $ 2019Score                       : num  2 1.2 20 20 20 20 20 20 20 20 ...\n",
      " $ 2019SchoolRank                  : num  342 346 293 293 293 293 293 293 293 293 ...\n",
      " $ 2018Rank                        : num  334 337 281 281 281 281 281 281 281 281 ...\n",
      " $ isCharter                       : Factor w/ 2 levels \"N\",\"Y\": 1 1 1 1 1 1 1 1 1 1 ...\n",
      " $ isTitle1                        : Factor w/ 2 levels \"N\",\"Y\": 2 2 2 2 2 2 2 2 2 2 ...\n",
      " $ NumStudents                     : num  887 368 403 403 403 403 403 403 403 403 ...\n",
      " $ NumTeachers                     : num  98 38 35 35 35 35 35 35 35 35 ...\n",
      " $ SpendingPerPupil                : num  30263 25488 22754 22754 22754 ...\n",
      " $ White%                          : num  0.017 0.019 0.022 0.022 0.022 0.022 0.022 0.022 0.022 0.022 ...\n",
      " $ Black%                          : num  0.368 0.66 0.712 0.712 0.712 0.712 0.712 0.712 0.712 0.712 ...\n",
      " $ Hispanic%                       : num  0.577 0.277 0.243 0.243 0.243 0.243 0.243 0.243 0.243 0.243 ...\n",
      " $ Asian%                          : num  0.012 0.019 0.005 0.005 0.005 0.005 0.005 0.005 0.005 0.005 ...\n",
      " $ American_Indian%                : num  0.005 0.003 0 0 0 0 0 0 0 0 ...\n",
      " $ Pacific_Islander%               : num  0.002 0 0.005 0.005 0.005 0.005 0.005 0.005 0.005 0.005 ...\n",
      " $ Two_or_more_races%              : num  0.019 0.022 0.012 0.012 0.012 0.012 0.012 0.012 0.012 0.012 ...\n",
      " $ WhitePercInMSEF                 : num  0 0 0.111 0.111 0.111 ...\n",
      " $ BlackPercInMSEF                 : num  0 0 0.667 0.667 0.667 ...\n",
      " $ HispanicPercInMSEF              : num  1 0 0.111 0.111 0.111 ...\n",
      " $ AsianPercInMSEF                 : num  0 1 0 0 0 0 0 0 0 0 ...\n",
      " $ SchoolDiversity                 : num  -0.4 -0.383 -0.337 -0.337 -0.337 ...\n",
      " $ MSEFDiversity                   : num  0 0 -0.329 -0.329 -0.329 ...\n",
      " $ DeviationEthnicityRep           : num  0.3148 1.4751 0.0274 0.0274 0.0274 ...\n"
     ]
    }
   ],
   "source": [
    "numericcols <- c(\"AppliedValue\", \"AvgGrade\", \"team_size\",\"award_value\",\"Total_awardValue\",\"TotalProjectFromSchoolAllYears\",\"NumberOfYearsParticipated\",\"2019Score\",\"2019SchoolRank\",\"2018Rank\",\"NumStudents\",\"NumTeachers\",\"SpendingPerPupil\",\"White%\",\"Black%\",\"Hispanic%\",\"Asian%\",\"American_Indian%\",\"Pacific_Islander%\", \"Two_or_more_races%\")\n",
    "factorcols <- c(\"Year\",\"ProjectID3\",\"uniqProjectID\",\"multischool_project\",\"ProjectApproach\",\"Field\", \"AppliedTo\",\"ProjectField\",\"Cancer\",\"AI_ML\",\"InfectiousDiseases_Covid\",\"Category\",\"school_id\",\"gender\",\"grade\",\"award\",\"Ethnicity\",\"AllGender\",\"AllGrade\",\"AllEthnicity\",\"GenderComp\",\"EthnicityComp\",\"isCharter\",\"isTitle1\")\n",
    "dat <- setDataType(dat, numericcols, factorcols)\n",
    "str(dat)"
   ]
  },
  {
   "cell_type": "code",
   "execution_count": 6,
   "id": "1d9ce50f",
   "metadata": {},
   "outputs": [
    {
     "name": "stdout",
     "output_type": "stream",
     "text": [
      "[1] 2928   65\n",
      "[1] \"sno\"     \"numeric\"\n",
      "   Min. 1st Qu.  Median    Mean 3rd Qu.    Max. \n",
      "    1.0   735.8  1473.5  1473.5  2209.2  2950.0 \n",
      "[1] \"Year\"   \"factor\"\n",
      "2014 2015 2016 2017 2018 2019 2020 2021 \n",
      " 393  387  386  378  375  364  330  315 \n",
      "[1] \"Title\"     \"character\"\n",
      "[1] \"unique values\" \"2328\"         \n",
      "[1] \"cleanTitle\" \"character\" \n",
      "[1] \"unique values\" \"2309\"         \n",
      "[1] \"uniq_project_title\" \"numeric\"           \n",
      "   Min. 1st Qu.  Median    Mean 3rd Qu.    Max. \n",
      "  1.000   1.000   1.000   1.251   1.000   8.000 \n",
      "[1] \"ProjectID3\" \"factor\"    \n",
      "    561     192     300     302     338     415     878     908    1119    1151 \n",
      "      8       6       4       4       4       4       4       4       4       4 \n",
      "   1193    1602       6      75     120     162     168     189     191     240 \n",
      "      4       4       3       3       3       3       3       3       3       3 \n",
      "    282     308     317     357     359     369     435     452     467     522 \n",
      "      3       3       3       3       3       3       3       3       3       3 \n",
      "    549     564     584     597     627     669     685     691     760     799 \n",
      "      3       3       3       3       3       3       3       3       3       3 \n",
      "    813     832     859     883     900     916     917     927     932     938 \n",
      "      3       3       3       3       3       3       3       3       3       3 \n",
      "    954     968     999    1038    1040    1047    1063    1120    1139    1145 \n",
      "      3       3       3       3       3       3       3       3       3       3 \n",
      "   1176    1196    1291    1294    1299    1345    1348    1351    1365    1372 \n",
      "      3       3       3       3       3       3       3       3       3       3 \n",
      "   1383    1391    1393    1397    1402    1422    1425    1476    1508    1513 \n",
      "      3       3       3       3       3       3       3       3       3       3 \n",
      "   1542    1544    1558    1564    1567    1613    1631    1649    1735    1752 \n",
      "      3       3       3       3       3       3       3       3       3       3 \n",
      "   1863    1886    1929    1933    1960    1980    1981    2014    2023 (Other) \n",
      "      3       3       3       3       3       3       3       3       3    2613 \n",
      "[1] \"uniqProjectID\" \"factor\"       \n",
      "   1    2    3    4    5    6    7    8 \n",
      "2262  537  111   12    2    2    1    1 \n",
      "[1] \"multischool_project\" \"factor\"             \n",
      "   1 NA's \n",
      "  20 2908 \n",
      "[1] \"ProjectApproach\" \"factor\"         \n",
      "   a    d    m    n    s \n",
      "1949  454  522    2    1 \n",
      "[1] \"class_ontology\" \"character\"     \n",
      "[1] \"unique values\" \"176\"          \n",
      "[1] \"Field\"  \"factor\"\n",
      "   acoustics  agriculture  Agriculture    astronomy    behaviour      biochem \n",
      "          38           26           10           26          106          380 \n",
      "     biology      Biology     cell bio cell biology    chemistry    Chemistry \n",
      "           4          119           12            7          517           61 \n",
      "       civil      compsci      CompSci      ecology    economics  electronics \n",
      "          45          211           17          152            1          143 \n",
      " engineering  Engineering  environment  Environment     genetics      geology \n",
      "           9           19           78           71          109            3 \n",
      "  infectious         math         Math   mechanical   Mechanical     medicine \n",
      "           3           55            6          252           82            1 \n",
      "     medtech     microbio neuroscience Neuroscience    nutrition       optics \n",
      "           3          130           22            2            7           10 \n",
      "     physics      Physics     robotics       social       Social   statistics \n",
      "         107           29            7           17            4           27 \n",
      "[1] \"AppliedTo\" \"factor\"   \n",
      "    agriculture       astronomy        behavior       behaviour         biochem \n",
      "            130              12               4              31               6 \n",
      "        biology          cancer      cardiovasc        cell bio       chemistry \n",
      "              5              26              18              47              10 \n",
      "          civil         compsci         drugdev         ecology     electronics \n",
      "              7               2               1              95               1 \n",
      "         energy     environment         finance       forensics           funda \n",
      "            197             284              14               1              20 \n",
      "          games        genetics         geology          health       household \n",
      "              1              11               2               5              89 \n",
      "         immune      infectious       logistics        material            math \n",
      "              6              36               8               4               5 \n",
      "     mechanical         medical        microbio          molbio    neuroscience \n",
      "              5             389              65               2              67 \n",
      "      nutrition    paleontology pharmaceuticals         physics        robotics \n",
      "             73               3               1               5              27 \n",
      "         safety        security          social          sports  transportation \n",
      "            108              26              64              54              83 \n",
      "           NA's \n",
      "            878 \n",
      "[1] \"AppliedValue\" \"numeric\"     \n",
      "   Min. 1st Qu.  Median    Mean 3rd Qu.    Max.    NA's \n",
      "  1.000   2.000   3.000   3.614   5.000   9.000       7 \n",
      "[1] \"ProjectField\" \"factor\"      \n",
      "BehavioralAndSocial             biology           Chemistry         ComputerSci \n",
      "                172                1003                 220                 218 \n",
      "        Engineering         environment                Math             Physics \n",
      "                676                 515                  55                  69 \n",
      "[1] \"Cancer\" \"factor\"\n",
      "   0    1 \n",
      "2857   71 \n",
      "[1] \"AI_ML\"  \"factor\"\n",
      "   0    1 \n",
      "2816  112 \n",
      "[1] \"InfectiousDiseases_Covid\" \"factor\"                  \n",
      "   0    1 \n",
      "2737  191 \n",
      "[1] \"Category\" \"factor\"  \n",
      "        Behavioral_and_Social_Sciences                     Behavioral_Science \n",
      "                                    18                                    143 \n",
      "                          Biochemistry                                Biology \n",
      "                                   204                                    874 \n",
      "                             Chemistry                       Computer_Science \n",
      "                                   262                                    200 \n",
      "                   Earth_Space_Science                            Engineering \n",
      "                                    36                                    518 \n",
      "Engineering:_Electrical_and_Mechanical                 Environmental_Sciences \n",
      "                                    51                                    386 \n",
      "                           Mathematics                    Physics_Electronics \n",
      "                                    48                                    188 \n",
      "[1] \"SchoolName\" \"character\" \n",
      "[1] \"unique values\" \"173\"          \n",
      "[1] \"school_id\" \"factor\"   \n",
      "     74     166      87      53      67     157     130     149      17     133 \n",
      "    171     142     123      97      86      77      76      76      73      71 \n",
      "    147     140     107      22      21      11      50      49      70       2 \n",
      "     57      56      55      53      52      51      51      50      47      45 \n",
      "     13      54      52     114     102     105     120      26      56      85 \n",
      "     41      37      35      35      34      33      32      30      30      30 \n",
      "     83     113     165     144      51     154      24     128     135      59 \n",
      "     28      28      27      25      23      22      21      21      21      20 \n",
      "     91     132     124      10      32     109     137      68      92       3 \n",
      "     20      18      17      16      16      16      16      15      15      14 \n",
      "     18     126      73      76     112     138     172      16      25      62 \n",
      "     14      14      13      13      13      13      12      11      11      10 \n",
      "     23      46      69      71     103     152      34      78      79      86 \n",
      "      9       9       9       9       9       9       8       8       8       8 \n",
      "     93      96     117     155     163      94     116       4       5      65 \n",
      "      8       8       8       8       8       7       7       6       6       6 \n",
      "     82     115     118     129     131     169      12      33      39      44 \n",
      "      6       6       6       6       6       6       5       5       5       5 \n",
      "     60      89      98     100     108     146     156      43 (Other)    NA's \n",
      "      5       5       5       5       5       5       5       4     146     160 \n",
      "[1] \"school_region\" \"character\"    \n",
      "[1] \"unique values\" \"7\"            \n",
      "[1] \"zip\"       \"character\"\n",
      "[1] \"unique values\" \"183\"          \n",
      "[1] \"gender\" \"factor\"\n",
      "   F    M    X \n",
      "1342 1102  484 \n",
      "[1] \"grade\"  \"factor\"\n",
      "10th 11th 12th  9th    X \n",
      " 875  957  469  467  160 \n",
      "[1] \"award\"  \"factor\"\n",
      "  First      HM noAward  Second   Third \n",
      "    196     316    1894     228     294 \n",
      "[1] \"awardvalue\" \"numeric\"   \n",
      "   Min. 1st Qu.  Median    Mean 3rd Qu.    Max. \n",
      " 0.0000  0.0000  0.0000  0.1528  0.1250  1.0000 \n",
      "[1] \"Ethnicity\" \"factor\"   \n",
      "        African           Asian        Biracial       Caucasian          Latino \n",
      "            151             473              32            1163             164 \n",
      "Native American           Other      SouthAsian            NA's \n",
      "              5             150             316             474 \n",
      "[1] \"Race\"      \"character\"\n",
      "[1] \"unique values\" \"6\"            \n",
      "[1] \"PerfBySchoolByYr\" \"numeric\"         \n",
      "   Min. 1st Qu.  Median    Mean 3rd Qu.    Max. \n",
      "  0.000   0.000   0.625   1.597   2.000  11.542 \n",
      "[1] \"RacePercBySchoolAllYears\" \"numeric\"                 \n",
      "   Min. 1st Qu.  Median    Mean 3rd Qu.    Max.    NA's \n",
      " 0.0058  0.2907  0.5658  0.5194  0.6907  1.0000     629 \n",
      "[1] \"TotalStudentParticipatedAllYears\" \"numeric\"                         \n",
      "   Min. 1st Qu.  Median    Mean 3rd Qu.    Max.    NA's \n",
      "   1.00   20.00   50.00   57.65   77.00  171.00     160 \n",
      "[1] \"StudentsByYearBySchool\" \"numeric\"               \n",
      "   Min. 1st Qu.  Median    Mean 3rd Qu.    Max. \n",
      "   1.00    4.00    8.00   10.15   14.00   33.00 \n",
      "[1] \"AllGender\" \"factor\"   \n",
      "    F   F_F F_F_F F_F_M F_F_x   F_M F_M_M   F_x     M   M_M M_M_M   M_x  NA's \n",
      "  850   314    81    42     3   112    27     4   635   282    96     2   480 \n",
      "[1] \"AllGrade\" \"factor\"  \n",
      "      10    10_10 10_10_10 10_10_11    10_11 10_11_11 10_11_12    10_12 \n",
      "     519      198       57        9       74        9        3       32 \n",
      "10_12_12       11    11_11 11_11_11 11_11_12    11_12 11_12_12       12 \n",
      "       9      599      174       69       15       64       12      253 \n",
      "   12_12 12_12_12        9     9_10  9_10_10  9_10_11  9_10_12     9_11 \n",
      "     114       30      324       46        6        9        3       32 \n",
      " 9_11_11     9_12      9_9   9_9_10   9_9_11    9_9_9        X \n",
      "       3        6       60       12        3       24      160 \n",
      "[1] \"AllEthnicity\" \"factor\"      \n",
      "                       African                African_African \n",
      "                            68                             16 \n",
      "       African_African_African          African_African_Asian \n",
      "                             9                              6 \n",
      "     African_African_Caucasian         African_African_Latino \n",
      "                             6                             12 \n",
      "         African_African_Other                  African_Asian \n",
      "                             3                             14 \n",
      "       African_Asian_Caucasian               African_Biracial \n",
      "                             3                              6 \n",
      "   African_Biracial_SouthAsian              African_Caucasian \n",
      "                             3                             24 \n",
      "   African_Caucasian_Caucasian                 African_Latino \n",
      "                             6                             12 \n",
      "         African_Latino_Latino                  African_Other \n",
      "                             6                              8 \n",
      "            African_SouthAsian                          Asian \n",
      "                             4                            325 \n",
      "                   Asian_Asian              Asian_Asian_Asian \n",
      "                            38                              9 \n",
      "         Asian_Asian_Caucasian             Asian_Asian_Latino \n",
      "                             9                              3 \n",
      "             Asian_Asian_Other         Asian_Asian_SouthAsian \n",
      "                             3                              3 \n",
      "                Asian_biracial                Asian_Caucasian \n",
      "                             2                             46 \n",
      "     Asian_Caucasian_Caucasian         Asian_Caucasian_Latino \n",
      "                             9                              3 \n",
      "    Asian_Caucasian_SouthAsian                   Asian_Latino \n",
      "                            21                             18 \n",
      "           Asian_Latino_Latino             Asian_Latino_Other \n",
      "                             6                              3 \n",
      "       Asian_Latino_SouthAsian                    Asian_Other \n",
      "                             3                             22 \n",
      "        Asian_Other_SouthAsian               Asian_SouthAsian \n",
      "                             3                             34 \n",
      "   Asian_SouthAsian_SouthAsian                       biracial \n",
      "                             6                              4 \n",
      "                      Biracial              Biracial_Biracial \n",
      "                            13                              2 \n",
      "            biracial_Caucasian             Biracial_Caucasian \n",
      "                             4                             10 \n",
      "     Biracial_Caucasian_Latino                      Caucasian \n",
      "                             3                            730 \n",
      "           Caucasian_Caucasian  Caucasian_Caucasian_Caucasian \n",
      "                           266                             42 \n",
      "    Caucasian_Caucasian_Latino      Caucasian_Caucasian_Other \n",
      "                             9                             18 \n",
      "Caucasian_Caucasian_SouthAsian               Caucasian_Latino \n",
      "                             3                             28 \n",
      "        Caucasian_Latino_Other      Caucasian_Native American \n",
      "                             3                              2 \n",
      "               Caucasian_Other           Caucasian_SouthAsian \n",
      "                            20                             24 \n",
      "                        Latino                  Latino_Latino \n",
      "                            52                             30 \n",
      "          Latino_Latino_Latino            Latino_Latino_Other \n",
      "                            18                              3 \n",
      "      Latino_Latino_SouthAsian         Latino_Native American \n",
      "                             3                              4 \n",
      "                  Latino_Other              Latino_SouthAsian \n",
      "                             2                             12 \n",
      "  Latino_SouthAsian_SouthAsian                Native American \n",
      "                             3                              2 \n",
      "                         Other                    Other_Other \n",
      "                            91                              6 \n",
      "        Other_Other_SouthAsian               Other_SouthAsian \n",
      "                             9                             18 \n",
      "                    SouthAsian          SouthAsian_SouthAsian \n",
      "                           206                             42 \n",
      "                             X \n",
      "                           474 \n",
      "[1] \"GenderComp\" \"factor\"    \n",
      "AllF AllM  Mix    X \n",
      "1252 1015  181  480 \n",
      "[1] \"AvgGrade\" \"numeric\" \n",
      "   Min. 1st Qu.  Median    Mean 3rd Qu.    Max.    NA's \n",
      "   9.00   10.00   10.50   10.52   11.00   12.00     160 \n",
      "[1] \"EthnicityComp\" \"factor\"       \n",
      "            1             2             3      AllAsian   AllBiracial \n",
      "            3           434            51           372            19 \n",
      "     AllBlack     AllLatino AllSouthAsian      AllWhite             X \n",
      "           93           100           248          1038           570 \n",
      "[1] \"team_size\" \"numeric\"  \n",
      "   Min. 1st Qu.  Median    Mean 3rd Qu.    Max. \n",
      "   1.00    1.00    1.00    1.46    2.00    3.00 \n",
      "[1] \"award_value\" \"numeric\"    \n",
      "   Min. 1st Qu.  Median    Mean 3rd Qu.    Max.    NA's \n",
      "      1       3      20      14      20      20     160 \n",
      "[1] \"Total_awardValue\" \"numeric\"         \n",
      "   Min. 1st Qu.  Median    Mean 3rd Qu.    Max.    NA's \n",
      "  0.050   2.317   7.033  13.151  17.583  57.583     160 \n",
      "[1] \"TotalProjectFromSchoolAllYears\" \"numeric\"                       \n",
      "   Min. 1st Qu.  Median    Mean 3rd Qu.    Max.    NA's \n",
      "   1.00   20.00   50.00   57.65   77.00  171.00     160 \n",
      "[1] \"NumberOfYearsParticipated\" \"numeric\"                  \n",
      "   Min. 1st Qu.  Median    Mean 3rd Qu.    Max.    NA's \n",
      "  1.000   6.000   8.000   6.517   8.000   8.000     160 \n",
      "[1] \"2019Score\" \"numeric\"  \n",
      "   Min. 1st Qu.  Median    Mean 3rd Qu.    Max.    NA's \n",
      "   1.20   43.60   65.70   60.43   86.60   93.20     913 \n",
      "[1] \"2019SchoolRank\" \"numeric\"       \n",
      "   Min. 1st Qu.  Median    Mean 3rd Qu.    Max.    NA's \n",
      "      1      30     138     144     228     346     913 \n",
      "[1] \"2018Rank\" \"numeric\" \n",
      "   Min. 1st Qu.  Median    Mean 3rd Qu.    Max.    NA's \n",
      "      1      35     139     143     243     337     913 \n",
      "[1] \"isCharter\" \"factor\"   \n",
      "   N    Y NA's \n",
      "1805  210  913 \n",
      "[1] \"isTitle1\" \"factor\"  \n",
      "   N    Y NA's \n",
      "1233  782  913 \n",
      "[1] \"NumStudents\" \"numeric\"    \n",
      "   Min. 1st Qu.  Median    Mean 3rd Qu.    Max.    NA's \n",
      "  253.0   890.5  1228.0  1409.2  1837.0  4032.0     913 \n",
      "[1] \"NumTeachers\" \"numeric\"    \n",
      "   Min. 1st Qu.  Median    Mean 3rd Qu.    Max.    NA's \n",
      "     26      80     100     105     125     235     913 \n",
      "[1] \"SpendingPerPupil\" \"numeric\"         \n",
      "   Min. 1st Qu.  Median    Mean 3rd Qu.    Max.    NA's \n",
      "      0   13871   15544   15202   18092   33741     913 \n",
      "[1] \"White%\"  \"numeric\"\n",
      "   Min. 1st Qu.  Median    Mean 3rd Qu.    Max.    NA's \n",
      " 0.0170  0.3530  0.6070  0.5647  0.7790  0.9620     913 \n",
      "[1] \"Black%\"  \"numeric\"\n",
      "   Min. 1st Qu.  Median    Mean 3rd Qu.    Max.    NA's \n",
      " 0.0000  0.0240  0.0370  0.1108  0.1400  0.7120     913 \n",
      "[1] \"Hispanic%\" \"numeric\"  \n",
      "   Min. 1st Qu.  Median    Mean 3rd Qu.    Max.    NA's \n",
      " 0.0120  0.0420  0.0930  0.1598  0.1570  0.8740     913 \n",
      "[1] \"Asian%\"  \"numeric\"\n",
      "   Min. 1st Qu.  Median    Mean 3rd Qu.    Max.    NA's \n",
      "  0.005   0.023   0.067   0.128   0.215   0.568     913 \n",
      "[1] \"American_Indian%\" \"numeric\"         \n",
      "   Min. 1st Qu.  Median    Mean 3rd Qu.    Max.    NA's \n",
      " 0.0000  0.0010  0.0020  0.0029  0.0030  0.0250     913 \n",
      "[1] \"Pacific_Islander%\" \"numeric\"          \n",
      "   Min. 1st Qu.  Median    Mean 3rd Qu.    Max.    NA's \n",
      " 0.0000  0.0000  0.0000  0.0008  0.0010  0.0360     913 \n",
      "[1] \"Two_or_more_races%\" \"numeric\"           \n",
      "   Min. 1st Qu.  Median    Mean 3rd Qu.    Max.    NA's \n",
      " 0.0010  0.0190  0.0290  0.0325  0.0440  0.0930     913 \n",
      "[1] \"WhitePercInMSEF\" \"numeric\"        \n",
      "   Min. 1st Qu.  Median    Mean 3rd Qu.    Max. \n",
      " 0.0000  0.1200  0.3000  0.3972  0.6575  1.0000 \n",
      "[1] \"BlackPercInMSEF\" \"numeric\"        \n",
      "    Min.  1st Qu.   Median     Mean  3rd Qu.     Max. \n",
      "0.000000 0.000000 0.005848 0.051571 0.035714 1.000000 \n",
      "[1] \"HispanicPercInMSEF\" \"numeric\"           \n",
      "   Min. 1st Qu.  Median    Mean 3rd Qu.    Max. \n",
      "0.00000 0.00000 0.00813 0.05601 0.04878 1.00000 \n",
      "[1] \"AsianPercInMSEF\" \"numeric\"        \n",
      "   Min. 1st Qu.  Median    Mean 3rd Qu.    Max. \n",
      "0.00000 0.04225 0.19512 0.26332 0.42857 1.00000 \n",
      "[1] \"SchoolDiversity\" \"numeric\"        \n",
      "   Min. 1st Qu.  Median    Mean 3rd Qu.    Max.    NA's \n",
      "-0.6469 -0.4878 -0.4539 -0.4225 -0.3286 -0.0870     913 \n",
      "[1] \"MSEFDiversity\" \"numeric\"      \n",
      "   Min. 1st Qu.  Median    Mean 3rd Qu.    Max.    NA's \n",
      "-0.5771 -0.3754 -0.2957 -0.2922 -0.2159  0.0000     160 \n",
      "[1] \"DeviationEthnicityRep\" \"numeric\"              \n",
      "   Min. 1st Qu.  Median    Mean 3rd Qu.    Max.    NA's \n",
      " 0.0041  0.0284  0.1012  0.1834  0.2280  1.7909     913 \n"
     ]
    },
    {
     "data": {
      "text/plain": [
       "      \n",
       "         F   M   X\n",
       "  2014 186 186  21\n",
       "  2015 192 171  24\n",
       "  2016 187 167  32\n",
       "  2017 203 151  24\n",
       "  2018 178 165  32\n",
       "  2019 199 131  34\n",
       "  2020 197 131   2\n",
       "  2021   0   0 315"
      ]
     },
     "metadata": {},
     "output_type": "display_data"
    }
   ],
   "source": [
    "createSummaryStats(dat)\n",
    "table(dat$Year, dat$gender)"
   ]
  },
  {
   "cell_type": "code",
   "execution_count": 7,
   "id": "3eebb2c8",
   "metadata": {},
   "outputs": [],
   "source": [
    "#sub data sets to create\"\n",
    "# 1. rows = all individual particpants for all years: 2928 rows X 47 columns (as read from excel file)\n",
    "# 2. rows = all unique projects by each year\n",
    "projDat <- getUniqRows(dat, c(\"Year\", \"ProjectID3\"))\n",
    "award2 <- as.character(unlist(projDat[,\"award\"]))\n",
    "award2[which(projDat[,\"award\"] == \"First\")] = \"award\"\n",
    "award2[which(projDat[,\"award\"] == \"Second\")] = \"award\"\n",
    "award2[which(projDat[,\"award\"] == \"Third\")] = \"award\"\n",
    "projDat <- cbind(projDat,award2)\n",
    "\n",
    "# 3. rows = all unique schools by each year\n",
    "schoolDat <- getUniqRows(dat, c(\"Year\", \"school_id\"))\n",
    "schoolDat[,53] <- is.na(schoolDat$NumStudents)"
   ]
  },
  {
   "cell_type": "code",
   "execution_count": 8,
   "id": "15b0eeb0",
   "metadata": {
    "scrolled": true
   },
   "outputs": [
    {
     "data": {
      "text/html": [
       "<ol class=list-inline>\n",
       "\t<li>'sno'</li>\n",
       "\t<li>'Year'</li>\n",
       "\t<li>'Title'</li>\n",
       "\t<li>'cleanTitle'</li>\n",
       "\t<li>'uniq_project_title'</li>\n",
       "\t<li>'ProjectID3'</li>\n",
       "\t<li>'uniqProjectID'</li>\n",
       "\t<li>'multischool_project'</li>\n",
       "\t<li>'ProjectApproach'</li>\n",
       "\t<li>'class_ontology'</li>\n",
       "\t<li>'Field'</li>\n",
       "\t<li>'AppliedTo'</li>\n",
       "\t<li>'AppliedValue'</li>\n",
       "\t<li>'ProjectField'</li>\n",
       "\t<li>'Cancer'</li>\n",
       "\t<li>'AI_ML'</li>\n",
       "\t<li>'InfectiousDiseases_Covid'</li>\n",
       "\t<li>'Category'</li>\n",
       "\t<li>'SchoolName'</li>\n",
       "\t<li>'school_id'</li>\n",
       "\t<li>'school_region'</li>\n",
       "\t<li>'zip'</li>\n",
       "\t<li>'gender'</li>\n",
       "\t<li>'grade'</li>\n",
       "\t<li>'award'</li>\n",
       "\t<li>'awardvalue'</li>\n",
       "\t<li>'Ethnicity'</li>\n",
       "\t<li>'Race'</li>\n",
       "\t<li>'PerfBySchoolByYr'</li>\n",
       "\t<li>'RacePercBySchoolAllYears'</li>\n",
       "\t<li>'TotalStudentParticipatedAllYears'</li>\n",
       "\t<li>'StudentsByYearBySchool'</li>\n",
       "\t<li>'AllGender'</li>\n",
       "\t<li>'AllGrade'</li>\n",
       "\t<li>'AllEthnicity'</li>\n",
       "\t<li>'GenderComp'</li>\n",
       "\t<li>'AvgGrade'</li>\n",
       "\t<li>'EthnicityComp'</li>\n",
       "\t<li>'team_size'</li>\n",
       "\t<li>'award_value'</li>\n",
       "\t<li>'Total_awardValue'</li>\n",
       "\t<li>'TotalProjectFromSchoolAllYears'</li>\n",
       "\t<li>'NumberOfYearsParticipated'</li>\n",
       "\t<li>'Score2019'</li>\n",
       "\t<li>'2019SchoolRank'</li>\n",
       "\t<li>'2018Rank'</li>\n",
       "\t<li>'isCharter'</li>\n",
       "\t<li>'isTitle1'</li>\n",
       "\t<li>'NumStudents'</li>\n",
       "\t<li>'NumTeachers'</li>\n",
       "\t<li>'SpendingPerPupil'</li>\n",
       "\t<li>'White%'</li>\n",
       "\t<li>'Black%'</li>\n",
       "\t<li>'Hispanic%'</li>\n",
       "\t<li>'Asian%'</li>\n",
       "\t<li>'American_Indian%'</li>\n",
       "\t<li>'Pacific_Islander%'</li>\n",
       "\t<li>'Two_or_more_races%'</li>\n",
       "\t<li>'WhitePercInMSEF'</li>\n",
       "\t<li>'BlackPercInMSEF'</li>\n",
       "\t<li>'HispanicPercInMSEF'</li>\n",
       "\t<li>'AsianPercInMSEF'</li>\n",
       "\t<li>'SchoolDiversity'</li>\n",
       "\t<li>'MSEFDiversity'</li>\n",
       "\t<li>'DeviationEthnicityRep'</li>\n",
       "</ol>\n"
      ],
      "text/latex": [
       "\\begin{enumerate*}\n",
       "\\item 'sno'\n",
       "\\item 'Year'\n",
       "\\item 'Title'\n",
       "\\item 'cleanTitle'\n",
       "\\item 'uniq\\_project\\_title'\n",
       "\\item 'ProjectID3'\n",
       "\\item 'uniqProjectID'\n",
       "\\item 'multischool\\_project'\n",
       "\\item 'ProjectApproach'\n",
       "\\item 'class\\_ontology'\n",
       "\\item 'Field'\n",
       "\\item 'AppliedTo'\n",
       "\\item 'AppliedValue'\n",
       "\\item 'ProjectField'\n",
       "\\item 'Cancer'\n",
       "\\item 'AI\\_ML'\n",
       "\\item 'InfectiousDiseases\\_Covid'\n",
       "\\item 'Category'\n",
       "\\item 'SchoolName'\n",
       "\\item 'school\\_id'\n",
       "\\item 'school\\_region'\n",
       "\\item 'zip'\n",
       "\\item 'gender'\n",
       "\\item 'grade'\n",
       "\\item 'award'\n",
       "\\item 'awardvalue'\n",
       "\\item 'Ethnicity'\n",
       "\\item 'Race'\n",
       "\\item 'PerfBySchoolByYr'\n",
       "\\item 'RacePercBySchoolAllYears'\n",
       "\\item 'TotalStudentParticipatedAllYears'\n",
       "\\item 'StudentsByYearBySchool'\n",
       "\\item 'AllGender'\n",
       "\\item 'AllGrade'\n",
       "\\item 'AllEthnicity'\n",
       "\\item 'GenderComp'\n",
       "\\item 'AvgGrade'\n",
       "\\item 'EthnicityComp'\n",
       "\\item 'team\\_size'\n",
       "\\item 'award\\_value'\n",
       "\\item 'Total\\_awardValue'\n",
       "\\item 'TotalProjectFromSchoolAllYears'\n",
       "\\item 'NumberOfYearsParticipated'\n",
       "\\item 'Score2019'\n",
       "\\item '2019SchoolRank'\n",
       "\\item '2018Rank'\n",
       "\\item 'isCharter'\n",
       "\\item 'isTitle1'\n",
       "\\item 'NumStudents'\n",
       "\\item 'NumTeachers'\n",
       "\\item 'SpendingPerPupil'\n",
       "\\item 'White\\%'\n",
       "\\item 'Black\\%'\n",
       "\\item 'Hispanic\\%'\n",
       "\\item 'Asian\\%'\n",
       "\\item 'American\\_Indian\\%'\n",
       "\\item 'Pacific\\_Islander\\%'\n",
       "\\item 'Two\\_or\\_more\\_races\\%'\n",
       "\\item 'WhitePercInMSEF'\n",
       "\\item 'BlackPercInMSEF'\n",
       "\\item 'HispanicPercInMSEF'\n",
       "\\item 'AsianPercInMSEF'\n",
       "\\item 'SchoolDiversity'\n",
       "\\item 'MSEFDiversity'\n",
       "\\item 'DeviationEthnicityRep'\n",
       "\\end{enumerate*}\n"
      ],
      "text/markdown": [
       "1. 'sno'\n",
       "2. 'Year'\n",
       "3. 'Title'\n",
       "4. 'cleanTitle'\n",
       "5. 'uniq_project_title'\n",
       "6. 'ProjectID3'\n",
       "7. 'uniqProjectID'\n",
       "8. 'multischool_project'\n",
       "9. 'ProjectApproach'\n",
       "10. 'class_ontology'\n",
       "11. 'Field'\n",
       "12. 'AppliedTo'\n",
       "13. 'AppliedValue'\n",
       "14. 'ProjectField'\n",
       "15. 'Cancer'\n",
       "16. 'AI_ML'\n",
       "17. 'InfectiousDiseases_Covid'\n",
       "18. 'Category'\n",
       "19. 'SchoolName'\n",
       "20. 'school_id'\n",
       "21. 'school_region'\n",
       "22. 'zip'\n",
       "23. 'gender'\n",
       "24. 'grade'\n",
       "25. 'award'\n",
       "26. 'awardvalue'\n",
       "27. 'Ethnicity'\n",
       "28. 'Race'\n",
       "29. 'PerfBySchoolByYr'\n",
       "30. 'RacePercBySchoolAllYears'\n",
       "31. 'TotalStudentParticipatedAllYears'\n",
       "32. 'StudentsByYearBySchool'\n",
       "33. 'AllGender'\n",
       "34. 'AllGrade'\n",
       "35. 'AllEthnicity'\n",
       "36. 'GenderComp'\n",
       "37. 'AvgGrade'\n",
       "38. 'EthnicityComp'\n",
       "39. 'team_size'\n",
       "40. 'award_value'\n",
       "41. 'Total_awardValue'\n",
       "42. 'TotalProjectFromSchoolAllYears'\n",
       "43. 'NumberOfYearsParticipated'\n",
       "44. 'Score2019'\n",
       "45. '2019SchoolRank'\n",
       "46. '2018Rank'\n",
       "47. 'isCharter'\n",
       "48. 'isTitle1'\n",
       "49. 'NumStudents'\n",
       "50. 'NumTeachers'\n",
       "51. 'SpendingPerPupil'\n",
       "52. 'White%'\n",
       "53. 'Black%'\n",
       "54. 'Hispanic%'\n",
       "55. 'Asian%'\n",
       "56. 'American_Indian%'\n",
       "57. 'Pacific_Islander%'\n",
       "58. 'Two_or_more_races%'\n",
       "59. 'WhitePercInMSEF'\n",
       "60. 'BlackPercInMSEF'\n",
       "61. 'HispanicPercInMSEF'\n",
       "62. 'AsianPercInMSEF'\n",
       "63. 'SchoolDiversity'\n",
       "64. 'MSEFDiversity'\n",
       "65. 'DeviationEthnicityRep'\n",
       "\n",
       "\n"
      ],
      "text/plain": [
       " [1] \"sno\"                              \"Year\"                            \n",
       " [3] \"Title\"                            \"cleanTitle\"                      \n",
       " [5] \"uniq_project_title\"               \"ProjectID3\"                      \n",
       " [7] \"uniqProjectID\"                    \"multischool_project\"             \n",
       " [9] \"ProjectApproach\"                  \"class_ontology\"                  \n",
       "[11] \"Field\"                            \"AppliedTo\"                       \n",
       "[13] \"AppliedValue\"                     \"ProjectField\"                    \n",
       "[15] \"Cancer\"                           \"AI_ML\"                           \n",
       "[17] \"InfectiousDiseases_Covid\"         \"Category\"                        \n",
       "[19] \"SchoolName\"                       \"school_id\"                       \n",
       "[21] \"school_region\"                    \"zip\"                             \n",
       "[23] \"gender\"                           \"grade\"                           \n",
       "[25] \"award\"                            \"awardvalue\"                      \n",
       "[27] \"Ethnicity\"                        \"Race\"                            \n",
       "[29] \"PerfBySchoolByYr\"                 \"RacePercBySchoolAllYears\"        \n",
       "[31] \"TotalStudentParticipatedAllYears\" \"StudentsByYearBySchool\"          \n",
       "[33] \"AllGender\"                        \"AllGrade\"                        \n",
       "[35] \"AllEthnicity\"                     \"GenderComp\"                      \n",
       "[37] \"AvgGrade\"                         \"EthnicityComp\"                   \n",
       "[39] \"team_size\"                        \"award_value\"                     \n",
       "[41] \"Total_awardValue\"                 \"TotalProjectFromSchoolAllYears\"  \n",
       "[43] \"NumberOfYearsParticipated\"        \"Score2019\"                       \n",
       "[45] \"2019SchoolRank\"                   \"2018Rank\"                        \n",
       "[47] \"isCharter\"                        \"isTitle1\"                        \n",
       "[49] \"NumStudents\"                      \"NumTeachers\"                     \n",
       "[51] \"SpendingPerPupil\"                 \"White%\"                          \n",
       "[53] \"Black%\"                           \"Hispanic%\"                       \n",
       "[55] \"Asian%\"                           \"American_Indian%\"                \n",
       "[57] \"Pacific_Islander%\"                \"Two_or_more_races%\"              \n",
       "[59] \"WhitePercInMSEF\"                  \"BlackPercInMSEF\"                 \n",
       "[61] \"HispanicPercInMSEF\"               \"AsianPercInMSEF\"                 \n",
       "[63] \"SchoolDiversity\"                  \"MSEFDiversity\"                   \n",
       "[65] \"DeviationEthnicityRep\"           "
      ]
     },
     "metadata": {},
     "output_type": "display_data"
    }
   ],
   "source": [
    "colnames(schoolDat)[colnames(schoolDat)==\"2019Score\"] <- \"Score2019\"\n",
    "colnames(schoolDat)"
   ]
  },
  {
   "cell_type": "code",
   "execution_count": 9,
   "id": "50729aa9",
   "metadata": {},
   "outputs": [
    {
     "data": {
      "text/html": [
       "<ol class=list-inline>\n",
       "\t<li>2346</li>\n",
       "\t<li>66</li>\n",
       "</ol>\n"
      ],
      "text/latex": [
       "\\begin{enumerate*}\n",
       "\\item 2346\n",
       "\\item 66\n",
       "\\end{enumerate*}\n"
      ],
      "text/markdown": [
       "1. 2346\n",
       "2. 66\n",
       "\n",
       "\n"
      ],
      "text/plain": [
       "[1] 2346   66"
      ]
     },
     "metadata": {},
     "output_type": "display_data"
    },
    {
     "data": {
      "text/html": [
       "<ol class=list-inline>\n",
       "\t<li>614</li>\n",
       "\t<li>65</li>\n",
       "</ol>\n"
      ],
      "text/latex": [
       "\\begin{enumerate*}\n",
       "\\item 614\n",
       "\\item 65\n",
       "\\end{enumerate*}\n"
      ],
      "text/markdown": [
       "1. 614\n",
       "2. 65\n",
       "\n",
       "\n"
      ],
      "text/plain": [
       "[1] 614  65"
      ]
     },
     "metadata": {},
     "output_type": "display_data"
    },
    {
     "name": "stdout",
     "output_type": "stream",
     "text": [
      "[1] 2346   66\n",
      "[1] \"sno\"     \"numeric\"\n",
      "   Min. 1st Qu.  Median    Mean 3rd Qu.    Max. \n",
      "    1.0   763.2  1508.0  1502.4  2249.8  2950.0 \n",
      "[1] \"Year\"   \"factor\"\n",
      "2014 2015 2016 2017 2018 2019 2020 2021 \n",
      " 306  304  314  304  304  293  265  256 \n",
      "[1] \"Title\"     \"character\"\n",
      "[1] \"unique values\" \"2326\"         \n",
      "[1] \"cleanTitle\" \"character\" \n",
      "[1] \"unique values\" \"2307\"         \n",
      "[1] \"uniq_project_title\" \"numeric\"           \n",
      "   Min. 1st Qu.  Median    Mean 3rd Qu.    Max. \n",
      "   1.00    1.00    1.00    1.07    1.00    7.00 \n",
      "[1] \"ProjectID3\" \"factor\"    \n",
      "     75     168     192     561    1981    2089      36      47      59     105 \n",
      "      3       3       3       3       3       3       2       2       2       2 \n",
      "    123     124     130     133     146     202     211     248     274     300 \n",
      "      2       2       2       2       2       2       2       2       2       2 \n",
      "    302     307     308     338     352     357     369     415     435     457 \n",
      "      2       2       2       2       2       2       2       2       2       2 \n",
      "    474     540     560     571     577     611     617     633     675     721 \n",
      "      2       2       2       2       2       2       2       2       2       2 \n",
      "    828     835     878     908     909    1057    1119    1132    1133    1139 \n",
      "      2       2       2       2       2       2       2       2       2       2 \n",
      "   1151    1193    1204    1214    1220    1235    1254    1261    1277    1303 \n",
      "      2       2       2       2       2       2       2       2       2       2 \n",
      "   1355    1385    1418    1493    1515    1540    1545    1576    1602    1606 \n",
      "      2       2       2       2       2       2       2       2       2       2 \n",
      "   1656    1660    1849    1960    2050    2140    2188    2202       1       2 \n",
      "      2       2       2       2       2       2       2       2       1       1 \n",
      "      3       4       5       6       7       8       9      10      11      12 \n",
      "      1       1       1       1       1       1       1       1       1       1 \n",
      "     13      14      15      16      17      18      19      20      21 (Other) \n",
      "      1       1       1       1       1       1       1       1       1    2163 \n",
      "[1] \"uniqProjectID\" \"factor\"       \n",
      "   1    2    3    4    5    6    7    8 \n",
      "2159  156   25    3    2    0    1    0 \n",
      "[1] \"multischool_project\" \"factor\"             \n",
      "   1 NA's \n",
      "   9 2337 \n",
      "[1] \"ProjectApproach\" \"factor\"         \n",
      "   a    d    m    n    s \n",
      "1574  349  421    1    1 \n",
      "[1] \"class_ontology\" \"character\"     \n",
      "[1] \"unique values\" \"175\"          \n",
      "[1] \"Field\"  \"factor\"\n",
      "   acoustics  agriculture  Agriculture    astronomy    behaviour      biochem \n",
      "          33           21            7           22           86          306 \n",
      "     biology      Biology     cell bio cell biology    chemistry    Chemistry \n",
      "           4          100           11            6          418           44 \n",
      "       civil      compsci      CompSci      ecology    economics  electronics \n",
      "          34          172           14          119            1          115 \n",
      " engineering  Engineering  environment  Environment     genetics      geology \n",
      "           8           13           61           55           90            2 \n",
      "  infectious         math         Math   mechanical   Mechanical     medicine \n",
      "           2           47            5          200           57            1 \n",
      "     medtech     microbio neuroscience Neuroscience    nutrition       optics \n",
      "           3          102           17            1            7            9 \n",
      "     physics      Physics     robotics       social       Social   statistics \n",
      "          85           26            4           13            3           22 \n",
      "[1] \"AppliedTo\" \"factor\"   \n",
      "    agriculture       astronomy        behavior       behaviour         biochem \n",
      "            101              11               4              23               6 \n",
      "        biology          cancer      cardiovasc        cell bio       chemistry \n",
      "              4              23              16              41               7 \n",
      "          civil         compsci         drugdev         ecology     electronics \n",
      "              6               2               1              81               1 \n",
      "         energy     environment         finance       forensics           funda \n",
      "            154             210              11               1              18 \n",
      "          games        genetics         geology          health       household \n",
      "              1              10               2               4              77 \n",
      "         immune      infectious       logistics        material            math \n",
      "              5              29               5               4               3 \n",
      "     mechanical         medical        microbio          molbio    neuroscience \n",
      "              5             321              50               1              56 \n",
      "      nutrition    paleontology pharmaceuticals         physics        robotics \n",
      "             57               3               1               5              24 \n",
      "         safety        security          social          sports  transportation \n",
      "             84              23              53              38              60 \n",
      "           NA's \n",
      "            704 \n",
      "[1] \"AppliedValue\" \"numeric\"     \n",
      "   Min. 1st Qu.  Median    Mean 3rd Qu.    Max.    NA's \n",
      "  1.000   2.000   3.000   3.595   5.000   9.000       7 \n",
      "[1] \"ProjectField\" \"factor\"      \n",
      "BehavioralAndSocial             biology           Chemistry         ComputerSci \n",
      "                138                 819                 172                 178 \n",
      "        Engineering         environment                Math             Physics \n",
      "                536                 396                  46                  61 \n",
      "[1] \"Cancer\" \"factor\"\n",
      "   0    1 \n",
      "2284   62 \n",
      "[1] \"AI_ML\"  \"factor\"\n",
      "   0    1 \n",
      "2259   87 \n",
      "[1] \"InfectiousDiseases_Covid\" \"factor\"                  \n",
      "   0    1 \n",
      "2198  148 \n",
      "[1] \"Category\" \"factor\"  \n",
      "        Behavioral_and_Social_Sciences                     Behavioral_Science \n",
      "                                    14                                    113 \n",
      "                          Biochemistry                                Biology \n",
      "                                   159                                    713 \n",
      "                             Chemistry                       Computer_Science \n",
      "                                   210                                    164 \n",
      "                   Earth_Space_Science                            Engineering \n",
      "                                    32                                    398 \n",
      "Engineering:_Electrical_and_Mechanical                 Environmental_Sciences \n",
      "                                    35                                    303 \n",
      "                           Mathematics                    Physics_Electronics \n",
      "                                    41                                    164 \n",
      "[1] \"SchoolName\" \"character\" \n",
      "[1] \"unique values\" \"173\"          \n",
      "[1] \"school_id\" \"factor\"   \n",
      "     74      87     166      53     157     149      17     130      67     107 \n",
      "    119     115     103      89      75      74      72      64      59      54 \n",
      "    140     147      22     133      11      21      13       2      54     102 \n",
      "     49      46      45      45      42      41      38      33      33      33 \n",
      "     50     105      56      70     120      49     114      85      52     165 \n",
      "     31      31      30      29      27      25      25      24      22      20 \n",
      "     26     113      91     144     154     109     128     135      10      32 \n",
      "     19      18      17      17      17      16      16      16      15      15 \n",
      "     51      83     124     132     137      24      76     172       3      18 \n",
      "     14      14      14      14      13      12      12      12      11      11 \n",
      "    112     126      25      46      68     138      23      59      62      71 \n",
      "     11      10       9       9       9       9       8       8       8       8 \n",
      "     73      79      86     117      16      92      93      96     103     116 \n",
      "      8       8       8       8       7       7       7       7       7       7 \n",
      "    163       5      34      82     118      12      33      44      94     100 \n",
      "      7       6       6       6       6       5       5       5       5       5 \n",
      "    152     155     169       4      43      65      66      75      78      88 \n",
      "      5       5       5       4       4       4       4       4       4       4 \n",
      "    101     129     131     156      60      64      69      81 (Other)    NA's \n",
      "      4       4       4       4       3       3       3       3     110     160 \n",
      "[1] \"school_region\" \"character\"    \n",
      "[1] \"unique values\" \"7\"            \n",
      "[1] \"zip\"       \"character\"\n",
      "[1] \"unique values\" \"175\"          \n",
      "[1] \"gender\" \"factor\"\n",
      "   F    M    X \n",
      "1078  844  424 \n",
      "[1] \"grade\"  \"factor\"\n",
      "10th 11th 12th  9th    X \n",
      " 683  762  354  387  160 \n",
      "[1] \"award\"  \"factor\"\n",
      "  First      HM noAward  Second   Third \n",
      "    171     262    1498     182     233 \n",
      "[1] \"awardvalue\" \"numeric\"   \n",
      "   Min. 1st Qu.  Median    Mean 3rd Qu.    Max. \n",
      " 0.0000  0.0000  0.0000  0.1587  0.1250  1.0000 \n",
      "[1] \"Ethnicity\" \"factor\"   \n",
      "        African           Asian        Biracial       Caucasian          Latino \n",
      "             86             440              29             931             102 \n",
      "Native American           Other      SouthAsian            NA's \n",
      "              2             112             229             415 \n",
      "[1] \"Race\"      \"character\"\n",
      "[1] \"unique values\" \"6\"            \n",
      "[1] \"PerfBySchoolByYr\" \"numeric\"         \n",
      "   Min. 1st Qu.  Median    Mean 3rd Qu.    Max. \n",
      "  0.000   0.000   0.625   1.587   2.000  11.542 \n",
      "[1] \"RacePercBySchoolAllYears\" \"numeric\"                 \n",
      "   Min. 1st Qu.  Median    Mean 3rd Qu.    Max.    NA's \n",
      " 0.0058  0.3000  0.5658  0.5219  0.6907  1.0000     529 \n",
      "[1] \"TotalStudentParticipatedAllYears\" \"numeric\"                         \n",
      "   Min. 1st Qu.  Median    Mean 3rd Qu.    Max.    NA's \n",
      "   1.00   20.00   51.00   57.88   77.00  171.00     160 \n",
      "[1] \"StudentsByYearBySchool\" \"numeric\"               \n",
      "   Min. 1st Qu.  Median    Mean 3rd Qu.    Max. \n",
      "   1.00    4.00    8.00   10.12   14.00   33.00 \n",
      "[1] \"AllGender\" \"factor\"   \n",
      "    F   F_F F_F_F F_F_M F_F_x   F_M F_M_M   F_x     M   M_M M_M_M   M_x  NA's \n",
      "  850   157    27    14     1    56     9     2   635   141    32     1   421 \n",
      "[1] \"AllGrade\" \"factor\"  \n",
      "      10    10_10 10_10_10 10_10_11    10_11 10_11_11 10_11_12    10_12 \n",
      "     519       99       19        3       37        3        1       16 \n",
      "10_12_12       11    11_11 11_11_11 11_11_12    11_12 11_12_12       12 \n",
      "       3      599       87       23        5       32        4      253 \n",
      "   12_12 12_12_12        9     9_10  9_10_10  9_10_11  9_10_12     9_11 \n",
      "      57       10      324       23        2        3        1       16 \n",
      " 9_11_11     9_12      9_9   9_9_10   9_9_11    9_9_9        X \n",
      "       1        3       30        4        1        8      160 \n",
      "[1] \"AllEthnicity\" \"factor\"      \n",
      "                       African                African_African \n",
      "                            68                              8 \n",
      "       African_African_African          African_African_Asian \n",
      "                             3                              2 \n",
      "     African_African_Caucasian         African_African_Latino \n",
      "                             2                              4 \n",
      "         African_African_Other                  African_Asian \n",
      "                             1                              7 \n",
      "       African_Asian_Caucasian               African_Biracial \n",
      "                             1                              3 \n",
      "   African_Biracial_SouthAsian              African_Caucasian \n",
      "                             1                             12 \n",
      "   African_Caucasian_Caucasian                 African_Latino \n",
      "                             2                              6 \n",
      "         African_Latino_Latino                  African_Other \n",
      "                             2                              4 \n",
      "            African_SouthAsian                          Asian \n",
      "                             2                            325 \n",
      "                   Asian_Asian              Asian_Asian_Asian \n",
      "                            19                              3 \n",
      "         Asian_Asian_Caucasian             Asian_Asian_Latino \n",
      "                             3                              1 \n",
      "             Asian_Asian_Other         Asian_Asian_SouthAsian \n",
      "                             1                              1 \n",
      "                Asian_biracial                Asian_Caucasian \n",
      "                             1                             23 \n",
      "     Asian_Caucasian_Caucasian         Asian_Caucasian_Latino \n",
      "                             3                              1 \n",
      "    Asian_Caucasian_SouthAsian                   Asian_Latino \n",
      "                             7                              9 \n",
      "           Asian_Latino_Latino             Asian_Latino_Other \n",
      "                             2                              1 \n",
      "       Asian_Latino_SouthAsian                    Asian_Other \n",
      "                             1                             11 \n",
      "        Asian_Other_SouthAsian               Asian_SouthAsian \n",
      "                             1                             17 \n",
      "   Asian_SouthAsian_SouthAsian                       biracial \n",
      "                             2                              4 \n",
      "                      Biracial              Biracial_Biracial \n",
      "                            13                              1 \n",
      "            biracial_Caucasian             Biracial_Caucasian \n",
      "                             2                              5 \n",
      "     Biracial_Caucasian_Latino                      Caucasian \n",
      "                             1                            730 \n",
      "           Caucasian_Caucasian  Caucasian_Caucasian_Caucasian \n",
      "                           133                             14 \n",
      "    Caucasian_Caucasian_Latino      Caucasian_Caucasian_Other \n",
      "                             3                              6 \n",
      "Caucasian_Caucasian_SouthAsian               Caucasian_Latino \n",
      "                             1                             14 \n",
      "        Caucasian_Latino_Other      Caucasian_Native American \n",
      "                             1                              1 \n",
      "               Caucasian_Other           Caucasian_SouthAsian \n",
      "                            10                             12 \n",
      "                        Latino                  Latino_Latino \n",
      "                            52                             15 \n",
      "          Latino_Latino_Latino            Latino_Latino_Other \n",
      "                             6                              1 \n",
      "      Latino_Latino_SouthAsian         Latino_Native American \n",
      "                             1                              2 \n",
      "                  Latino_Other              Latino_SouthAsian \n",
      "                             1                              6 \n",
      "  Latino_SouthAsian_SouthAsian                Native American \n",
      "                             1                              2 \n",
      "                         Other                    Other_Other \n",
      "                            91                              3 \n",
      "        Other_Other_SouthAsian               Other_SouthAsian \n",
      "                             3                              9 \n",
      "                    SouthAsian          SouthAsian_SouthAsian \n",
      "                           206                             21 \n",
      "                             X \n",
      "                           415 \n",
      "[1] \"GenderComp\" \"factor\"    \n",
      "AllF AllM  Mix    X \n",
      "1037  809   79  421 \n",
      "[1] \"AvgGrade\" \"numeric\" \n",
      "   Min. 1st Qu.  Median    Mean 3rd Qu.    Max.    NA's \n",
      "   9.00   10.00   10.58   10.49   11.00   12.00     160 \n",
      "[1] \"EthnicityComp\" \"factor\"       \n",
      "            1             2             3      AllAsian   AllBiracial \n",
      "            3           196            18           347            18 \n",
      "     AllBlack     AllLatino AllSouthAsian      AllWhite             X \n",
      "           79            73           227           877           508 \n",
      "[1] \"team_size\" \"numeric\"  \n",
      "   Min. 1st Qu.  Median    Mean 3rd Qu.    Max. \n",
      "  1.000   1.000   1.000   1.248   1.000   3.000 \n",
      "[1] \"award_value\" \"numeric\"    \n",
      "   Min. 1st Qu.  Median    Mean 3rd Qu.    Max.    NA's \n",
      "   1.00    3.00   20.00   13.76   20.00   20.00     160 \n",
      "[1] \"Total_awardValue\" \"numeric\"         \n",
      "   Min. 1st Qu.  Median    Mean 3rd Qu.    Max.    NA's \n",
      "  0.050   2.425   7.100  13.633  18.808  57.583     160 \n",
      "[1] \"TotalProjectFromSchoolAllYears\" \"numeric\"                       \n",
      "   Min. 1st Qu.  Median    Mean 3rd Qu.    Max.    NA's \n",
      "   1.00   20.00   51.00   57.88   77.00  171.00     160 \n",
      "[1] \"NumberOfYearsParticipated\" \"numeric\"                  \n",
      "   Min. 1st Qu.  Median    Mean 3rd Qu.    Max.    NA's \n",
      "  1.000   6.000   8.000   6.603   8.000   8.000     160 \n",
      "[1] \"2019Score\" \"numeric\"  \n",
      "   Min. 1st Qu.  Median    Mean 3rd Qu.    Max.    NA's \n",
      "   1.20   43.60   65.90   61.45   86.60   93.20     825 \n",
      "[1] \"2019SchoolRank\" \"numeric\"       \n",
      "   Min. 1st Qu.  Median    Mean 3rd Qu.    Max.    NA's \n",
      "    1.0    30.0   136.0   140.4   228.0   346.0     825 \n",
      "[1] \"2018Rank\" \"numeric\" \n",
      "   Min. 1st Qu.  Median    Mean 3rd Qu.    Max.    NA's \n",
      "    1.0    39.0   127.0   138.4   241.0   337.0     825 \n",
      "[1] \"isCharter\" \"factor\"   \n",
      "   N    Y NA's \n",
      "1357  164  825 \n",
      "[1] \"isTitle1\" \"factor\"  \n",
      "   N    Y NA's \n",
      " 943  578  825 \n",
      "[1] \"NumStudents\" \"numeric\"    \n",
      "   Min. 1st Qu.  Median    Mean 3rd Qu.    Max.    NA's \n",
      "    253     974    1251    1440    1978    4032     825 \n",
      "[1] \"NumTeachers\" \"numeric\"    \n",
      "   Min. 1st Qu.  Median    Mean 3rd Qu.    Max.    NA's \n",
      "   26.0    81.0   100.0   106.3   130.0   235.0     825 \n",
      "[1] \"SpendingPerPupil\" \"numeric\"         \n",
      "   Min. 1st Qu.  Median    Mean 3rd Qu.    Max.    NA's \n",
      "      0   13871   15544   15029   18000   33741     825 \n",
      "[1] \"White%\"  \"numeric\"\n",
      "   Min. 1st Qu.  Median    Mean 3rd Qu.    Max.    NA's \n",
      " 0.0170  0.3530  0.6070  0.5779  0.7850  0.9620     825 \n",
      "[1] \"Black%\"  \"numeric\"\n",
      "   Min. 1st Qu.  Median    Mean 3rd Qu.    Max.    NA's \n",
      " 0.0000  0.0240  0.0380  0.1086  0.1400  0.7120     825 \n",
      "[1] \"Hispanic%\" \"numeric\"  \n",
      "   Min. 1st Qu.  Median    Mean 3rd Qu.    Max.    NA's \n",
      " 0.0120  0.0420  0.0800  0.1441  0.1360  0.8740     825 \n",
      "[1] \"Asian%\"  \"numeric\"\n",
      "   Min. 1st Qu.  Median    Mean 3rd Qu.    Max.    NA's \n",
      " 0.0050  0.0230  0.0690  0.1318  0.2230  0.5680     825 \n",
      "[1] \"American_Indian%\" \"numeric\"         \n",
      "   Min. 1st Qu.  Median    Mean 3rd Qu.    Max.    NA's \n",
      " 0.0000  0.0010  0.0020  0.0029  0.0030  0.0250     825 \n",
      "[1] \"Pacific_Islander%\" \"numeric\"          \n",
      "   Min. 1st Qu.  Median    Mean 3rd Qu.    Max.    NA's \n",
      " 0.0000  0.0000  0.0000  0.0008  0.0010  0.0360     825 \n",
      "[1] \"Two_or_more_races%\" \"numeric\"           \n",
      "   Min. 1st Qu.  Median    Mean 3rd Qu.    Max.    NA's \n",
      " 0.0010  0.0190  0.0300  0.0333  0.0450  0.0930     825 \n",
      "[1] \"WhitePercInMSEF\" \"numeric\"        \n",
      "   Min. 1st Qu.  Median    Mean 3rd Qu.    Max. \n",
      " 0.0000  0.1200  0.3462  0.3965  0.6575  1.0000 \n",
      "[1] \"BlackPercInMSEF\" \"numeric\"        \n",
      "   Min. 1st Qu.  Median    Mean 3rd Qu.    Max. \n",
      "0.00000 0.00000 0.00000 0.04594 0.03571 1.00000 \n",
      "[1] \"HispanicPercInMSEF\" \"numeric\"           \n",
      "   Min. 1st Qu.  Median    Mean 3rd Qu.    Max. \n",
      "0.00000 0.00000 0.00813 0.04756 0.04225 1.00000 \n",
      "[1] \"AsianPercInMSEF\" \"numeric\"        \n",
      "   Min. 1st Qu.  Median    Mean 3rd Qu.    Max. \n",
      "0.00000 0.04225 0.19512 0.26190 0.42509 1.00000 \n",
      "[1] \"SchoolDiversity\" \"numeric\"        \n",
      "   Min. 1st Qu.  Median    Mean 3rd Qu.    Max.    NA's \n",
      "-0.6469 -0.4878 -0.4539 -0.4230 -0.3286 -0.0870     825 \n",
      "[1] \"MSEFDiversity\" \"numeric\"      \n",
      "   Min. 1st Qu.  Median    Mean 3rd Qu.    Max.    NA's \n",
      "-0.5771 -0.3736 -0.2957 -0.2893 -0.2159  0.0000     160 \n",
      "[1] \"DeviationEthnicityRep\" \"numeric\"              \n",
      "   Min. 1st Qu.  Median    Mean 3rd Qu.    Max.    NA's \n",
      " 0.0041  0.0288  0.1011  0.1818  0.2222  1.7909     825 \n",
      "[1] \"award2\" \"factor\"\n",
      "  award      HM noAward \n",
      "    586     262    1498 \n"
     ]
    }
   ],
   "source": [
    "dim(projDat)\n",
    "dim(schoolDat)\n",
    "createSummaryStats(projDat)"
   ]
  },
  {
   "cell_type": "code",
   "execution_count": 10,
   "id": "856bf6f8",
   "metadata": {},
   "outputs": [],
   "source": [
    "# Plots to make\n",
    "# Word cloud of the cleaned up text.\n",
    "# Analysis of general participation and trends in project topics\n",
    "# 1. bar plot of number of participants by each year (x-axis), stacked by boys and girls : show Chi sq test of homogeniety\n",
    "# 2. bar plot of number of participants by each year (x-axis), stacked by grade : show Chi sq test of homogeniety \n",
    "# 2b. bar plot of number of participants by each year (x-axis), stacked by Ethnicity : show Chi sq test of homogeniety \n",
    "# 3. bar plot of number of projects (uniq projectID3) in each year, stacked by category of the project\n",
    "# 4. bar plot of number of projects in each category stacked by gender Composition: show Chi sq test of homogeniety\n",
    "# 5. bar plot of number of projects in each category stacked by grade composition\n",
    "# 6. bar plot of number of projects in each category stacked by ethnicity make up: show Chi sq test of homogeniety\n",
    "# 7. bar plot of number of cancer projects by year (x-axis): show Chi sq test of homogeniety\n",
    "# 8. bar plot of number of AI/ML projects by year (x-axis): show Chi sq test of homogeniety\n",
    "# 9. bar plot of number of Infectious Disease projects by year (x-axis) :show Chi sq test of homogeniety\n",
    "\n",
    "# Analysis of the performance (probability of winning an award)\n",
    "# 10. bar plot of number of projects by category (x-axis) and stacked by award (1,2,3) or no-award (HM and NA)\n",
    "# 11. bar plot of number of projects by cancer vs non, (x-axis) stacked by award or no award. :test of proportions\n",
    "# 12. bar plot of number of projects by AI/ML vs non, (x-axis) stacked by award or no award.: test of proportions\n",
    "# 13. bar plot of number of projects by Infectious Diseases vs non, (x-axis) stacked by award or no award.: test of proportions\n",
    "# 14. bar plot of number of projects by Gender comp, (x-axis) stacked by award or no award.: test of proportions\n",
    "# 15. bar plot of number of projects by grade Comp, (x-axis) stacked by award or no award.: show Chi sq test of homogeniety\n",
    "# 16. bar plot of number of projects by Ethnicity Comp, (x-axis) stacked by award or no award. :show Chi sq test of homogeniety\n",
    "# 16.5 plot of applied vs fundamental projects\n",
    "\n",
    "# Analysis of the School level attributes in participation and performance\n",
    "# 17. bar plot of number of schools participating by year (x-axis), stacked by private/public schools.\n",
    "# 18. histogram of the number of projects (binned 0-2, 2-5, 5-10, 10-15, 15-20, 20+) from each school (x-axis), and the number of schools... i.e most schools would have 2-3 projects, few schools would have 10-15 entries.\n",
    "# 19. scatterplot of school participation (# of projects) vs student size\n",
    "# 20. scatterplot of school participation (# of projects) vs funding\n",
    "# 21. scatterplot of school participation vs school rank (2019 or 2018 or avg rank)\n",
    "# 22. scatterplot of school size vs performance score\n",
    "# 23. scatterplot of school funding vs performance score\n",
    "# 24. scatterplot of school rank (avg of 2019, 2018) vs performance score\n",
    "\n",
    "# 25. clustering (dendrogram) of projects by words, etc.\n",
    "# 26. clustering of schools in PC space\n",
    "\n",
    "cols4counts <- c(\"Year\",\"ProjectField\",\"Cancer\",\"AI_ML\",\"InfectiousDiseases_Covid\",\"Category\",\"school_id\",\"gender\",\"grade\",\"award\",\"Ethnicity\",\"AllGender\",\"AllGrade\",\"AllEthnicity\",\"GenderComp\",\"EthnicityComp\",\"isCharter\",\"isTitle1\")"
   ]
  },
  {
   "cell_type": "code",
   "execution_count": 11,
   "id": "cdeb0798",
   "metadata": {
    "scrolled": false
   },
   "outputs": [
    {
     "data": {
      "text/plain": [
       "      gender\n",
       "Year     F   M   X\n",
       "  2014 186 186  21\n",
       "  2015 192 171  24\n",
       "  2016 187 167  32\n",
       "  2017 203 151  24\n",
       "  2018 178 165  32\n",
       "  2019 199 131  34\n",
       "  2020 197 131   2\n",
       "  2021   0   0 315"
      ]
     },
     "metadata": {},
     "output_type": "display_data"
    },
    {
     "data": {
      "text/html": [
       "<ol class=list-inline>\n",
       "\t<li>8</li>\n",
       "\t<li>3</li>\n",
       "</ol>\n"
      ],
      "text/latex": [
       "\\begin{enumerate*}\n",
       "\\item 8\n",
       "\\item 3\n",
       "\\end{enumerate*}\n"
      ],
      "text/markdown": [
       "1. 8\n",
       "2. 3\n",
       "\n",
       "\n"
      ],
      "text/plain": [
       "[1] 8 3"
      ]
     },
     "metadata": {},
     "output_type": "display_data"
    },
    {
     "data": {
      "text/html": [
       "2928"
      ],
      "text/latex": [
       "2928"
      ],
      "text/markdown": [
       "2928"
      ],
      "text/plain": [
       "[1] 2928"
      ]
     },
     "metadata": {},
     "output_type": "display_data"
    },
    {
     "data": {
      "text/plain": [
       "\n",
       "\tPearson's Chi-squared test\n",
       "\n",
       "data:  table(dat[, c(\"Year\", \"gender\")])[c(1:7), c(1, 2)]\n",
       "X-squared = 14.339, df = 6, p-value = 0.02607\n"
      ]
     },
     "metadata": {},
     "output_type": "display_data"
    },
    {
     "data": {
      "image/png": "[encoded data removed]",
      "text/plain": [
       "plot without title"
      ]
     },
     "metadata": {},
     "output_type": "display_data"
    }
   ],
   "source": [
    "# 1. bar plot of number of participants by each year (x-axis), stacked by boys and girls : show Chi sq test of homogeniety\n",
    "tab <- table(dat[,c(\"Year\", \"gender\")])\n",
    "tab\n",
    "\n",
    "dim(tab)\n",
    "sum(tab)\n",
    "\n",
    "chisq.test(table(dat[,c(\"Year\", \"gender\")])[c(1:7),c(1,2)])\n",
    "t <- as.data.frame(tab)\n",
    "t$gender <- factor(t$gender, levels=c(\"Male\", \"Female\", \"Unknown\", \"F\", \"M\", \"X\"))\n",
    "t$gender[which(t$gender == \"X\")] <- \"Unknown\"\n",
    "t$gender[which(t$gender == \"M\")] <- \"Male\"\n",
    "t$gender[which(t$gender == \"F\")] <- \"Female\"\n",
    "perc <- as.data.frame(round(tab/apply(tab, 1, sum),2))\n",
    "t <- cbind(t,perc[,3])\n",
    "colnames(t)[4] <- \"percentage\"\n",
    "\n",
    "g <- ggplot(data = t, aes(x = Year, y = Freq, fill = gender))\n",
    "g <- g + geom_bar(stat = \"identity\", position = position_stack(reverse=TRUE))\n",
    "# g <- g + scale_fill_manual(values = colorsGray[c(4,3,2)])\n",
    "g <- g + geom_text(aes(label=percentage), position = position_stack(vjust=0.5, reverse = TRUE),colour = \"white\", size = 3)\n",
    "# g <- g + labs(title = \"Student Participation in Science Fair by Gender\", caption = \"Fig 1.0: Percentages Shown in bar, Gender breakdown for 2021 unavailable\")\n",
    "g <- g + labs(x = \"Year\", y = \"Number Of Students\")\n",
    "g"
   ]
  },
  {
   "cell_type": "code",
   "execution_count": 37,
   "id": "a37779b8",
   "metadata": {},
   "outputs": [
    {
     "data": {
      "text/plain": [
       "      grade\n",
       "Year   10th 11th 12th 9th   X\n",
       "  2014  124  116   79  53  21\n",
       "  2015  127  119   79  38  24\n",
       "  2016  124  113   55  62  32\n",
       "  2017  124  103   46  85  20\n",
       "  2018   87  137   72  47  32\n",
       "  2019   91  120   57  65  31\n",
       "  2020  120  107   40  63   0\n",
       "  2021   78  142   41  54   0"
      ]
     },
     "metadata": {},
     "output_type": "display_data"
    },
    {
     "data": {
      "text/plain": [
       "\n",
       "\tPearson's Chi-squared test\n",
       "\n",
       "data:  table(dat[, c(\"Year\", \"grade\")])[c(1:7), c(1:4)]\n",
       "X-squared = 64.678, df = 18, p-value = 3.514e-07\n"
      ]
     },
     "metadata": {},
     "output_type": "display_data"
    },
    {
     "data": {
      "image/png": "[encoded data removed]",
      "text/plain": [
       "plot without title"
      ]
     },
     "metadata": {},
     "output_type": "display_data"
    }
   ],
   "source": [
    "# 2. bar plot of number of participants by each year (x-axis), stacked by grade : show Chi sq test of homogeniety \n",
    "tab <- table(dat[,c(\"Year\", \"grade\")])\n",
    "tab\n",
    "chisq.test(table(dat[,c(\"Year\", \"grade\")])[c(1:7),c(1:4)])\n",
    "#barplot(table(dat[,c(\"grade\", \"Year\")]), legend = T)\n",
    "\n",
    "t <- as.data.frame(tab)\n",
    "#t\n",
    "perc <- as.data.frame(round(tab/apply(tab, 1, sum),2))\n",
    "t <- cbind(t,perc[,3])\n",
    "t$grade <- as.character(t$grade)\n",
    "t$grade[which(t$grade == \"9th\")] = \"09th\"\n",
    "colnames(t)[4] <- \"percentage\"\n",
    "\n",
    "g <- ggplot(data = t, aes(x = Year, y = Freq, fill = grade))\n",
    "g <- g + geom_bar(stat = \"identity\", position = position_stack(reverse=TRUE))\n",
    "# g <- g + scale_fill_manual(values = colorsGray[c(6,7,4,3,2)])\n",
    "g <- g + geom_text(aes(label=percentage), position = position_stack(vjust=0.5, reverse = TRUE),colour = \"white\", size = 3)\n",
    "g <- g + labs(title = \"Student Participation in Science Fair By Grade\", caption = \"Fig 1.0: Percentages Shown in bar\")\n",
    "g\n",
    "\n"
   ]
  },
  {
   "cell_type": "code",
   "execution_count": 29,
   "id": "2d975411",
   "metadata": {},
   "outputs": [
    {
     "data": {
      "text/plain": [
       "      Ethnicity\n",
       "Year   African Asian Biracial Caucasian Latino Native American Other SouthAsian\n",
       "  2014      16    77        4       197     15               0    30         33\n",
       "  2015      14    71        6       199     17               0    23         33\n",
       "  2016      15    64        6       188     23               0    20         38\n",
       "  2017      36    59        3       161     24               2    28         45\n",
       "  2018      25    67        3       149     34               3    14         48\n",
       "  2019      30    58        4       146     23               0    17         55\n",
       "  2020      15    77        6       123     28               0    18         63\n",
       "  2021       0     0        0         0      0               0     0          1"
      ]
     },
     "metadata": {},
     "output_type": "display_data"
    },
    {
     "data": {
      "text/html": [
       "<ol class=list-inline>\n",
       "\t<li>8</li>\n",
       "\t<li>8</li>\n",
       "</ol>\n"
      ],
      "text/latex": [
       "\\begin{enumerate*}\n",
       "\\item 8\n",
       "\\item 8\n",
       "\\end{enumerate*}\n"
      ],
      "text/markdown": [
       "1. 8\n",
       "2. 8\n",
       "\n",
       "\n"
      ],
      "text/plain": [
       "[1] 8 8"
      ]
     },
     "metadata": {},
     "output_type": "display_data"
    },
    {
     "data": {
      "text/html": [
       "2454"
      ],
      "text/latex": [
       "2454"
      ],
      "text/markdown": [
       "2454"
      ],
      "text/plain": [
       "[1] 2454"
      ]
     },
     "metadata": {},
     "output_type": "display_data"
    },
    {
     "data": {
      "text/plain": [
       "\n",
       "\tPearson's Chi-squared test\n",
       "\n",
       "data:  table(dat[, c(\"Year\", \"Ethnicity\")])[c(1:7), c(1, 2, 4, 5, 8)]\n",
       "X-squared = 83.348, df = 24, p-value = 1.766e-08\n"
      ]
     },
     "metadata": {},
     "output_type": "display_data"
    },
    {
     "data": {
      "image/png": "[encoded data removed]",
      "text/plain": [
       "plot without title"
      ]
     },
     "metadata": {},
     "output_type": "display_data"
    }
   ],
   "source": [
    "# 2b. bar plot of number of participants by each year (x-axis), stacked by ethnicity : show Chi sq test of homogeniety \n",
    "tab <- table(dat[,c(\"Year\", \"Ethnicity\")])\n",
    "tab\n",
    "\n",
    "dim(tab)\n",
    "sum(tab)\n",
    "\n",
    "chisq.test(table(dat[,c(\"Year\", \"Ethnicity\")])[c(1:7),c(1,2,4,5,8)])\n",
    "\n",
    "t <- as.data.frame(tab)\n",
    "#t\n",
    "perc <- as.data.frame(round(tab/apply(tab, 1, sum),2))\n",
    "t <- cbind(t,perc[,3])\n",
    "colnames(t)[4] <- \"percentage\"\n",
    "\n",
    "g <- ggplot(data = t, aes(x = Year, y = Freq, fill = Ethnicity))\n",
    "g <- g + geom_bar(stat = \"identity\", position = position_stack(reverse=TRUE))\n",
    "# g <- g + scale_fill_manual(values = colors4plots[1:10])\n",
    "g <- g + geom_text(aes(label=percentage), position = position_stack(vjust=0.5, reverse = TRUE),colour = \"white\", size = 3)\n",
    "# g <- g + labs(title = \"Student Participation in Science Fair By Ethnicity\", caption = \"Fig 1.0: Percentages Shown in bar\")\n",
    "g <- g + labs(x = \"Year\", y = \"Number Of Students\")\n",
    "g"
   ]
  },
  {
   "cell_type": "code",
   "execution_count": 34,
   "id": "156a4cb6",
   "metadata": {
    "scrolled": false
   },
   "outputs": [
    {
     "data": {
      "text/plain": [
       "      ProjectField\n",
       "Year   BehavioralAndSocial biology Chemistry ComputerSci Engineering\n",
       "  2014                  16     112        23           6          76\n",
       "  2015                  13     118        24          13          73\n",
       "  2016                  25      90        27           8          81\n",
       "  2017                  17     119        23          11          71\n",
       "  2018                  21      99        21          37          67\n",
       "  2019                  16     111        20          27          61\n",
       "  2020                  11      87        17          29          61\n",
       "  2021                  19      83        17          47          46\n",
       "      ProjectField\n",
       "Year   environment Math Physics\n",
       "  2014          60    6       7\n",
       "  2015          49    6       8\n",
       "  2016          66   10       7\n",
       "  2017          49    5       9\n",
       "  2018          47    2      10\n",
       "  2019          43    6       9\n",
       "  2020          50    6       4\n",
       "  2021          32    5       7"
      ]
     },
     "metadata": {},
     "output_type": "display_data"
    },
    {
     "data": {
      "text/html": [
       "<ol class=list-inline>\n",
       "\t<li>8</li>\n",
       "\t<li>8</li>\n",
       "</ol>\n"
      ],
      "text/latex": [
       "\\begin{enumerate*}\n",
       "\\item 8\n",
       "\\item 8\n",
       "\\end{enumerate*}\n"
      ],
      "text/markdown": [
       "1. 8\n",
       "2. 8\n",
       "\n",
       "\n"
      ],
      "text/plain": [
       "[1] 8 8"
      ]
     },
     "metadata": {},
     "output_type": "display_data"
    },
    {
     "data": {
      "text/html": [
       "2346"
      ],
      "text/latex": [
       "2346"
      ],
      "text/markdown": [
       "2346"
      ],
      "text/plain": [
       "[1] 2346"
      ]
     },
     "metadata": {},
     "output_type": "display_data"
    },
    {
     "data": {
      "text/plain": [
       "\n",
       "\tPearson's Chi-squared test\n",
       "\n",
       "data:  table(dat[, c(\"Year\", \"ProjectField\")])\n",
       "X-squared = 163.7, df = 49, p-value = 2.837e-14\n"
      ]
     },
     "metadata": {},
     "output_type": "display_data"
    },
    {
     "data": {
      "image/png": "[encoded data removed]",
      "text/plain": [
       "plot without title"
      ]
     },
     "metadata": {},
     "output_type": "display_data"
    }
   ],
   "source": [
    "# 3. bar plot of number of projects (uniq projectID3) in each year, stacked by category of the project\n",
    "tab <- table(projDat[,c(\"Year\", \"ProjectField\")])\n",
    "tab\n",
    "\n",
    "dim(tab)\n",
    "sum(tab)\n",
    "\n",
    "chisq.test(table(dat[,c(\"Year\", \"ProjectField\")]))\n",
    "#barplot(table(dat[,c(\"ProjectField\", \"Year\")]), legend = T, col = c(\"red\", \"blue\", \"green\", \"gray\", \"black\", \"orange\"))\n",
    "t <- as.data.frame(tab)\n",
    "t$ProjectField <- factor(t$ProjectField, levels=c(\"Biology\", \"Chemistry\", \"ComputerSci\", \"Engineering\", \"Environment\", \"Math\", \"Physics\", \"Social/Psych\", \"environment\", \"BehavioralAndSocial\", \"biology\"))\n",
    "t$ProjectField[which(t$ProjectField == \"BehavioralAndSocial\")] <- \"Social/Psych\"\n",
    "t$ProjectField[which(t$ProjectField == \"biology\")] <- \"Biology\"\n",
    "t$ProjectField[which(t$ProjectField == \"environment\")] <- \"Environment\"\n",
    "\n",
    "perc <- as.data.frame(round(tab/apply(tab, 1, sum),2))\n",
    "t <- cbind(t,perc[,3])\n",
    "colnames(t)[4] <- \"percentage\"\n",
    "\n",
    "g <- ggplot(data = t, aes(x = Year, y = Freq, fill = ProjectField))\n",
    "g <- g + geom_bar(stat = \"identity\", position = position_stack(reverse=TRUE))\n",
    "# g <- g + scale_fill_manual(values = colors4plots[1:8])\n",
    "g <- g + geom_text(aes(label=percentage), position = position_stack(vjust=0.5, reverse = TRUE),colour = \"white\", size = 3)\n",
    "# g <- g + labs(title = \"Student Participation in Science Fair By area of research\", caption = \"Fig 1.0: Percentages Shown in bar\")\n",
    "g <- g + labs(x = \"Year\", y = \"Number Of Projects\")\n",
    "g\n"
   ]
  },
  {
   "cell_type": "code",
   "execution_count": 50,
   "id": "12f38589",
   "metadata": {},
   "outputs": [
    {
     "data": {
      "text/plain": [
       "          ProjectField\n",
       "GenderComp BehavioralAndSocial biology Chemistry ComputerSci Engineering\n",
       "      AllF                  76     439        77          30         165\n",
       "      AllM                  29     206        57          92         275\n",
       "      Mix                    4      35         7           1          17\n",
       "      X                     29     139        31          55          79\n",
       "          ProjectField\n",
       "GenderComp environment Math Physics\n",
       "      AllF         218    9      23\n",
       "      AllM         105   24      21\n",
       "      Mix           15    0       0\n",
       "      X             58   13      17"
      ]
     },
     "metadata": {},
     "output_type": "display_data"
    },
    {
     "data": {
      "text/html": [
       "<ol class=list-inline>\n",
       "\t<li>4</li>\n",
       "\t<li>8</li>\n",
       "</ol>\n"
      ],
      "text/latex": [
       "\\begin{enumerate*}\n",
       "\\item 4\n",
       "\\item 8\n",
       "\\end{enumerate*}\n"
      ],
      "text/markdown": [
       "1. 4\n",
       "2. 8\n",
       "\n",
       "\n"
      ],
      "text/plain": [
       "[1] 4 8"
      ]
     },
     "metadata": {},
     "output_type": "display_data"
    },
    {
     "data": {
      "text/html": [
       "2346"
      ],
      "text/latex": [
       "2346"
      ],
      "text/markdown": [
       "2346"
      ],
      "text/plain": [
       "[1] 2346"
      ]
     },
     "metadata": {},
     "output_type": "display_data"
    },
    {
     "data": {
      "text/plain": [
       "\n",
       "\tPearson's Chi-squared test\n",
       "\n",
       "data:  table(dat[, c(\"GenderComp\", \"ProjectField\")])[c(1:2), c(1, 3,     4, 5, 6)]\n",
       "X-squared = 160.91, df = 4, p-value < 2.2e-16\n"
      ]
     },
     "metadata": {},
     "output_type": "display_data"
    },
    {
     "data": {
      "text/plain": [
       "          ProjectField\n",
       "GenderComp BehavioralAndSocial biology Chemistry ComputerSci Engineering\n",
       "      AllF                0.07    0.42      0.07        0.03        0.16\n",
       "      AllM                0.04    0.25      0.07        0.11        0.34\n",
       "      Mix                 0.05    0.44      0.09        0.01        0.22\n",
       "      X                   0.07    0.33      0.07        0.13        0.19\n",
       "          ProjectField\n",
       "GenderComp environment Math Physics\n",
       "      AllF        0.21 0.01    0.02\n",
       "      AllM        0.13 0.03    0.03\n",
       "      Mix         0.19 0.00    0.00\n",
       "      X           0.14 0.03    0.04"
      ]
     },
     "metadata": {},
     "output_type": "display_data"
    },
    {
     "data": {
      "image/png": "[encoded data removed]",
      "text/plain": [
       "plot without title"
      ]
     },
     "metadata": {},
     "output_type": "display_data"
    }
   ],
   "source": [
    "# 4. bar plot of number of projects in each category stacked by gender Composition: show Chi sq test of homogeniety\n",
    "tab <- table(projDat[,c(\"GenderComp\",\"ProjectField\")])\n",
    "tab\n",
    "\n",
    "dim(tab)\n",
    "sum(tab)\n",
    "\n",
    "chisq.test(table(dat[,c(\"GenderComp\", \"ProjectField\")])[c(1:2), c(1,3,4,5,6)])\n",
    "#barplot(table(dat[,c(\"ProjectField\", \"GenderComp\")]), legend = T, col = c(\"red\", \"blue\", \"green\", \"gray\", \"black\", \"orange\"))\n",
    "perc <- round(tab/apply(tab, 1, sum),2)\n",
    "perc\n",
    "perc <- as.data.frame(perc)\n",
    "t <- as.data.frame(tab)\n",
    "t$ProjectField <- factor(t$ProjectField, levels=c(\"Biology\", \"Chemistry\", \"ComputerSci\", \"Engineering\", \"Environment\", \"Math\", \"Physics\", \"Social/Psych\", \"environment\", \"BehavioralAndSocial\", \"biology\"))\n",
    "t$ProjectField[which(t$ProjectField == \"BehavioralAndSocial\")] <- \"Social/Psych\"\n",
    "t$ProjectField[which(t$ProjectField == \"biology\")] <- \"Biology\"\n",
    "t$ProjectField[which(t$ProjectField == \"environment\")] <- \"Environment\"\n",
    "\n",
    "t$GenderComp <- factor(t$GenderComp, levels=c(\"Female\", \"Male\", \"Mixed\", \"Unkown/Other\", \"AllM\", \"AllF\", \"Mix\", \"X\"))\n",
    "t$GenderComp[which(t$GenderComp == \"AllM\")] <- \"Male\"\n",
    "t$GenderComp[which(t$GenderComp == \"AllF\")] <- \"Female\"\n",
    "t$GenderComp[which(t$GenderComp == \"Mix\")] <- \"Mixed\"\n",
    "t$GenderComp[which(t$GenderComp == \"X\")] <- \"Unkown/Other\"\n",
    "t <- cbind(t,perc[,3])\n",
    "colnames(t)[4] <- \"percentage\"\n",
    "\n",
    "g <- ggplot(data = t, aes(x = GenderComp , y = Freq, fill = ProjectField))\n",
    "g <- g + geom_bar(stat = \"identity\", position = position_stack(reverse=TRUE))\n",
    "# g <- g + scale_fill_manual(values = colors4plots[1:8])\n",
    "g <- g + geom_text(aes(label=percentage), position = position_stack(vjust=0.5, reverse = TRUE),colour = \"white\", size = 3)\n",
    "# g <- g + labs(title = \"Field of research and Gender of Participants\", caption = \"Fig 1.0: Percentages Shown in bar\")\n",
    "g <- g + theme(axis.text.x=element_text(color = \"black\", size=10, angle=0, vjust=0.8, hjust=0.5))\n",
    "g <- g + labs(x = \"Gender Composition\", y = \"Frequency of Project Fields\")\n",
    "g\n",
    "\n",
    "# check for ggplot xaxis labels orientation and change it.\n",
    "\n",
    "\n"
   ]
  },
  {
   "cell_type": "code",
   "execution_count": null,
   "id": "9b7f088b",
   "metadata": {},
   "outputs": [],
   "source": [
    "# 4b. bar plot of category by participant gender: show Chi sq test of homogeniety"
   ]
  },
  {
   "cell_type": "code",
   "execution_count": 58,
   "id": "b1c6cfbd",
   "metadata": {
    "scrolled": false
   },
   "outputs": [
    {
     "data": {
      "text/plain": [
       "    \n",
       "     BehavioralAndSocial biology Chemistry ComputerSci Engineering environment\n",
       "  9                   23     108        26          26          92          77\n",
       "  10                  37     258        63          50         180         115\n",
       "  11                  46     259        50          81         141         128\n",
       "  12                  22     140        19          14          92          50\n",
       "    \n",
       "     Math Physics\n",
       "  9     3      11\n",
       "  10    7      17\n",
       "  11   15      17\n",
       "  12   13       6"
      ]
     },
     "metadata": {},
     "output_type": "display_data"
    },
    {
     "data": {
      "text/html": [
       "<ol class=list-inline>\n",
       "\t<li>4</li>\n",
       "\t<li>8</li>\n",
       "</ol>\n"
      ],
      "text/latex": [
       "\\begin{enumerate*}\n",
       "\\item 4\n",
       "\\item 8\n",
       "\\end{enumerate*}\n"
      ],
      "text/markdown": [
       "1. 4\n",
       "2. 8\n",
       "\n",
       "\n"
      ],
      "text/plain": [
       "[1] 4 8"
      ]
     },
     "metadata": {},
     "output_type": "display_data"
    },
    {
     "data": {
      "text/plain": [
       "\n",
       "\tPearson's Chi-squared test\n",
       "\n",
       "data:  table(dat[, c(\"AvgGrade\", \"ProjectField\")])[c(1, 5, 9, 13), c(1,     3, 4, 5, 6)]\n",
       "X-squared = 45.724, df = 12, p-value = 7.74e-06\n"
      ]
     },
     "metadata": {},
     "output_type": "display_data"
    },
    {
     "data": {
      "image/png": "[encoded data removed]",
      "text/plain": [
       "plot without title"
      ]
     },
     "metadata": {},
     "output_type": "display_data"
    }
   ],
   "source": [
    "# 5. bar plot of number of projects in each category stacked by grade composition\n",
    "tab <- table(round(projDat$AvgGrade,0), projDat$ProjectField)\n",
    "#tab <- table(projDat[,c(\"AvgGrade\", \"ProjectField\")])\n",
    "tab\n",
    "dim(tab)\n",
    "chisq.test(table(dat[,c(\"AvgGrade\", \"ProjectField\")])[c(1,5,9,13), c(1,3,4,5,6)])\n",
    "#barplot(table(dat[,c(\"ProjectField\", \"AvgGrade\")]), legend = T, col = c(\"red\", \"blue\", \"green\", \"gray\", \"black\", \"orange\"))\n",
    "\n",
    "t <- as.data.frame(tab)\n",
    "colnames(t) <- c(\"AvgGrade\", \"ProjectField\", \"Freq\")\n",
    "t$ProjectField <- factor(t$ProjectField, levels=c(\"Biology\", \"Chemistry\", \"ComputerSci\", \"Engineering\", \"Environment\", \"Math\", \"Physics\", \"Social/Psych\", \"environment\", \"BehavioralAndSocial\", \"biology\"))\n",
    "t$ProjectField[which(t$ProjectField == \"BehavioralAndSocial\")] <- \"Social/Psych\"\n",
    "t$ProjectField[which(t$ProjectField == \"biology\")] <- \"Biology\"\n",
    "t$ProjectField[which(t$ProjectField == \"environment\")] <- \"Environment\"\n",
    "perc <- as.data.frame(round(tab/apply(tab, 1, sum),2))\n",
    "t <- cbind(t,perc[,3])\n",
    "colnames(t) <- c(\"AvgGrade\", \"ProjectField\", \"Freq\", \"percentage\")\n",
    "\n",
    "g <- ggplot(data = t, aes(x = AvgGrade, y = Freq, fill = ProjectField))\n",
    "g <- g + geom_bar(stat = \"identity\", position = position_stack(reverse=TRUE))\n",
    "#g <- g + scale_fill_manual(values = colors4plots[1:8])\n",
    "g <- g + geom_text(aes(label=percentage), position = position_stack(vjust=0.5, reverse = TRUE),colour = \"white\", size = 3)\n",
    "# g <- g + labs(title = \"Field of research and Grade of Participants\", caption = \"Fig 1.0: Percentages Shown in bar\")\n",
    "g <- g + labs(x = \"Average Grade\", y = \"Frequency of Project Fields\")\n",
    "g"
   ]
  },
  {
   "cell_type": "code",
   "execution_count": 132,
   "id": "48cba895",
   "metadata": {},
   "outputs": [
    {
     "data": {
      "text/plain": [
       "               ProjectField\n",
       "EthnicityComp   BehavioralAndSocial biology Chemistry ComputerSci Engineering\n",
       "  1                               0       1         2           0           0\n",
       "  2                              10      78        15          14          40\n",
       "  3                               0       4         1           0           5\n",
       "  AllAsian                       19     135        32          40          62\n",
       "  AllBiracial                     1       9         2           0           0\n",
       "  AllBlack                        5      30        11           3          15\n",
       "  AllLatino                       9      27         8           6           9\n",
       "  AllSouthAsian                  13      87         8          29          61\n",
       "  AllWhite                       46     282        54          27         246\n",
       "  X                              35     166        39          59          98\n",
       "               ProjectField\n",
       "EthnicityComp   environment Math Physics\n",
       "  1                       0    0       0\n",
       "  2                      32    4       3\n",
       "  3                       8    0       0\n",
       "  AllAsian               43    8       8\n",
       "  AllBiracial             5    1       0\n",
       "  AllBlack               12    1       2\n",
       "  AllLatino              13    0       1\n",
       "  AllSouthAsian          20    3       6\n",
       "  AllWhite              186   15      21\n",
       "  X                      77   14      20"
      ]
     },
     "metadata": {},
     "output_type": "display_data"
    },
    {
     "data": {
      "text/html": [
       "<ol class=list-inline>\n",
       "\t<li>10</li>\n",
       "\t<li>8</li>\n",
       "</ol>\n"
      ],
      "text/latex": [
       "\\begin{enumerate*}\n",
       "\\item 10\n",
       "\\item 8\n",
       "\\end{enumerate*}\n"
      ],
      "text/markdown": [
       "1. 10\n",
       "2. 8\n",
       "\n",
       "\n"
      ],
      "text/plain": [
       "[1] 10  8"
      ]
     },
     "metadata": {},
     "output_type": "display_data"
    },
    {
     "data": {
      "text/plain": [
       "\n",
       "\tPearson's Chi-squared test\n",
       "\n",
       "data:  table(dat[, c(\"EthnicityComp\", \"ProjectField\")])[c(2, 4, 6, 7,     8, 9), c(1, 3, 4, 5, 6)]\n",
       "X-squared = 139.63, df = 20, p-value < 2.2e-16\n"
      ]
     },
     "metadata": {},
     "output_type": "display_data"
    },
    {
     "data": {
      "image/png": "[encoded data removed]",
      "text/plain": [
       "plot without title"
      ]
     },
     "metadata": {},
     "output_type": "display_data"
    }
   ],
   "source": [
    "# 6. bar plot of number of projects in each category stacked by ethnicity make up: show Chi sq test of homogeniety\n",
    "tab <- table(projDat[,c(\"ProjectField\", \"EthnicityComp\")])\n",
    "tab <- t(tab)\n",
    "tab\n",
    "dim(tab)\n",
    "chisq.test(table(dat[,c(\"EthnicityComp\", \"ProjectField\")])[c(2,4,6,7,8,9), c(1,3,4,5,6)])\n",
    "#barplot(table(dat[,c(\"ProjectField\", \"EthnicityComp\")]), legend = T, col = c(\"red\", \"blue\", \"green\", \"gray\", \"black\", \"orange\"))\n",
    "\n",
    "t <- as.data.frame(tab)\n",
    "perc <- as.data.frame(round(tab/apply(tab, 1, sum),2))\n",
    "t <- cbind(t,perc[,3])\n",
    "colnames(t)[4] <- \"percentage\"\n",
    "\n",
    "g <- ggplot(data = t, aes(x = EthnicityComp , y = Freq, fill = ProjectField))\n",
    "g <- g + geom_bar(stat = \"identity\", position = position_stack(reverse=TRUE))\n",
    "g <- g + scale_fill_manual(values = colors4plots[1:10])\n",
    "g <- g + geom_text(aes(label=percentage), position = position_stack(vjust=0.5, reverse = TRUE),colour = \"white\", size = 3)\n",
    "g <- g + labs(title = \"Field of research and Ethnicity of Participants\", caption = \"Fig 1.0: Percentages Shown in bar\")\n",
    "g <- g + theme(axis.text.x=element_text(color = \"black\", size=8, angle=30, vjust=.8, hjust=0.8))\n",
    "g\n",
    "\n",
    "\n"
   ]
  },
  {
   "cell_type": "code",
   "execution_count": 39,
   "id": "88221bdc",
   "metadata": {},
   "outputs": [
    {
     "data": {
      "text/html": [
       "<ol class=list-inline>\n",
       "\t<li>8</li>\n",
       "\t<li>2</li>\n",
       "</ol>\n"
      ],
      "text/latex": [
       "\\begin{enumerate*}\n",
       "\\item 8\n",
       "\\item 2\n",
       "\\end{enumerate*}\n"
      ],
      "text/markdown": [
       "1. 8\n",
       "2. 2\n",
       "\n",
       "\n"
      ],
      "text/plain": [
       "[1] 8 2"
      ]
     },
     "metadata": {},
     "output_type": "display_data"
    },
    {
     "data": {
      "text/html": [
       "2346"
      ],
      "text/latex": [
       "2346"
      ],
      "text/markdown": [
       "2346"
      ],
      "text/plain": [
       "[1] 2346"
      ]
     },
     "metadata": {},
     "output_type": "display_data"
    },
    {
     "data": {
      "text/html": [
       "<table>\n",
       "<thead><tr><th></th><th scope=col>Year</th><th scope=col>NumOfProjects</th><th scope=col>percentage</th></tr></thead>\n",
       "<tbody>\n",
       "\t<tr><th scope=row>9</th><td>2014</td><td> 9  </td><td>0.03</td></tr>\n",
       "\t<tr><th scope=row>10</th><td>2015</td><td> 5  </td><td>0.02</td></tr>\n",
       "\t<tr><th scope=row>11</th><td>2016</td><td> 2  </td><td>0.01</td></tr>\n",
       "\t<tr><th scope=row>12</th><td>2017</td><td>15  </td><td>0.05</td></tr>\n",
       "\t<tr><th scope=row>13</th><td>2018</td><td> 5  </td><td>0.02</td></tr>\n",
       "\t<tr><th scope=row>14</th><td>2019</td><td> 6  </td><td>0.02</td></tr>\n",
       "\t<tr><th scope=row>15</th><td>2020</td><td> 8  </td><td>0.03</td></tr>\n",
       "\t<tr><th scope=row>16</th><td>2021</td><td>12  </td><td>0.05</td></tr>\n",
       "</tbody>\n",
       "</table>\n"
      ],
      "text/latex": [
       "\\begin{tabular}{r|lll}\n",
       "  & Year & NumOfProjects & percentage\\\\\n",
       "\\hline\n",
       "\t9 & 2014 &  9   & 0.03\\\\\n",
       "\t10 & 2015 &  5   & 0.02\\\\\n",
       "\t11 & 2016 &  2   & 0.01\\\\\n",
       "\t12 & 2017 & 15   & 0.05\\\\\n",
       "\t13 & 2018 &  5   & 0.02\\\\\n",
       "\t14 & 2019 &  6   & 0.02\\\\\n",
       "\t15 & 2020 &  8   & 0.03\\\\\n",
       "\t16 & 2021 & 12   & 0.05\\\\\n",
       "\\end{tabular}\n"
      ],
      "text/markdown": [
       "\n",
       "| <!--/--> | Year | NumOfProjects | percentage |\n",
       "|---|---|---|---|\n",
       "| 9 | 2014 |  9   | 0.03 |\n",
       "| 10 | 2015 |  5   | 0.02 |\n",
       "| 11 | 2016 |  2   | 0.01 |\n",
       "| 12 | 2017 | 15   | 0.05 |\n",
       "| 13 | 2018 |  5   | 0.02 |\n",
       "| 14 | 2019 |  6   | 0.02 |\n",
       "| 15 | 2020 |  8   | 0.03 |\n",
       "| 16 | 2021 | 12   | 0.05 |\n",
       "\n"
      ],
      "text/plain": [
       "   Year NumOfProjects percentage\n",
       "9  2014  9            0.03      \n",
       "10 2015  5            0.02      \n",
       "11 2016  2            0.01      \n",
       "12 2017 15            0.05      \n",
       "13 2018  5            0.02      \n",
       "14 2019  6            0.02      \n",
       "15 2020  8            0.03      \n",
       "16 2021 12            0.05      "
      ]
     },
     "metadata": {},
     "output_type": "display_data"
    },
    {
     "data": {
      "text/plain": [
       "\n",
       "\tChi-squared test for given probabilities\n",
       "\n",
       "data:  t[, 2]\n",
       "X-squared = 15.935, df = 7, p-value = 0.02571\n"
      ]
     },
     "metadata": {},
     "output_type": "display_data"
    },
    {
     "data": {
      "image/png": "[encoded data removed]",
      "text/plain": [
       "plot without title"
      ]
     },
     "metadata": {},
     "output_type": "display_data"
    }
   ],
   "source": [
    "# 7. bar plot of number of cancer projects by year (x-axis): chi-sq test of proportions\n",
    "\n",
    "tab <- table(projDat[, c(\"Year\",\"Cancer\")])\n",
    "perc <- as.data.frame(round(tab/apply(tab,1, sum), 2))\n",
    "\n",
    "dim(tab)\n",
    "sum(tab)\n",
    "\n",
    "t <- as.data.frame(tab)\n",
    "t <- cbind(t, perc[,3])\n",
    "t <- t[which(t[,2] == 1), c(1,3,4)]\n",
    "colnames(t) <- c(\"Year\", \"NumOfProjects\", \"percentage\")\n",
    "t\n",
    "chisq.test(t[,2])\n",
    "\n",
    "years <- projDat$Year[projDat$Cancer == 1]\n",
    "awards <- projDat$award2[projDat$Cancer == 1]\n",
    "awards <- factor(awards)\n",
    "\n",
    "plot.df <- data.frame(years, awards)\n",
    "plot.df$awards <- factor(plot.df$awards, levels=c(\"Placed\", \"Honorable Mention\", \"No Award\", \"award\", \"HM\", \"noAward\"))\n",
    "plot.df$awards[which(plot.df$awards == \"award\")] <- \"Placed\"\n",
    "plot.df$awards[which(plot.df$awards == \"HM\")] <- \"Honorable Mention\"\n",
    "plot.df$awards[which(plot.df$awards == \"noAward\")] <- \"No Award\"\n",
    "plot.df <- plot.df %>% group_by(years, awards) %>% tally()\n",
    "plot.df$freq <- plot.df$n\n",
    "\n",
    "totalparticipants <- as.data.frame.table(table(projDat$Year))\n",
    "for(row in 1:length(rownames(plot.df))) {\n",
    "    plot.df$n[row] <- round(plot.df$n[row]/totalparticipants$Freq[which(totalparticipants$Var1 == plot.df$years[row])],3)\n",
    "}\n",
    "\n",
    "ggplot(plot.df, aes(fill=awards, y=n, x=years)) + \n",
    "  geom_bar(position= position_stack(reverse = TRUE), stat=\"identity\") + \n",
    "  labs(x = \"Year\", y = \"Number Of Projects\") +\n",
    "  geom_text(aes(label=freq), position = position_stack(vjust=0.5, reverse = TRUE),colour = \"white\", size = 3) + \n",
    "  # labs(title = \"Frequency and Awards of Cancer-Related Projects Over Time\", caption = \"Frequencies Shown in bar\")\n",
    "  labs(x = \"Year\", y = \"Proportion of Projects and Awards\")"
   ]
  },
  {
   "cell_type": "code",
   "execution_count": 40,
   "id": "ae93fe68",
   "metadata": {
    "scrolled": false
   },
   "outputs": [
    {
     "data": {
      "text/html": [
       "<ol class=list-inline>\n",
       "\t<li>8</li>\n",
       "\t<li>2</li>\n",
       "</ol>\n"
      ],
      "text/latex": [
       "\\begin{enumerate*}\n",
       "\\item 8\n",
       "\\item 2\n",
       "\\end{enumerate*}\n"
      ],
      "text/markdown": [
       "1. 8\n",
       "2. 2\n",
       "\n",
       "\n"
      ],
      "text/plain": [
       "[1] 8 2"
      ]
     },
     "metadata": {},
     "output_type": "display_data"
    },
    {
     "data": {
      "text/html": [
       "2346"
      ],
      "text/latex": [
       "2346"
      ],
      "text/markdown": [
       "2346"
      ],
      "text/plain": [
       "[1] 2346"
      ]
     },
     "metadata": {},
     "output_type": "display_data"
    },
    {
     "data": {
      "text/html": [
       "<table>\n",
       "<thead><tr><th></th><th scope=col>Year</th><th scope=col>NumOfProjects</th><th scope=col>percentage</th></tr></thead>\n",
       "<tbody>\n",
       "\t<tr><th scope=row>9</th><td>2014</td><td> 1  </td><td>0.00</td></tr>\n",
       "\t<tr><th scope=row>10</th><td>2015</td><td> 2  </td><td>0.01</td></tr>\n",
       "\t<tr><th scope=row>11</th><td>2016</td><td> 4  </td><td>0.01</td></tr>\n",
       "\t<tr><th scope=row>12</th><td>2017</td><td> 2  </td><td>0.01</td></tr>\n",
       "\t<tr><th scope=row>13</th><td>2018</td><td>19  </td><td>0.06</td></tr>\n",
       "\t<tr><th scope=row>14</th><td>2019</td><td>18  </td><td>0.06</td></tr>\n",
       "\t<tr><th scope=row>15</th><td>2020</td><td>11  </td><td>0.04</td></tr>\n",
       "\t<tr><th scope=row>16</th><td>2021</td><td>30  </td><td>0.12</td></tr>\n",
       "</tbody>\n",
       "</table>\n"
      ],
      "text/latex": [
       "\\begin{tabular}{r|lll}\n",
       "  & Year & NumOfProjects & percentage\\\\\n",
       "\\hline\n",
       "\t9 & 2014 &  1   & 0.00\\\\\n",
       "\t10 & 2015 &  2   & 0.01\\\\\n",
       "\t11 & 2016 &  4   & 0.01\\\\\n",
       "\t12 & 2017 &  2   & 0.01\\\\\n",
       "\t13 & 2018 & 19   & 0.06\\\\\n",
       "\t14 & 2019 & 18   & 0.06\\\\\n",
       "\t15 & 2020 & 11   & 0.04\\\\\n",
       "\t16 & 2021 & 30   & 0.12\\\\\n",
       "\\end{tabular}\n"
      ],
      "text/markdown": [
       "\n",
       "| <!--/--> | Year | NumOfProjects | percentage |\n",
       "|---|---|---|---|\n",
       "| 9 | 2014 |  1   | 0.00 |\n",
       "| 10 | 2015 |  2   | 0.01 |\n",
       "| 11 | 2016 |  4   | 0.01 |\n",
       "| 12 | 2017 |  2   | 0.01 |\n",
       "| 13 | 2018 | 19   | 0.06 |\n",
       "| 14 | 2019 | 18   | 0.06 |\n",
       "| 15 | 2020 | 11   | 0.04 |\n",
       "| 16 | 2021 | 30   | 0.12 |\n",
       "\n"
      ],
      "text/plain": [
       "   Year NumOfProjects percentage\n",
       "9  2014  1            0.00      \n",
       "10 2015  2            0.01      \n",
       "11 2016  4            0.01      \n",
       "12 2017  2            0.01      \n",
       "13 2018 19            0.06      \n",
       "14 2019 18            0.06      \n",
       "15 2020 11            0.04      \n",
       "16 2021 30            0.12      "
      ]
     },
     "metadata": {},
     "output_type": "display_data"
    },
    {
     "data": {
      "text/plain": [
       "\n",
       "\tChi-squared test for given probabilities\n",
       "\n",
       "data:  t[, 2]\n",
       "X-squared = 72.172, df = 7, p-value = 5.37e-13\n"
      ]
     },
     "metadata": {},
     "output_type": "display_data"
    },
    {
     "data": {
      "image/png": "[encoded data removed]",
      "text/plain": [
       "plot without title"
      ]
     },
     "metadata": {},
     "output_type": "display_data"
    }
   ],
   "source": [
    "# 8. bar plot of number of AI/ML projects by year (x-axis): show Chi sq test of homogeniety\n",
    "\n",
    "tab <- table(projDat[, c(\"Year\",\"AI_ML\")])\n",
    "perc <- as.data.frame(round(tab/apply(tab,1, sum), 2))\n",
    "\n",
    "dim(tab)\n",
    "sum(tab)\n",
    "\n",
    "t <- as.data.frame(tab)\n",
    "t <- cbind(t, perc[,3])\n",
    "t <- t[which(t[,2] == 1), c(1,3,4)]\n",
    "colnames(t) <- c(\"Year\", \"NumOfProjects\", \"percentage\")\n",
    "t\n",
    "chisq.test(t[,2])\n",
    "\n",
    "years <- projDat$Year[projDat$AI_ML == 1]\n",
    "awards <- projDat$award2[projDat$AI_ML == 1]\n",
    "awards <- factor(awards)\n",
    "\n",
    "plot.df <- data.frame(years, awards)\n",
    "plot.df$awards <- factor(plot.df$awards, levels=c(\"Placed\", \"Honorable Mention\", \"No Award\", \"award\", \"HM\", \"noAward\"))\n",
    "plot.df$awards[which(plot.df$awards == \"award\")] <- \"Placed\"\n",
    "plot.df$awards[which(plot.df$awards == \"HM\")] <- \"Honorable Mention\"\n",
    "plot.df$awards[which(plot.df$awards == \"noAward\")] <- \"No Award\"\n",
    "plot.df <- plot.df %>% group_by(years, awards) %>% tally()\n",
    "plot.df$freq <- plot.df$n\n",
    "\n",
    "totalparticipants <- as.data.frame.table(table(projDat$Year))\n",
    "for(row in 1:length(rownames(plot.df))) {\n",
    "    plot.df$n[row] <- round(plot.df$n[row]/totalparticipants$Freq[which(totalparticipants$Var1 == plot.df$years[row])],3)\n",
    "}\n",
    "\n",
    "ggplot(plot.df, aes(fill=awards, y=n, x=years)) + \n",
    "  geom_bar(position= position_stack(reverse = TRUE), stat=\"identity\") + \n",
    "  labs(x = \"Year\", y = \"Number Of Projects\") +\n",
    "  geom_text(aes(label=freq), position = position_stack(vjust=0.5, reverse = TRUE),colour = \"white\", size = 3) + \n",
    "  # labs(title = \"Frequency and Awards of AI/ML Projects Over Time\", caption = \"Frequencies Shown in bar\")\n",
    "  labs(x = \"Year\", y = \"Proportion of Projects and Awards\")"
   ]
  },
  {
   "cell_type": "code",
   "execution_count": 41,
   "id": "72cfda84",
   "metadata": {
    "scrolled": false
   },
   "outputs": [
    {
     "data": {
      "text/html": [
       "<ol class=list-inline>\n",
       "\t<li>8</li>\n",
       "\t<li>2</li>\n",
       "</ol>\n"
      ],
      "text/latex": [
       "\\begin{enumerate*}\n",
       "\\item 8\n",
       "\\item 2\n",
       "\\end{enumerate*}\n"
      ],
      "text/markdown": [
       "1. 8\n",
       "2. 2\n",
       "\n",
       "\n"
      ],
      "text/plain": [
       "[1] 8 2"
      ]
     },
     "metadata": {},
     "output_type": "display_data"
    },
    {
     "data": {
      "text/html": [
       "2346"
      ],
      "text/latex": [
       "2346"
      ],
      "text/markdown": [
       "2346"
      ],
      "text/plain": [
       "[1] 2346"
      ]
     },
     "metadata": {},
     "output_type": "display_data"
    },
    {
     "data": {
      "text/html": [
       "<table>\n",
       "<thead><tr><th></th><th scope=col>Year</th><th scope=col>NumOfProjects</th><th scope=col>percentage</th></tr></thead>\n",
       "<tbody>\n",
       "\t<tr><th scope=row>9</th><td>2014</td><td>18  </td><td>0.06</td></tr>\n",
       "\t<tr><th scope=row>10</th><td>2015</td><td>17  </td><td>0.06</td></tr>\n",
       "\t<tr><th scope=row>11</th><td>2016</td><td>12  </td><td>0.04</td></tr>\n",
       "\t<tr><th scope=row>12</th><td>2017</td><td>18  </td><td>0.06</td></tr>\n",
       "\t<tr><th scope=row>13</th><td>2018</td><td>19  </td><td>0.06</td></tr>\n",
       "\t<tr><th scope=row>14</th><td>2019</td><td>17  </td><td>0.06</td></tr>\n",
       "\t<tr><th scope=row>15</th><td>2020</td><td>20  </td><td>0.08</td></tr>\n",
       "\t<tr><th scope=row>16</th><td>2021</td><td>27  </td><td>0.11</td></tr>\n",
       "</tbody>\n",
       "</table>\n"
      ],
      "text/latex": [
       "\\begin{tabular}{r|lll}\n",
       "  & Year & NumOfProjects & percentage\\\\\n",
       "\\hline\n",
       "\t9 & 2014 & 18   & 0.06\\\\\n",
       "\t10 & 2015 & 17   & 0.06\\\\\n",
       "\t11 & 2016 & 12   & 0.04\\\\\n",
       "\t12 & 2017 & 18   & 0.06\\\\\n",
       "\t13 & 2018 & 19   & 0.06\\\\\n",
       "\t14 & 2019 & 17   & 0.06\\\\\n",
       "\t15 & 2020 & 20   & 0.08\\\\\n",
       "\t16 & 2021 & 27   & 0.11\\\\\n",
       "\\end{tabular}\n"
      ],
      "text/markdown": [
       "\n",
       "| <!--/--> | Year | NumOfProjects | percentage |\n",
       "|---|---|---|---|\n",
       "| 9 | 2014 | 18   | 0.06 |\n",
       "| 10 | 2015 | 17   | 0.06 |\n",
       "| 11 | 2016 | 12   | 0.04 |\n",
       "| 12 | 2017 | 18   | 0.06 |\n",
       "| 13 | 2018 | 19   | 0.06 |\n",
       "| 14 | 2019 | 17   | 0.06 |\n",
       "| 15 | 2020 | 20   | 0.08 |\n",
       "| 16 | 2021 | 27   | 0.11 |\n",
       "\n"
      ],
      "text/plain": [
       "   Year NumOfProjects percentage\n",
       "9  2014 18            0.06      \n",
       "10 2015 17            0.06      \n",
       "11 2016 12            0.04      \n",
       "12 2017 18            0.06      \n",
       "13 2018 19            0.06      \n",
       "14 2019 17            0.06      \n",
       "15 2020 20            0.08      \n",
       "16 2021 27            0.11      "
      ]
     },
     "metadata": {},
     "output_type": "display_data"
    },
    {
     "data": {
      "text/plain": [
       "\n",
       "\tChi-squared test for given probabilities\n",
       "\n",
       "data:  t[, 2]\n",
       "X-squared = 6.5946, df = 7, p-value = 0.4723\n"
      ]
     },
     "metadata": {},
     "output_type": "display_data"
    },
    {
     "data": {
      "image/png": "[encoded data removed]",
      "text/plain": [
       "plot without title"
      ]
     },
     "metadata": {},
     "output_type": "display_data"
    }
   ],
   "source": [
    "# 9. bar plot of number of Infectious Disease projects by year (x-axis) :show Chi sq test of homogeniety\n",
    "tab <- table(projDat[, c(\"Year\",\"InfectiousDiseases_Covid\")])\n",
    "perc <- as.data.frame(round(tab/apply(tab,1, sum), 2))\n",
    "\n",
    "dim(tab)\n",
    "sum(tab)\n",
    "\n",
    "\n",
    "t <- as.data.frame(tab)\n",
    "t <- cbind(t, perc[,3])\n",
    "t <- t[which(t[,2] == 1), c(1,3,4)]\n",
    "colnames(t) <- c(\"Year\", \"NumOfProjects\", \"percentage\")\n",
    "t\n",
    "chisq.test(t[,2])\n",
    "\n",
    "years <- projDat$Year[projDat$InfectiousDiseases_Covid == 1]\n",
    "awards <- projDat$award2[projDat$InfectiousDiseases_Covid == 1]\n",
    "awards <- factor(awards)\n",
    "\n",
    "plot.df <- data.frame(years, awards)\n",
    "plot.df$awards <- factor(plot.df$awards, levels=c(\"Placed\", \"Honorable Mention\", \"No Award\", \"award\", \"HM\", \"noAward\"))\n",
    "plot.df$awards[which(plot.df$awards == \"award\")] <- \"Placed\"\n",
    "plot.df$awards[which(plot.df$awards == \"HM\")] <- \"Honorable Mention\"\n",
    "plot.df$awards[which(plot.df$awards == \"noAward\")] <- \"No Award\"\n",
    "plot.df <- plot.df %>% group_by(years, awards) %>% tally()\n",
    "plot.df$freq <- plot.df$n\n",
    "\n",
    "totalparticipants <- as.data.frame.table(table(projDat$Year))\n",
    "for(row in 1:length(rownames(plot.df))) {\n",
    "    plot.df$n[row] <- round(plot.df$n[row]/totalparticipants$Freq[which(totalparticipants$Var1 == plot.df$years[row])],3)\n",
    "}\n",
    "\n",
    "ggplot(plot.df, aes(fill=awards, y=n, x=years)) + \n",
    "  geom_bar(position= position_stack(reverse = TRUE), stat=\"identity\") + \n",
    "  labs(x = \"Year\", y = \"Number Of Projects\") +\n",
    "  geom_text(aes(label=freq), position = position_stack(vjust=0.5, reverse = TRUE),colour = \"white\", size = 3) + \n",
    "  # labs(title = \"Frequency and Awards of Infectious Disease Projects Over Time\", caption = \"Frequencies Shown in bar\")\n",
    "  labs(x = \"Year\", y = \"Proportion of Projects and Awards\")"
   ]
  },
  {
   "cell_type": "code",
   "execution_count": 63,
   "id": "3c620439",
   "metadata": {
    "scrolled": false
   },
   "outputs": [
    {
     "data": {
      "text/plain": [
       "                     \n",
       "                      award  HM noAward\n",
       "  BehavioralAndSocial    31  19      88\n",
       "  biology               231  84     504\n",
       "  Chemistry              24  15     133\n",
       "  ComputerSci            58  28      92\n",
       "  Engineering           107  57     372\n",
       "  environment           108  52     236\n",
       "  Math                   15   3      28\n",
       "  Physics                12   4      45"
      ]
     },
     "metadata": {},
     "output_type": "display_data"
    },
    {
     "data": {
      "text/html": [
       "<ol class=list-inline>\n",
       "\t<li>8</li>\n",
       "\t<li>3</li>\n",
       "</ol>\n"
      ],
      "text/latex": [
       "\\begin{enumerate*}\n",
       "\\item 8\n",
       "\\item 3\n",
       "\\end{enumerate*}\n"
      ],
      "text/markdown": [
       "1. 8\n",
       "2. 3\n",
       "\n",
       "\n"
      ],
      "text/plain": [
       "[1] 8 3"
      ]
     },
     "metadata": {},
     "output_type": "display_data"
    },
    {
     "data": {
      "text/html": [
       "2346"
      ],
      "text/latex": [
       "2346"
      ],
      "text/markdown": [
       "2346"
      ],
      "text/plain": [
       "[1] 2346"
      ]
     },
     "metadata": {},
     "output_type": "display_data"
    },
    {
     "data": {
      "text/plain": [
       "\n",
       "\tPearson's Chi-squared test\n",
       "\n",
       "data:  tab\n",
       "X-squared = 47.903, df = 14, p-value = 1.364e-05\n"
      ]
     },
     "metadata": {},
     "output_type": "display_data"
    },
    {
     "data": {
      "text/html": [
       "<table>\n",
       "<thead><tr><th scope=col>ProjectField</th><th scope=col>award</th><th scope=col>Freq</th><th scope=col>percentage</th></tr></thead>\n",
       "<tbody>\n",
       "\t<tr><td>Social/Psych     </td><td>Placed           </td><td> 31              </td><td>0.22464          </td></tr>\n",
       "\t<tr><td>Biology          </td><td>Placed           </td><td>231              </td><td>0.28205          </td></tr>\n",
       "\t<tr><td>Chemistry        </td><td>Placed           </td><td> 24              </td><td>0.13953          </td></tr>\n",
       "\t<tr><td>ComputerSci      </td><td>Placed           </td><td> 58              </td><td>0.32584          </td></tr>\n",
       "\t<tr><td>Engineering      </td><td>Placed           </td><td>107              </td><td>0.19963          </td></tr>\n",
       "\t<tr><td>Environment      </td><td>Placed           </td><td>108              </td><td>0.27273          </td></tr>\n",
       "\t<tr><td>Math             </td><td>Placed           </td><td> 15              </td><td>0.32609          </td></tr>\n",
       "\t<tr><td>Physics          </td><td>Placed           </td><td> 12              </td><td>0.19672          </td></tr>\n",
       "\t<tr><td>Social/Psych     </td><td>Honorable Mention</td><td> 19              </td><td>0.13768          </td></tr>\n",
       "\t<tr><td>Biology          </td><td>Honorable Mention</td><td> 84              </td><td>0.10256          </td></tr>\n",
       "\t<tr><td>Chemistry        </td><td>Honorable Mention</td><td> 15              </td><td>0.08721          </td></tr>\n",
       "\t<tr><td>ComputerSci      </td><td>Honorable Mention</td><td> 28              </td><td>0.15730          </td></tr>\n",
       "\t<tr><td>Engineering      </td><td>Honorable Mention</td><td> 57              </td><td>0.10634          </td></tr>\n",
       "\t<tr><td>Environment      </td><td>Honorable Mention</td><td> 52              </td><td>0.13131          </td></tr>\n",
       "\t<tr><td>Math             </td><td>Honorable Mention</td><td>  3              </td><td>0.06522          </td></tr>\n",
       "\t<tr><td>Physics          </td><td>Honorable Mention</td><td>  4              </td><td>0.06557          </td></tr>\n",
       "\t<tr><td>Social/Psych     </td><td>No Award         </td><td> 88              </td><td>0.63768          </td></tr>\n",
       "\t<tr><td>Biology          </td><td>No Award         </td><td>504              </td><td>0.61538          </td></tr>\n",
       "\t<tr><td>Chemistry        </td><td>No Award         </td><td>133              </td><td>0.77326          </td></tr>\n",
       "\t<tr><td>ComputerSci      </td><td>No Award         </td><td> 92              </td><td>0.51685          </td></tr>\n",
       "\t<tr><td>Engineering      </td><td>No Award         </td><td>372              </td><td>0.69403          </td></tr>\n",
       "\t<tr><td>Environment      </td><td>No Award         </td><td>236              </td><td>0.59596          </td></tr>\n",
       "\t<tr><td>Math             </td><td>No Award         </td><td> 28              </td><td>0.60870          </td></tr>\n",
       "\t<tr><td>Physics          </td><td>No Award         </td><td> 45              </td><td>0.73770          </td></tr>\n",
       "</tbody>\n",
       "</table>\n"
      ],
      "text/latex": [
       "\\begin{tabular}{r|llll}\n",
       " ProjectField & award & Freq & percentage\\\\\n",
       "\\hline\n",
       "\t Social/Psych      & Placed            &  31               & 0.22464          \\\\\n",
       "\t Biology           & Placed            & 231               & 0.28205          \\\\\n",
       "\t Chemistry         & Placed            &  24               & 0.13953          \\\\\n",
       "\t ComputerSci       & Placed            &  58               & 0.32584          \\\\\n",
       "\t Engineering       & Placed            & 107               & 0.19963          \\\\\n",
       "\t Environment       & Placed            & 108               & 0.27273          \\\\\n",
       "\t Math              & Placed            &  15               & 0.32609          \\\\\n",
       "\t Physics           & Placed            &  12               & 0.19672          \\\\\n",
       "\t Social/Psych      & Honorable Mention &  19               & 0.13768          \\\\\n",
       "\t Biology           & Honorable Mention &  84               & 0.10256          \\\\\n",
       "\t Chemistry         & Honorable Mention &  15               & 0.08721          \\\\\n",
       "\t ComputerSci       & Honorable Mention &  28               & 0.15730          \\\\\n",
       "\t Engineering       & Honorable Mention &  57               & 0.10634          \\\\\n",
       "\t Environment       & Honorable Mention &  52               & 0.13131          \\\\\n",
       "\t Math              & Honorable Mention &   3               & 0.06522          \\\\\n",
       "\t Physics           & Honorable Mention &   4               & 0.06557          \\\\\n",
       "\t Social/Psych      & No Award          &  88               & 0.63768          \\\\\n",
       "\t Biology           & No Award          & 504               & 0.61538          \\\\\n",
       "\t Chemistry         & No Award          & 133               & 0.77326          \\\\\n",
       "\t ComputerSci       & No Award          &  92               & 0.51685          \\\\\n",
       "\t Engineering       & No Award          & 372               & 0.69403          \\\\\n",
       "\t Environment       & No Award          & 236               & 0.59596          \\\\\n",
       "\t Math              & No Award          &  28               & 0.60870          \\\\\n",
       "\t Physics           & No Award          &  45               & 0.73770          \\\\\n",
       "\\end{tabular}\n"
      ],
      "text/markdown": [
       "\n",
       "| ProjectField | award | Freq | percentage |\n",
       "|---|---|---|---|\n",
       "| Social/Psych      | Placed            |  31               | 0.22464           |\n",
       "| Biology           | Placed            | 231               | 0.28205           |\n",
       "| Chemistry         | Placed            |  24               | 0.13953           |\n",
       "| ComputerSci       | Placed            |  58               | 0.32584           |\n",
       "| Engineering       | Placed            | 107               | 0.19963           |\n",
       "| Environment       | Placed            | 108               | 0.27273           |\n",
       "| Math              | Placed            |  15               | 0.32609           |\n",
       "| Physics           | Placed            |  12               | 0.19672           |\n",
       "| Social/Psych      | Honorable Mention |  19               | 0.13768           |\n",
       "| Biology           | Honorable Mention |  84               | 0.10256           |\n",
       "| Chemistry         | Honorable Mention |  15               | 0.08721           |\n",
       "| ComputerSci       | Honorable Mention |  28               | 0.15730           |\n",
       "| Engineering       | Honorable Mention |  57               | 0.10634           |\n",
       "| Environment       | Honorable Mention |  52               | 0.13131           |\n",
       "| Math              | Honorable Mention |   3               | 0.06522           |\n",
       "| Physics           | Honorable Mention |   4               | 0.06557           |\n",
       "| Social/Psych      | No Award          |  88               | 0.63768           |\n",
       "| Biology           | No Award          | 504               | 0.61538           |\n",
       "| Chemistry         | No Award          | 133               | 0.77326           |\n",
       "| ComputerSci       | No Award          |  92               | 0.51685           |\n",
       "| Engineering       | No Award          | 372               | 0.69403           |\n",
       "| Environment       | No Award          | 236               | 0.59596           |\n",
       "| Math              | No Award          |  28               | 0.60870           |\n",
       "| Physics           | No Award          |  45               | 0.73770           |\n",
       "\n"
      ],
      "text/plain": [
       "   ProjectField award             Freq percentage\n",
       "1  Social/Psych Placed             31  0.22464   \n",
       "2  Biology      Placed            231  0.28205   \n",
       "3  Chemistry    Placed             24  0.13953   \n",
       "4  ComputerSci  Placed             58  0.32584   \n",
       "5  Engineering  Placed            107  0.19963   \n",
       "6  Environment  Placed            108  0.27273   \n",
       "7  Math         Placed             15  0.32609   \n",
       "8  Physics      Placed             12  0.19672   \n",
       "9  Social/Psych Honorable Mention  19  0.13768   \n",
       "10 Biology      Honorable Mention  84  0.10256   \n",
       "11 Chemistry    Honorable Mention  15  0.08721   \n",
       "12 ComputerSci  Honorable Mention  28  0.15730   \n",
       "13 Engineering  Honorable Mention  57  0.10634   \n",
       "14 Environment  Honorable Mention  52  0.13131   \n",
       "15 Math         Honorable Mention   3  0.06522   \n",
       "16 Physics      Honorable Mention   4  0.06557   \n",
       "17 Social/Psych No Award           88  0.63768   \n",
       "18 Biology      No Award          504  0.61538   \n",
       "19 Chemistry    No Award          133  0.77326   \n",
       "20 ComputerSci  No Award           92  0.51685   \n",
       "21 Engineering  No Award          372  0.69403   \n",
       "22 Environment  No Award          236  0.59596   \n",
       "23 Math         No Award           28  0.60870   \n",
       "24 Physics      No Award           45  0.73770   "
      ]
     },
     "metadata": {},
     "output_type": "display_data"
    },
    {
     "data": {
      "image/png": "[encoded data removed]",
      "text/plain": [
       "plot without title"
      ]
     },
     "metadata": {},
     "output_type": "display_data"
    }
   ],
   "source": [
    "# 10. bar plot of number of projects by category (x-axis) and stacked by award (1,2,3) or no-award (HM and NA)\n",
    "\n",
    "tab <- table(projDat$ProjectField, projDat$award2)\n",
    "tab\n",
    "dim(tab)\n",
    "sum(tab)\n",
    "chisq.test(tab)\n",
    "t <- as.data.frame(tab)\n",
    "perc <- round(tab/apply(tab, 1, sum),5)\n",
    "perc <- as.data.frame(perc)\n",
    "t <- cbind(t,perc[,3])\n",
    "colnames(t) <- c(\"ProjectField\", \"award\", \"Freq\", \"percentage\")\n",
    "t$ProjectField <- factor(t$ProjectField, levels=c(\"Biology\", \"Chemistry\", \"ComputerSci\", \"Engineering\", \"Environment\", \"Math\", \"Physics\", \"Social/Psych\", \"environment\", \"BehavioralAndSocial\", \"biology\"))\n",
    "t$ProjectField[which(t$ProjectField == \"BehavioralAndSocial\")] <- \"Social/Psych\"\n",
    "t$ProjectField[which(t$ProjectField == \"biology\")] <- \"Biology\"\n",
    "t$ProjectField[which(t$ProjectField == \"environment\")] <- \"Environment\"\n",
    "\n",
    "t$award <- factor(t$award, levels=c(\"Placed\", \"Honorable Mention\", \"No Award\", \"award\", \"HM\", \"noAward\"))\n",
    "t$award[which(t$award == \"award\")] <- \"Placed\"\n",
    "t$award[which(t$award == \"HM\")] <- \"Honorable Mention\"\n",
    "t$award[which(t$award == \"noAward\")] <- \"No Award\"\n",
    "\n",
    "g <- ggplot(data = t, aes(x = ProjectField , y = percentage, fill = award))\n",
    "g <- g + geom_bar(stat = \"identity\", position = position_stack(reverse=TRUE))\n",
    "g <- g + scale_fill_manual(values = colors4plots[1:10])\n",
    "g <- g + geom_text(aes(label=round(percentage, 2)), position = position_stack(vjust=0.5, reverse = TRUE),colour = \"white\", size = 2)\n",
    "# g <- g + labs(title = \"Field of research and Awards\", caption = \"Fig 1.0: Percentages Shown in bar\")\n",
    "g <- g + theme(axis.text.x=element_text(color = \"black\", size=9, angle=20, vjust=.8, hjust=0.8))\n",
    "g <- g + labs(x = \"Project Field\", y = \"Proportion of Projects and Awards\")\n",
    "g\n"
   ]
  },
  {
   "cell_type": "code",
   "execution_count": 65,
   "id": "2d3bb110",
   "metadata": {},
   "outputs": [
    {
     "data": {
      "text/plain": [
       "      award2\n",
       "Cancer award   HM noAward\n",
       "     0   560  257    1467\n",
       "     1    26    5      31"
      ]
     },
     "metadata": {},
     "output_type": "display_data"
    },
    {
     "data": {
      "text/html": [
       "2346"
      ],
      "text/latex": [
       "2346"
      ],
      "text/markdown": [
       "2346"
      ],
      "text/plain": [
       "[1] 2346"
      ]
     },
     "metadata": {},
     "output_type": "display_data"
    },
    {
     "data": {
      "text/plain": [
       "      award2\n",
       "Cancer award   HM noAward\n",
       "     0  0.25 0.11    0.64\n",
       "     1  0.42 0.08    0.50"
      ]
     },
     "metadata": {},
     "output_type": "display_data"
    },
    {
     "data": {
      "text/plain": [
       "\n",
       "\tPearson's Chi-squared test\n",
       "\n",
       "data:  tab\n",
       "X-squared = 9.7939, df = 2, p-value = 0.007469\n"
      ]
     },
     "metadata": {},
     "output_type": "display_data"
    },
    {
     "data": {
      "text/html": [
       "<table>\n",
       "<thead><tr><th scope=col>Cancer</th><th scope=col>award</th><th scope=col>Freq</th><th scope=col>percentage</th></tr></thead>\n",
       "<tbody>\n",
       "\t<tr><td>0                </td><td>Placed           </td><td> 560             </td><td>0.25             </td></tr>\n",
       "\t<tr><td>1                </td><td>Placed           </td><td>  26             </td><td>0.42             </td></tr>\n",
       "\t<tr><td>0                </td><td>Honorable Mention</td><td> 257             </td><td>0.11             </td></tr>\n",
       "\t<tr><td>1                </td><td>Honorable Mention</td><td>   5             </td><td>0.08             </td></tr>\n",
       "\t<tr><td>0                </td><td>No Award         </td><td>1467             </td><td>0.64             </td></tr>\n",
       "\t<tr><td>1                </td><td>No Award         </td><td>  31             </td><td>0.50             </td></tr>\n",
       "</tbody>\n",
       "</table>\n"
      ],
      "text/latex": [
       "\\begin{tabular}{r|llll}\n",
       " Cancer & award & Freq & percentage\\\\\n",
       "\\hline\n",
       "\t 0                 & Placed            &  560              & 0.25             \\\\\n",
       "\t 1                 & Placed            &   26              & 0.42             \\\\\n",
       "\t 0                 & Honorable Mention &  257              & 0.11             \\\\\n",
       "\t 1                 & Honorable Mention &    5              & 0.08             \\\\\n",
       "\t 0                 & No Award          & 1467              & 0.64             \\\\\n",
       "\t 1                 & No Award          &   31              & 0.50             \\\\\n",
       "\\end{tabular}\n"
      ],
      "text/markdown": [
       "\n",
       "| Cancer | award | Freq | percentage |\n",
       "|---|---|---|---|\n",
       "| 0                 | Placed            |  560              | 0.25              |\n",
       "| 1                 | Placed            |   26              | 0.42              |\n",
       "| 0                 | Honorable Mention |  257              | 0.11              |\n",
       "| 1                 | Honorable Mention |    5              | 0.08              |\n",
       "| 0                 | No Award          | 1467              | 0.64              |\n",
       "| 1                 | No Award          |   31              | 0.50              |\n",
       "\n"
      ],
      "text/plain": [
       "  Cancer award             Freq percentage\n",
       "1 0      Placed             560 0.25      \n",
       "2 1      Placed              26 0.42      \n",
       "3 0      Honorable Mention  257 0.11      \n",
       "4 1      Honorable Mention    5 0.08      \n",
       "5 0      No Award          1467 0.64      \n",
       "6 1      No Award            31 0.50      "
      ]
     },
     "metadata": {},
     "output_type": "display_data"
    },
    {
     "data": {
      "image/png": "[encoded data removed]",
      "text/plain": [
       "plot without title"
      ]
     },
     "metadata": {},
     "output_type": "display_data"
    }
   ],
   "source": [
    "# 11. bar plot of number of projects by cancer vs non, (x-axis) stacked by award or no award. :test of proportions\n",
    "tab <- table(projDat[, c(\"Cancer\", \"award2\")])\n",
    "tab\n",
    "sum(tab)\n",
    "perc <- round(tab/apply(tab,1, sum), 2)\n",
    "perc\n",
    "chisq.test(tab)\n",
    "perc <- as.data.frame(perc)\n",
    "t <- as.data.frame(tab)\n",
    "t <- cbind(t, perc[,3])\n",
    "colnames(t) <- c(\"Cancer\", \"award\", \"Freq\", \"percentage\")\n",
    "\n",
    "t$award <- factor(t$award, levels=c(\"Placed\", \"Honorable Mention\", \"No Award\", \"award\", \"HM\", \"noAward\"))\n",
    "t$award[which(t$award == \"award\")] <- \"Placed\"\n",
    "t$award[which(t$award == \"HM\")] <- \"Honorable Mention\"\n",
    "t$award[which(t$award == \"noAward\")] <- \"No Award\"\n",
    "\n",
    "g <- ggplot(data = t, aes(x = Cancer, y = percentage, fill = award))\n",
    "g <- g + geom_bar(stat = \"identity\", position = position_stack(reverse=TRUE))\n",
    "g <- g + geom_text(aes(label=Freq), position = position_stack(vjust=0.5, reverse = TRUE),colour = \"white\", size = 5)\n",
    "# g <- g + labs(title = \"Number of Projects Cancer related\", caption = \"Fig 1.0: Percentages Shown in bar\")\n",
    "g <- g + labs(x = \"Relevance to Cancer\", y = \"Proportion of Awards\")\n",
    "g\n"
   ]
  },
  {
   "cell_type": "code",
   "execution_count": 66,
   "id": "1f614b15",
   "metadata": {},
   "outputs": [
    {
     "data": {
      "text/plain": [
       "     award2\n",
       "AI_ML award   HM noAward\n",
       "    0   560  248    1451\n",
       "    1    26   14      47"
      ]
     },
     "metadata": {},
     "output_type": "display_data"
    },
    {
     "data": {
      "text/plain": [
       "     award2\n",
       "AI_ML award   HM noAward\n",
       "    0  0.25 0.11    0.64\n",
       "    1  0.30 0.16    0.54"
      ]
     },
     "metadata": {},
     "output_type": "display_data"
    },
    {
     "data": {
      "text/plain": [
       "\n",
       "\tPearson's Chi-squared test\n",
       "\n",
       "data:  tab\n",
       "X-squared = 4.1996, df = 2, p-value = 0.1225\n"
      ]
     },
     "metadata": {},
     "output_type": "display_data"
    },
    {
     "data": {
      "text/html": [
       "<table>\n",
       "<thead><tr><th scope=col>AI_ML</th><th scope=col>award</th><th scope=col>Freq</th><th scope=col>percentage</th></tr></thead>\n",
       "<tbody>\n",
       "\t<tr><td>0                </td><td>Placed           </td><td> 560             </td><td>0.25             </td></tr>\n",
       "\t<tr><td>1                </td><td>Placed           </td><td>  26             </td><td>0.30             </td></tr>\n",
       "\t<tr><td>0                </td><td>Honorable Mention</td><td> 248             </td><td>0.11             </td></tr>\n",
       "\t<tr><td>1                </td><td>Honorable Mention</td><td>  14             </td><td>0.16             </td></tr>\n",
       "\t<tr><td>0                </td><td>No Award         </td><td>1451             </td><td>0.64             </td></tr>\n",
       "\t<tr><td>1                </td><td>No Award         </td><td>  47             </td><td>0.54             </td></tr>\n",
       "</tbody>\n",
       "</table>\n"
      ],
      "text/latex": [
       "\\begin{tabular}{r|llll}\n",
       " AI\\_ML & award & Freq & percentage\\\\\n",
       "\\hline\n",
       "\t 0                 & Placed            &  560              & 0.25             \\\\\n",
       "\t 1                 & Placed            &   26              & 0.30             \\\\\n",
       "\t 0                 & Honorable Mention &  248              & 0.11             \\\\\n",
       "\t 1                 & Honorable Mention &   14              & 0.16             \\\\\n",
       "\t 0                 & No Award          & 1451              & 0.64             \\\\\n",
       "\t 1                 & No Award          &   47              & 0.54             \\\\\n",
       "\\end{tabular}\n"
      ],
      "text/markdown": [
       "\n",
       "| AI_ML | award | Freq | percentage |\n",
       "|---|---|---|---|\n",
       "| 0                 | Placed            |  560              | 0.25              |\n",
       "| 1                 | Placed            |   26              | 0.30              |\n",
       "| 0                 | Honorable Mention |  248              | 0.11              |\n",
       "| 1                 | Honorable Mention |   14              | 0.16              |\n",
       "| 0                 | No Award          | 1451              | 0.64              |\n",
       "| 1                 | No Award          |   47              | 0.54              |\n",
       "\n"
      ],
      "text/plain": [
       "  AI_ML award             Freq percentage\n",
       "1 0     Placed             560 0.25      \n",
       "2 1     Placed              26 0.30      \n",
       "3 0     Honorable Mention  248 0.11      \n",
       "4 1     Honorable Mention   14 0.16      \n",
       "5 0     No Award          1451 0.64      \n",
       "6 1     No Award            47 0.54      "
      ]
     },
     "metadata": {},
     "output_type": "display_data"
    },
    {
     "data": {
      "image/png": "[encoded data removed]",
      "text/plain": [
       "plot without title"
      ]
     },
     "metadata": {},
     "output_type": "display_data"
    }
   ],
   "source": [
    "# 12. bar plot of number of projects by AI/ML vs non, (x-axis) stacked by award or no award.: test of proportions\n",
    "tab <- table(projDat[, c(\"AI_ML\", \"award2\")])\n",
    "tab\n",
    "perc <- round(tab/apply(tab,1, sum), 2)\n",
    "perc\n",
    "chisq.test(tab)\n",
    "perc <- as.data.frame(perc)\n",
    "t <- as.data.frame(tab)\n",
    "t <- cbind(t, perc[,3])\n",
    "colnames(t) <- c(\"AI_ML\", \"award\", \"Freq\", \"percentage\")\n",
    "\n",
    "t$award <- factor(t$award, levels=c(\"Placed\", \"Honorable Mention\", \"No Award\", \"award\", \"HM\", \"noAward\"))\n",
    "t$award[which(t$award == \"award\")] <- \"Placed\"\n",
    "t$award[which(t$award == \"HM\")] <- \"Honorable Mention\"\n",
    "t$award[which(t$award == \"noAward\")] <- \"No Award\"\n",
    "t\n",
    "\n",
    "g <- ggplot(data = t, aes(x = AI_ML, y = percentage, fill = award))\n",
    "g <- g + geom_bar(stat = \"identity\", position = position_stack(reverse=TRUE))\n",
    "g <- g + geom_text(aes(label=Freq), position = position_stack(vjust=0.5, reverse = TRUE),colour = \"white\", size = 5)\n",
    "# g <- g + labs(title = \"Number of Projects AI/ML related\", caption = \"Fig 1.0: Percentages Shown in bar\")\n",
    "g <- g + labs(x = \"Relevance to AI/ML\", y = \"Proportion of Awards\")\n",
    "g\n"
   ]
  },
  {
   "cell_type": "code",
   "execution_count": 13,
   "id": "16f071ec",
   "metadata": {},
   "outputs": [
    {
     "data": {
      "text/plain": [
       "                        award2\n",
       "InfectiousDiseases_Covid award   HM noAward\n",
       "                       0   538  244    1416\n",
       "                       1    48   18      82"
      ]
     },
     "metadata": {},
     "output_type": "display_data"
    },
    {
     "data": {
      "text/plain": [
       "                        award2\n",
       "InfectiousDiseases_Covid award   HM noAward\n",
       "                       0  0.24 0.11    0.64\n",
       "                       1  0.32 0.12    0.55"
      ]
     },
     "metadata": {},
     "output_type": "display_data"
    },
    {
     "data": {
      "text/plain": [
       "\n",
       "\tPearson's Chi-squared test\n",
       "\n",
       "data:  tab\n",
       "X-squared = 5.4189, df = 2, p-value = 0.06657\n"
      ]
     },
     "metadata": {},
     "output_type": "display_data"
    },
    {
     "data": {
      "text/html": [
       "<table>\n",
       "<thead><tr><th scope=col>InfectiousDiseases_Covid</th><th scope=col>award</th><th scope=col>Freq</th><th scope=col>percentage</th></tr></thead>\n",
       "<tbody>\n",
       "\t<tr><td>0      </td><td>award  </td><td> 538   </td><td>0.24   </td></tr>\n",
       "\t<tr><td>1      </td><td>award  </td><td>  48   </td><td>0.32   </td></tr>\n",
       "\t<tr><td>0      </td><td>HM     </td><td> 244   </td><td>0.11   </td></tr>\n",
       "\t<tr><td>1      </td><td>HM     </td><td>  18   </td><td>0.12   </td></tr>\n",
       "\t<tr><td>0      </td><td>noAward</td><td>1416   </td><td>0.64   </td></tr>\n",
       "\t<tr><td>1      </td><td>noAward</td><td>  82   </td><td>0.55   </td></tr>\n",
       "</tbody>\n",
       "</table>\n"
      ],
      "text/latex": [
       "\\begin{tabular}{r|llll}\n",
       " InfectiousDiseases\\_Covid & award & Freq & percentage\\\\\n",
       "\\hline\n",
       "\t 0       & award   &  538    & 0.24   \\\\\n",
       "\t 1       & award   &   48    & 0.32   \\\\\n",
       "\t 0       & HM      &  244    & 0.11   \\\\\n",
       "\t 1       & HM      &   18    & 0.12   \\\\\n",
       "\t 0       & noAward & 1416    & 0.64   \\\\\n",
       "\t 1       & noAward &   82    & 0.55   \\\\\n",
       "\\end{tabular}\n"
      ],
      "text/markdown": [
       "\n",
       "| InfectiousDiseases_Covid | award | Freq | percentage |\n",
       "|---|---|---|---|\n",
       "| 0       | award   |  538    | 0.24    |\n",
       "| 1       | award   |   48    | 0.32    |\n",
       "| 0       | HM      |  244    | 0.11    |\n",
       "| 1       | HM      |   18    | 0.12    |\n",
       "| 0       | noAward | 1416    | 0.64    |\n",
       "| 1       | noAward |   82    | 0.55    |\n",
       "\n"
      ],
      "text/plain": [
       "  InfectiousDiseases_Covid award   Freq percentage\n",
       "1 0                        award    538 0.24      \n",
       "2 1                        award     48 0.32      \n",
       "3 0                        HM       244 0.11      \n",
       "4 1                        HM        18 0.12      \n",
       "5 0                        noAward 1416 0.64      \n",
       "6 1                        noAward   82 0.55      "
      ]
     },
     "metadata": {},
     "output_type": "display_data"
    },
    {
     "data": {
      "image/png": "[encoded data removed]",
      "text/plain": [
       "plot without title"
      ]
     },
     "metadata": {},
     "output_type": "display_data"
    }
   ],
   "source": [
    "# 13. bar plot of number of projects by Infectious Diseases vs non, (x-axis) stacked by award or no award.: test of proportions\n",
    "tab <- table(projDat[, c(\"InfectiousDiseases_Covid\", \"award2\")])\n",
    "tab\n",
    "perc <- round(tab/apply(tab,1, sum), 2)\n",
    "perc\n",
    "chisq.test(tab)\n",
    "perc <- as.data.frame(perc)\n",
    "t <- as.data.frame(tab)\n",
    "t <- cbind(t, perc[,3])\n",
    "colnames(t) <- c(\"InfectiousDiseases_Covid\", \"award\", \"Freq\", \"percentage\")\n",
    "t\n",
    "\n",
    "g <- ggplot(data = t, aes(x = InfectiousDiseases_Covid, y = percentage, fill = award))\n",
    "g <- g + geom_bar(stat = \"identity\", position = position_stack(reverse=TRUE))\n",
    "g <- g + geom_text(aes(label=Freq), position = position_stack(vjust=0.5, reverse = TRUE),colour = \"white\", size = 3)\n",
    "g <- g + labs(title = \"Number of Projects Infectious Disease related\", caption = \"Fig 1.0: Percentages Shown in bar\")\n",
    "g\n"
   ]
  },
  {
   "cell_type": "code",
   "execution_count": 14,
   "id": "fe4ae1b9",
   "metadata": {},
   "outputs": [
    {
     "data": {
      "text/plain": [
       "          award2\n",
       "GenderComp award  HM noAward\n",
       "      AllF   237 108     692\n",
       "      AllM   240  79     490\n",
       "      Mix     15  10      54\n",
       "      X       94  65     262"
      ]
     },
     "metadata": {},
     "output_type": "display_data"
    },
    {
     "data": {
      "text/plain": [
       "          award2\n",
       "GenderComp award   HM noAward\n",
       "      AllF  0.23 0.10    0.67\n",
       "      AllM  0.30 0.10    0.61\n",
       "      Mix   0.19 0.13    0.68\n",
       "      X     0.22 0.15    0.62"
      ]
     },
     "metadata": {},
     "output_type": "display_data"
    },
    {
     "data": {
      "text/plain": [
       "\n",
       "\tPearson's Chi-squared test\n",
       "\n",
       "data:  tab\n",
       "X-squared = 23.433, df = 6, p-value = 0.0006637\n"
      ]
     },
     "metadata": {},
     "output_type": "display_data"
    },
    {
     "data": {
      "text/html": [
       "<table>\n",
       "<thead><tr><th scope=col>GenderComp</th><th scope=col>award</th><th scope=col>Freq</th><th scope=col>percentage</th></tr></thead>\n",
       "<tbody>\n",
       "\t<tr><td>AllF   </td><td>award  </td><td>237    </td><td>0.23   </td></tr>\n",
       "\t<tr><td>AllM   </td><td>award  </td><td>240    </td><td>0.30   </td></tr>\n",
       "\t<tr><td>Mix    </td><td>award  </td><td> 15    </td><td>0.19   </td></tr>\n",
       "\t<tr><td>X      </td><td>award  </td><td> 94    </td><td>0.22   </td></tr>\n",
       "\t<tr><td>AllF   </td><td>HM     </td><td>108    </td><td>0.10   </td></tr>\n",
       "\t<tr><td>AllM   </td><td>HM     </td><td> 79    </td><td>0.10   </td></tr>\n",
       "\t<tr><td>Mix    </td><td>HM     </td><td> 10    </td><td>0.13   </td></tr>\n",
       "\t<tr><td>X      </td><td>HM     </td><td> 65    </td><td>0.15   </td></tr>\n",
       "\t<tr><td>AllF   </td><td>noAward</td><td>692    </td><td>0.67   </td></tr>\n",
       "\t<tr><td>AllM   </td><td>noAward</td><td>490    </td><td>0.61   </td></tr>\n",
       "\t<tr><td>Mix    </td><td>noAward</td><td> 54    </td><td>0.68   </td></tr>\n",
       "\t<tr><td>X      </td><td>noAward</td><td>262    </td><td>0.62   </td></tr>\n",
       "</tbody>\n",
       "</table>\n"
      ],
      "text/latex": [
       "\\begin{tabular}{r|llll}\n",
       " GenderComp & award & Freq & percentage\\\\\n",
       "\\hline\n",
       "\t AllF    & award   & 237     & 0.23   \\\\\n",
       "\t AllM    & award   & 240     & 0.30   \\\\\n",
       "\t Mix     & award   &  15     & 0.19   \\\\\n",
       "\t X       & award   &  94     & 0.22   \\\\\n",
       "\t AllF    & HM      & 108     & 0.10   \\\\\n",
       "\t AllM    & HM      &  79     & 0.10   \\\\\n",
       "\t Mix     & HM      &  10     & 0.13   \\\\\n",
       "\t X       & HM      &  65     & 0.15   \\\\\n",
       "\t AllF    & noAward & 692     & 0.67   \\\\\n",
       "\t AllM    & noAward & 490     & 0.61   \\\\\n",
       "\t Mix     & noAward &  54     & 0.68   \\\\\n",
       "\t X       & noAward & 262     & 0.62   \\\\\n",
       "\\end{tabular}\n"
      ],
      "text/markdown": [
       "\n",
       "| GenderComp | award | Freq | percentage |\n",
       "|---|---|---|---|\n",
       "| AllF    | award   | 237     | 0.23    |\n",
       "| AllM    | award   | 240     | 0.30    |\n",
       "| Mix     | award   |  15     | 0.19    |\n",
       "| X       | award   |  94     | 0.22    |\n",
       "| AllF    | HM      | 108     | 0.10    |\n",
       "| AllM    | HM      |  79     | 0.10    |\n",
       "| Mix     | HM      |  10     | 0.13    |\n",
       "| X       | HM      |  65     | 0.15    |\n",
       "| AllF    | noAward | 692     | 0.67    |\n",
       "| AllM    | noAward | 490     | 0.61    |\n",
       "| Mix     | noAward |  54     | 0.68    |\n",
       "| X       | noAward | 262     | 0.62    |\n",
       "\n"
      ],
      "text/plain": [
       "   GenderComp award   Freq percentage\n",
       "1  AllF       award   237  0.23      \n",
       "2  AllM       award   240  0.30      \n",
       "3  Mix        award    15  0.19      \n",
       "4  X          award    94  0.22      \n",
       "5  AllF       HM      108  0.10      \n",
       "6  AllM       HM       79  0.10      \n",
       "7  Mix        HM       10  0.13      \n",
       "8  X          HM       65  0.15      \n",
       "9  AllF       noAward 692  0.67      \n",
       "10 AllM       noAward 490  0.61      \n",
       "11 Mix        noAward  54  0.68      \n",
       "12 X          noAward 262  0.62      "
      ]
     },
     "metadata": {},
     "output_type": "display_data"
    },
    {
     "data": {
      "image/png": "[encoded data removed]",
      "text/plain": [
       "plot without title"
      ]
     },
     "metadata": {},
     "output_type": "display_data"
    }
   ],
   "source": [
    "# 14. bar plot of number of projects by Gender comp, (x-axis) stacked by award or no award.: test of proportions\n",
    "\n",
    "tab <- table(projDat[, c(\"GenderComp\", \"award2\")])\n",
    "tab\n",
    "perc <- round(tab/apply(tab,1, sum), 2)\n",
    "perc\n",
    "chisq.test(tab)\n",
    "perc <- as.data.frame(perc)\n",
    "t <- as.data.frame(tab)\n",
    "t <- cbind(t, perc[,3])\n",
    "colnames(t) <- c(\"GenderComp\", \"award\", \"Freq\", \"percentage\")\n",
    "t\n",
    "\n",
    "g <- ggplot(data = t, aes(x = GenderComp, y = percentage, fill = award))\n",
    "g <- g + geom_bar(stat = \"identity\", position = position_stack(reverse=TRUE))\n",
    "g <- g + geom_text(aes(label=Freq), position = position_stack(vjust=0.5, reverse = TRUE),colour = \"white\", size = 3)\n",
    "g <- g + labs(title = \"Award vs gender composition\", caption = \"Fig 1.0: Percentages Shown in bar\")\n",
    "g\n"
   ]
  },
  {
   "cell_type": "code",
   "execution_count": 57,
   "id": "a582891a",
   "metadata": {},
   "outputs": [
    {
     "data": {
      "text/plain": [
       "    \n",
       "     award  HM noAward\n",
       "  9     64  38     264\n",
       "  10   145  77     505\n",
       "  11   252 117     368\n",
       "  12   125  30     201"
      ]
     },
     "metadata": {},
     "output_type": "display_data"
    },
    {
     "data": {
      "text/html": [
       "2186"
      ],
      "text/latex": [
       "2186"
      ],
      "text/markdown": [
       "2186"
      ],
      "text/plain": [
       "[1] 2186"
      ]
     },
     "metadata": {},
     "output_type": "display_data"
    },
    {
     "data": {
      "text/plain": [
       "    \n",
       "       award      HM noAward\n",
       "  9  0.17486 0.10383 0.72131\n",
       "  10 0.19945 0.10591 0.69464\n",
       "  11 0.34193 0.15875 0.49932\n",
       "  12 0.35112 0.08427 0.56461"
      ]
     },
     "metadata": {},
     "output_type": "display_data"
    },
    {
     "data": {
      "text/plain": [
       "\n",
       "\tPearson's Chi-squared test\n",
       "\n",
       "data:  tab\n",
       "X-squared = 95.667, df = 6, p-value < 2.2e-16\n"
      ]
     },
     "metadata": {},
     "output_type": "display_data"
    },
    {
     "data": {
      "text/html": [
       "<table>\n",
       "<thead><tr><th scope=col>AvgGrade</th><th scope=col>award</th><th scope=col>Freq</th><th scope=col>percentage</th></tr></thead>\n",
       "<tbody>\n",
       "\t<tr><td>9                </td><td>Placed           </td><td> 64              </td><td>0.17486          </td></tr>\n",
       "\t<tr><td>10               </td><td>Placed           </td><td>145              </td><td>0.19945          </td></tr>\n",
       "\t<tr><td>11               </td><td>Placed           </td><td>252              </td><td>0.34193          </td></tr>\n",
       "\t<tr><td>12               </td><td>Placed           </td><td>125              </td><td>0.35112          </td></tr>\n",
       "\t<tr><td>9                </td><td>Honorable Mention</td><td> 38              </td><td>0.10383          </td></tr>\n",
       "\t<tr><td>10               </td><td>Honorable Mention</td><td> 77              </td><td>0.10591          </td></tr>\n",
       "\t<tr><td>11               </td><td>Honorable Mention</td><td>117              </td><td>0.15875          </td></tr>\n",
       "\t<tr><td>12               </td><td>Honorable Mention</td><td> 30              </td><td>0.08427          </td></tr>\n",
       "\t<tr><td>9                </td><td>No Award         </td><td>264              </td><td>0.72131          </td></tr>\n",
       "\t<tr><td>10               </td><td>No Award         </td><td>505              </td><td>0.69464          </td></tr>\n",
       "\t<tr><td>11               </td><td>No Award         </td><td>368              </td><td>0.49932          </td></tr>\n",
       "\t<tr><td>12               </td><td>No Award         </td><td>201              </td><td>0.56461          </td></tr>\n",
       "</tbody>\n",
       "</table>\n"
      ],
      "text/latex": [
       "\\begin{tabular}{r|llll}\n",
       " AvgGrade & award & Freq & percentage\\\\\n",
       "\\hline\n",
       "\t 9                 & Placed            &  64               & 0.17486          \\\\\n",
       "\t 10                & Placed            & 145               & 0.19945          \\\\\n",
       "\t 11                & Placed            & 252               & 0.34193          \\\\\n",
       "\t 12                & Placed            & 125               & 0.35112          \\\\\n",
       "\t 9                 & Honorable Mention &  38               & 0.10383          \\\\\n",
       "\t 10                & Honorable Mention &  77               & 0.10591          \\\\\n",
       "\t 11                & Honorable Mention & 117               & 0.15875          \\\\\n",
       "\t 12                & Honorable Mention &  30               & 0.08427          \\\\\n",
       "\t 9                 & No Award          & 264               & 0.72131          \\\\\n",
       "\t 10                & No Award          & 505               & 0.69464          \\\\\n",
       "\t 11                & No Award          & 368               & 0.49932          \\\\\n",
       "\t 12                & No Award          & 201               & 0.56461          \\\\\n",
       "\\end{tabular}\n"
      ],
      "text/markdown": [
       "\n",
       "| AvgGrade | award | Freq | percentage |\n",
       "|---|---|---|---|\n",
       "| 9                 | Placed            |  64               | 0.17486           |\n",
       "| 10                | Placed            | 145               | 0.19945           |\n",
       "| 11                | Placed            | 252               | 0.34193           |\n",
       "| 12                | Placed            | 125               | 0.35112           |\n",
       "| 9                 | Honorable Mention |  38               | 0.10383           |\n",
       "| 10                | Honorable Mention |  77               | 0.10591           |\n",
       "| 11                | Honorable Mention | 117               | 0.15875           |\n",
       "| 12                | Honorable Mention |  30               | 0.08427           |\n",
       "| 9                 | No Award          | 264               | 0.72131           |\n",
       "| 10                | No Award          | 505               | 0.69464           |\n",
       "| 11                | No Award          | 368               | 0.49932           |\n",
       "| 12                | No Award          | 201               | 0.56461           |\n",
       "\n"
      ],
      "text/plain": [
       "   AvgGrade award             Freq percentage\n",
       "1  9        Placed             64  0.17486   \n",
       "2  10       Placed            145  0.19945   \n",
       "3  11       Placed            252  0.34193   \n",
       "4  12       Placed            125  0.35112   \n",
       "5  9        Honorable Mention  38  0.10383   \n",
       "6  10       Honorable Mention  77  0.10591   \n",
       "7  11       Honorable Mention 117  0.15875   \n",
       "8  12       Honorable Mention  30  0.08427   \n",
       "9  9        No Award          264  0.72131   \n",
       "10 10       No Award          505  0.69464   \n",
       "11 11       No Award          368  0.49932   \n",
       "12 12       No Award          201  0.56461   "
      ]
     },
     "metadata": {},
     "output_type": "display_data"
    },
    {
     "data": {
      "image/png": "[encoded data removed]",
      "text/plain": [
       "plot without title"
      ]
     },
     "metadata": {},
     "output_type": "display_data"
    }
   ],
   "source": [
    "# 15. bar plot of number of projects by grade Comp, (x-axis) stacked by award or no award.: show Chi sq test of homogeniety\n",
    "\n",
    "tab <- table(round(projDat$AvgGrade,0), projDat$award2)\n",
    "# tab <- table(projDat[, c(\"AvgGrade\", \"award2\")])\n",
    "tab\n",
    "\n",
    "sum(tab)\n",
    "perc <- round(tab/apply(tab,1, sum), 5)\n",
    "perc\n",
    "chisq.test(tab)\n",
    "perc <- as.data.frame(perc)\n",
    "t <- as.data.frame(tab)\n",
    "t <- cbind(t, perc[,3])\n",
    "colnames(t) <- c(\"AvgGrade\", \"award\", \"Freq\", \"percentage\")\n",
    "\n",
    "t$award <- factor(t$award, levels=c(\"Placed\", \"Honorable Mention\", \"No Award\", \"award\", \"HM\", \"noAward\"))\n",
    "t$award[which(t$award == \"award\")] <- \"Placed\"\n",
    "t$award[which(t$award == \"HM\")] <- \"Honorable Mention\"\n",
    "t$award[which(t$award == \"noAward\")] <- \"No Award\"\n",
    "t\n",
    "\n",
    "g <- ggplot(data = t, aes(x = AvgGrade, y = percentage, fill = award))\n",
    "g <- g + geom_bar(stat = \"identity\", position = position_stack(reverse=TRUE))\n",
    "g <- g + geom_text(aes(label=Freq), position = position_stack(vjust=0.5, reverse = TRUE),colour = \"white\", size = 3)\n",
    "# g <- g + labs(title = \"Award vs grade\", caption = \"Fig 1.0: Percentages Shown in bar\")\n",
    "g <- g + labs(x = \"Average Grade\", y = \"Proportion of Awards\")\n",
    "g"
   ]
  },
  {
   "cell_type": "code",
   "execution_count": 67,
   "id": "d62fe940",
   "metadata": {
    "scrolled": false
   },
   "outputs": [
    {
     "data": {
      "text/plain": [
       "       \n",
       "valcons award  HM noAward\n",
       "      1   253 121     902\n",
       "      2   266 112     522\n",
       "      3    65  29      69"
      ]
     },
     "metadata": {},
     "output_type": "display_data"
    },
    {
     "data": {
      "text/html": [
       "2339"
      ],
      "text/latex": [
       "2339"
      ],
      "text/markdown": [
       "2339"
      ],
      "text/plain": [
       "[1] 2339"
      ]
     },
     "metadata": {},
     "output_type": "display_data"
    },
    {
     "data": {
      "text/plain": [
       "       \n",
       "valcons award   HM noAward\n",
       "      1  0.20 0.09    0.71\n",
       "      2  0.30 0.12    0.58\n",
       "      3  0.40 0.18    0.42"
      ]
     },
     "metadata": {},
     "output_type": "display_data"
    },
    {
     "data": {
      "text/plain": [
       "\n",
       "\tPearson's Chi-squared test\n",
       "\n",
       "data:  tab\n",
       "X-squared = 72.529, df = 4, p-value = 6.634e-15\n"
      ]
     },
     "metadata": {},
     "output_type": "display_data"
    },
    {
     "data": {
      "text/html": [
       "<table>\n",
       "<thead><tr><th scope=col>AppliedVal</th><th scope=col>award</th><th scope=col>Freq</th><th scope=col>percentage</th></tr></thead>\n",
       "<tbody>\n",
       "\t<tr><td>1                </td><td>Placed           </td><td>253              </td><td>0.20             </td></tr>\n",
       "\t<tr><td>2                </td><td>Placed           </td><td>266              </td><td>0.30             </td></tr>\n",
       "\t<tr><td>3                </td><td>Placed           </td><td> 65              </td><td>0.40             </td></tr>\n",
       "\t<tr><td>1                </td><td>Honorable Mention</td><td>121              </td><td>0.09             </td></tr>\n",
       "\t<tr><td>2                </td><td>Honorable Mention</td><td>112              </td><td>0.12             </td></tr>\n",
       "\t<tr><td>3                </td><td>Honorable Mention</td><td> 29              </td><td>0.18             </td></tr>\n",
       "\t<tr><td>1                </td><td>No Award         </td><td>902              </td><td>0.71             </td></tr>\n",
       "\t<tr><td>2                </td><td>No Award         </td><td>522              </td><td>0.58             </td></tr>\n",
       "\t<tr><td>3                </td><td>No Award         </td><td> 69              </td><td>0.42             </td></tr>\n",
       "</tbody>\n",
       "</table>\n"
      ],
      "text/latex": [
       "\\begin{tabular}{r|llll}\n",
       " AppliedVal & award & Freq & percentage\\\\\n",
       "\\hline\n",
       "\t 1                 & Placed            & 253               & 0.20             \\\\\n",
       "\t 2                 & Placed            & 266               & 0.30             \\\\\n",
       "\t 3                 & Placed            &  65               & 0.40             \\\\\n",
       "\t 1                 & Honorable Mention & 121               & 0.09             \\\\\n",
       "\t 2                 & Honorable Mention & 112               & 0.12             \\\\\n",
       "\t 3                 & Honorable Mention &  29               & 0.18             \\\\\n",
       "\t 1                 & No Award          & 902               & 0.71             \\\\\n",
       "\t 2                 & No Award          & 522               & 0.58             \\\\\n",
       "\t 3                 & No Award          &  69               & 0.42             \\\\\n",
       "\\end{tabular}\n"
      ],
      "text/markdown": [
       "\n",
       "| AppliedVal | award | Freq | percentage |\n",
       "|---|---|---|---|\n",
       "| 1                 | Placed            | 253               | 0.20              |\n",
       "| 2                 | Placed            | 266               | 0.30              |\n",
       "| 3                 | Placed            |  65               | 0.40              |\n",
       "| 1                 | Honorable Mention | 121               | 0.09              |\n",
       "| 2                 | Honorable Mention | 112               | 0.12              |\n",
       "| 3                 | Honorable Mention |  29               | 0.18              |\n",
       "| 1                 | No Award          | 902               | 0.71              |\n",
       "| 2                 | No Award          | 522               | 0.58              |\n",
       "| 3                 | No Award          |  69               | 0.42              |\n",
       "\n"
      ],
      "text/plain": [
       "  AppliedVal award             Freq percentage\n",
       "1 1          Placed            253  0.20      \n",
       "2 2          Placed            266  0.30      \n",
       "3 3          Placed             65  0.40      \n",
       "4 1          Honorable Mention 121  0.09      \n",
       "5 2          Honorable Mention 112  0.12      \n",
       "6 3          Honorable Mention  29  0.18      \n",
       "7 1          No Award          902  0.71      \n",
       "8 2          No Award          522  0.58      \n",
       "9 3          No Award           69  0.42      "
      ]
     },
     "metadata": {},
     "output_type": "display_data"
    },
    {
     "data": {
      "image/png": "[encoded data removed]",
      "text/plain": [
       "plot without title"
      ]
     },
     "metadata": {},
     "output_type": "display_data"
    }
   ],
   "source": [
    "# 16.1 Plot of applied Value vs Award\n",
    "\n",
    "valcons <- round(projDat$AppliedValue,0)\n",
    "valcons[valcons < 4] <- 1\n",
    "valcons[valcons > 6] <- 3\n",
    "valcons[valcons > 3] <- 2\n",
    "\n",
    "tab <- table(valcons, projDat$award2)\n",
    "tab\n",
    "sum(tab)\n",
    "perc <- round(tab/apply(tab,1, sum), 2)\n",
    "perc\n",
    "chisq.test(tab)\n",
    "perc <- as.data.frame(perc)\n",
    "t <- as.data.frame(tab)\n",
    "t <- cbind(t, perc[,3])\n",
    "colnames(t) <- c(\"AppliedVal\", \"award\", \"Freq\", \"percentage\")\n",
    "\n",
    "t$award <- factor(t$award, levels=c(\"Placed\", \"Honorable Mention\", \"No Award\", \"award\", \"HM\", \"noAward\"))\n",
    "t$award[which(t$award == \"award\")] <- \"Placed\"\n",
    "t$award[which(t$award == \"HM\")] <- \"Honorable Mention\"\n",
    "t$award[which(t$award == \"noAward\")] <- \"No Award\"\n",
    "t\n",
    "\n",
    "g <- ggplot(data = t, aes(x = AppliedVal, y = percentage, fill = award))\n",
    "g <- g + geom_bar(stat = \"identity\", position = position_stack(reverse=TRUE))\n",
    "g <- g + geom_text(aes(label=Freq), position = position_stack(vjust=0.5, reverse = TRUE),colour = \"white\", size = 4)\n",
    "# g <- g + labs(title = \"Applied Value vs Award\", caption = \"Frequencies Shown in bar\")\n",
    "g <- g + labs(x = \"Applied Value\", y = \"Proportion of Awards\")\n",
    "g"
   ]
  },
  {
   "cell_type": "code",
   "execution_count": 23,
   "id": "13e40376",
   "metadata": {
    "scrolled": false
   },
   "outputs": [
    {
     "data": {
      "text/plain": [
       "               award2\n",
       "EthnicityComp   award  HM noAward\n",
       "  AllAsian         97  33     217\n",
       "  AllBiracial       6   0      12\n",
       "  AllBlack         11   5      63\n",
       "  AllLatino         9   3      61\n",
       "  AllSouthAsian    88  22     117\n",
       "  AllWhite        210 108     559"
      ]
     },
     "metadata": {},
     "output_type": "display_data"
    },
    {
     "data": {
      "text/html": [
       "1621"
      ],
      "text/latex": [
       "1621"
      ],
      "text/markdown": [
       "1621"
      ],
      "text/plain": [
       "[1] 1621"
      ]
     },
     "metadata": {},
     "output_type": "display_data"
    },
    {
     "data": {
      "text/plain": [
       "               award2\n",
       "EthnicityComp   award   HM noAward\n",
       "  AllAsian       0.28 0.10    0.63\n",
       "  AllBiracial    0.33 0.00    0.67\n",
       "  AllBlack       0.14 0.06    0.80\n",
       "  AllLatino      0.12 0.04    0.84\n",
       "  AllSouthAsian  0.39 0.10    0.52\n",
       "  AllWhite       0.24 0.12    0.64"
      ]
     },
     "metadata": {},
     "output_type": "display_data"
    },
    {
     "name": "stderr",
     "output_type": "stream",
     "text": [
      "Warning message in chisq.test(tab):\n",
      "\"Chi-squared approximation may be incorrect\""
     ]
    },
    {
     "data": {
      "text/plain": [
       "\n",
       "\tPearson's Chi-squared test\n",
       "\n",
       "data:  tab\n",
       "X-squared = 48.563, df = 10, p-value = 4.897e-07\n"
      ]
     },
     "metadata": {},
     "output_type": "display_data"
    },
    {
     "data": {
      "text/html": [
       "<table>\n",
       "<thead><tr><th scope=col>EthnicityComp</th><th scope=col>award</th><th scope=col>Freq</th><th scope=col>percentage</th></tr></thead>\n",
       "<tbody>\n",
       "\t<tr><td>AllAsian     </td><td>award        </td><td> 97          </td><td>0.28         </td></tr>\n",
       "\t<tr><td>AllBiracial  </td><td>award        </td><td>  6          </td><td>0.33         </td></tr>\n",
       "\t<tr><td>AllBlack     </td><td>award        </td><td> 11          </td><td>0.14         </td></tr>\n",
       "\t<tr><td>AllLatino    </td><td>award        </td><td>  9          </td><td>0.12         </td></tr>\n",
       "\t<tr><td>AllSouthAsian</td><td>award        </td><td> 88          </td><td>0.39         </td></tr>\n",
       "\t<tr><td>AllWhite     </td><td>award        </td><td>210          </td><td>0.24         </td></tr>\n",
       "\t<tr><td>AllAsian     </td><td>HM           </td><td> 33          </td><td>0.10         </td></tr>\n",
       "\t<tr><td>AllBiracial  </td><td>HM           </td><td>  0          </td><td>0.00         </td></tr>\n",
       "\t<tr><td>AllBlack     </td><td>HM           </td><td>  5          </td><td>0.06         </td></tr>\n",
       "\t<tr><td>AllLatino    </td><td>HM           </td><td>  3          </td><td>0.04         </td></tr>\n",
       "\t<tr><td>AllSouthAsian</td><td>HM           </td><td> 22          </td><td>0.10         </td></tr>\n",
       "\t<tr><td>AllWhite     </td><td>HM           </td><td>108          </td><td>0.12         </td></tr>\n",
       "\t<tr><td>AllAsian     </td><td>noAward      </td><td>217          </td><td>0.63         </td></tr>\n",
       "\t<tr><td>AllBiracial  </td><td>noAward      </td><td> 12          </td><td>0.67         </td></tr>\n",
       "\t<tr><td>AllBlack     </td><td>noAward      </td><td> 63          </td><td>0.80         </td></tr>\n",
       "\t<tr><td>AllLatino    </td><td>noAward      </td><td> 61          </td><td>0.84         </td></tr>\n",
       "\t<tr><td>AllSouthAsian</td><td>noAward      </td><td>117          </td><td>0.52         </td></tr>\n",
       "\t<tr><td>AllWhite     </td><td>noAward      </td><td>559          </td><td>0.64         </td></tr>\n",
       "</tbody>\n",
       "</table>\n"
      ],
      "text/latex": [
       "\\begin{tabular}{r|llll}\n",
       " EthnicityComp & award & Freq & percentage\\\\\n",
       "\\hline\n",
       "\t AllAsian      & award         &  97           & 0.28         \\\\\n",
       "\t AllBiracial   & award         &   6           & 0.33         \\\\\n",
       "\t AllBlack      & award         &  11           & 0.14         \\\\\n",
       "\t AllLatino     & award         &   9           & 0.12         \\\\\n",
       "\t AllSouthAsian & award         &  88           & 0.39         \\\\\n",
       "\t AllWhite      & award         & 210           & 0.24         \\\\\n",
       "\t AllAsian      & HM            &  33           & 0.10         \\\\\n",
       "\t AllBiracial   & HM            &   0           & 0.00         \\\\\n",
       "\t AllBlack      & HM            &   5           & 0.06         \\\\\n",
       "\t AllLatino     & HM            &   3           & 0.04         \\\\\n",
       "\t AllSouthAsian & HM            &  22           & 0.10         \\\\\n",
       "\t AllWhite      & HM            & 108           & 0.12         \\\\\n",
       "\t AllAsian      & noAward       & 217           & 0.63         \\\\\n",
       "\t AllBiracial   & noAward       &  12           & 0.67         \\\\\n",
       "\t AllBlack      & noAward       &  63           & 0.80         \\\\\n",
       "\t AllLatino     & noAward       &  61           & 0.84         \\\\\n",
       "\t AllSouthAsian & noAward       & 117           & 0.52         \\\\\n",
       "\t AllWhite      & noAward       & 559           & 0.64         \\\\\n",
       "\\end{tabular}\n"
      ],
      "text/markdown": [
       "\n",
       "| EthnicityComp | award | Freq | percentage |\n",
       "|---|---|---|---|\n",
       "| AllAsian      | award         |  97           | 0.28          |\n",
       "| AllBiracial   | award         |   6           | 0.33          |\n",
       "| AllBlack      | award         |  11           | 0.14          |\n",
       "| AllLatino     | award         |   9           | 0.12          |\n",
       "| AllSouthAsian | award         |  88           | 0.39          |\n",
       "| AllWhite      | award         | 210           | 0.24          |\n",
       "| AllAsian      | HM            |  33           | 0.10          |\n",
       "| AllBiracial   | HM            |   0           | 0.00          |\n",
       "| AllBlack      | HM            |   5           | 0.06          |\n",
       "| AllLatino     | HM            |   3           | 0.04          |\n",
       "| AllSouthAsian | HM            |  22           | 0.10          |\n",
       "| AllWhite      | HM            | 108           | 0.12          |\n",
       "| AllAsian      | noAward       | 217           | 0.63          |\n",
       "| AllBiracial   | noAward       |  12           | 0.67          |\n",
       "| AllBlack      | noAward       |  63           | 0.80          |\n",
       "| AllLatino     | noAward       |  61           | 0.84          |\n",
       "| AllSouthAsian | noAward       | 117           | 0.52          |\n",
       "| AllWhite      | noAward       | 559           | 0.64          |\n",
       "\n"
      ],
      "text/plain": [
       "   EthnicityComp award   Freq percentage\n",
       "1  AllAsian      award    97  0.28      \n",
       "2  AllBiracial   award     6  0.33      \n",
       "3  AllBlack      award    11  0.14      \n",
       "4  AllLatino     award     9  0.12      \n",
       "5  AllSouthAsian award    88  0.39      \n",
       "6  AllWhite      award   210  0.24      \n",
       "7  AllAsian      HM       33  0.10      \n",
       "8  AllBiracial   HM        0  0.00      \n",
       "9  AllBlack      HM        5  0.06      \n",
       "10 AllLatino     HM        3  0.04      \n",
       "11 AllSouthAsian HM       22  0.10      \n",
       "12 AllWhite      HM      108  0.12      \n",
       "13 AllAsian      noAward 217  0.63      \n",
       "14 AllBiracial   noAward  12  0.67      \n",
       "15 AllBlack      noAward  63  0.80      \n",
       "16 AllLatino     noAward  61  0.84      \n",
       "17 AllSouthAsian noAward 117  0.52      \n",
       "18 AllWhite      noAward 559  0.64      "
      ]
     },
     "metadata": {},
     "output_type": "display_data"
    },
    {
     "data": {
      "image/png": "[encoded data removed]",
      "text/plain": [
       "plot without title"
      ]
     },
     "metadata": {},
     "output_type": "display_data"
    }
   ],
   "source": [
    "# 16. bar plot of number of projects by Ethnicity Comp, (x-axis) stacked by award or no award. :show Chi sq test of homogeniety\n",
    "\n",
    "tab <- table(projDat[, c(\"EthnicityComp\", \"award2\")])\n",
    "tab <- tab[4:9,]\n",
    "tab\n",
    "\n",
    "sum(tab)\n",
    "perc <- round(tab/apply(tab,1, sum), 2)\n",
    "perc\n",
    "chisq.test(tab)\n",
    "perc <- as.data.frame(perc)\n",
    "t <- as.data.frame(tab)\n",
    "t <- cbind(t, perc[,3])\n",
    "colnames(t) <- c(\"EthnicityComp\", \"award\", \"Freq\", \"percentage\")\n",
    "t\n",
    "\n",
    "g <- ggplot(data = t, aes(x = EthnicityComp, y = percentage, fill = award))\n",
    "g <- g + geom_bar(stat = \"identity\", position = position_stack(reverse=TRUE))\n",
    "g <- g + geom_text(aes(label=Freq), position = position_stack(vjust=0.5, reverse = TRUE),colour = \"white\", size = 3)\n",
    "g <- g + labs(title = \"Award vs Ethnicity composition\", caption = \"Fig 1.0: Percentages Shown in bar\")\n",
    "g <- g + theme(axis.text.x=element_text(color = \"black\", size=8, angle=30, vjust=.8, hjust=0.8))\n",
    "g"
   ]
  },
  {
   "cell_type": "code",
   "execution_count": 69,
   "id": "46da046b",
   "metadata": {},
   "outputs": [
    {
     "data": {
      "text/plain": [
       "       \n",
       "valcons award   HM noAward\n",
       "      1   471  213    1171\n",
       "      2    98   44     258\n",
       "      3    17    5      69"
      ]
     },
     "metadata": {},
     "output_type": "display_data"
    },
    {
     "data": {
      "text/html": [
       "2346"
      ],
      "text/latex": [
       "2346"
      ],
      "text/markdown": [
       "2346"
      ],
      "text/plain": [
       "[1] 2346"
      ]
     },
     "metadata": {},
     "output_type": "display_data"
    },
    {
     "data": {
      "text/plain": [
       "       \n",
       "valcons award   HM noAward\n",
       "      1  0.25 0.11    0.63\n",
       "      2  0.24 0.11    0.64\n",
       "      3  0.19 0.05    0.76"
      ]
     },
     "metadata": {},
     "output_type": "display_data"
    },
    {
     "data": {
      "text/plain": [
       "\n",
       "\tPearson's Chi-squared test\n",
       "\n",
       "data:  tab\n",
       "X-squared = 6.6266, df = 4, p-value = 0.157\n"
      ]
     },
     "metadata": {},
     "output_type": "display_data"
    },
    {
     "data": {
      "image/png": "[encoded data removed]",
      "text/plain": [
       "plot without title"
      ]
     },
     "metadata": {},
     "output_type": "display_data"
    }
   ],
   "source": [
    "# 16.2 Plot of team size vs Award\n",
    "\n",
    "valcons <- round(as.numeric(projDat$team_size),0)\n",
    "\n",
    "tab <- table(valcons, projDat$award2)\n",
    "tab\n",
    "sum(tab)\n",
    "perc <- round(tab/apply(tab,1, sum), 2)\n",
    "perc\n",
    "chisq.test(tab)\n",
    "perc <- as.data.frame(perc)\n",
    "t <- as.data.frame(tab)\n",
    "t <- cbind(t, perc[,3])\n",
    "colnames(t) <- c(\"TeamSize\", \"award\", \"Freq\", \"percentage\")\n",
    "\n",
    "t$award <- factor(t$award, levels=c(\"Placed\", \"Honorable Mention\", \"No Award\", \"award\", \"HM\", \"noAward\"))\n",
    "t$award[which(t$award == \"award\")] <- \"Placed\"\n",
    "t$award[which(t$award == \"HM\")] <- \"Honorable Mention\"\n",
    "t$award[which(t$award == \"noAward\")] <- \"No Award\"\n",
    "\n",
    "g <- ggplot(data = t, aes(x = TeamSize, y = percentage, fill = award))\n",
    "g <- g + geom_bar(stat = \"identity\", position = position_stack(reverse=TRUE))\n",
    "g <- g + geom_text(aes(label=Freq), position = position_stack(vjust=0.5, reverse = TRUE),colour = \"white\", size = 4)\n",
    "# g <- g + labs(title = \"Team Size vs Award\", caption = \"Frequencies Shown in bar\")\n",
    "g <- g + labs(x = \"Team Size\", y = \"Proportion of Awards\")\n",
    "g"
   ]
  },
  {
   "cell_type": "code",
   "execution_count": null,
   "id": "2d259dd4",
   "metadata": {},
   "outputs": [],
   "source": [
    "# 17. bar plot of number of schools participating by year (x-axis), stacked by private/public schools.\n",
    "\n",
    "tab <- table(dat[,c(\"Year\", \"grade\")])\n",
    "tab\n",
    "chisq.test(table(dat[,c(\"Year\", \"grade\")])[c(1:7),c(1:4)])\n",
    "#barplot(table(dat[,c(\"grade\", \"Year\")]), legend = T)\n",
    "\n",
    "t <- as.data.frame(tab)\n",
    "#t\n",
    "perc <- as.data.frame(round(tab/apply(tab, 1, sum),2))\n",
    "t <- cbind(t,perc[,3])\n",
    "t$grade <- as.character(t$grade)\n",
    "t$grade[which(t$grade == \"9th\")] = \"09th\"\n",
    "colnames(t)[4] <- \"percentage\"\n",
    "\n",
    "g <- ggplot(data = t, aes(x = Year, y = Freq, fill = grade))\n",
    "g <- g + geom_bar(stat = \"identity\", position = position_stack(reverse=TRUE))\n",
    "g <- g + scale_fill_manual(values = colorsGray[c(6,7,4,3,2)])\n",
    "g <- g + geom_text(aes(label=percentage), position = position_stack(vjust=0.5, reverse = TRUE),colour = \"white\", size = 3)\n",
    "g <- g + labs(title = \"Student Participation in Science Fair By Grade\", caption = \"Fig 1.0: Percentages Shown in bar\")\n",
    "g"
   ]
  },
  {
   "cell_type": "code",
   "execution_count": 71,
   "id": "198480ab",
   "metadata": {},
   "outputs": [
    {
     "data": {
      "image/png": "[encoded data removed]",
      "text/plain": [
       "Plot with title \"Histogram of X\""
      ]
     },
     "metadata": {},
     "output_type": "display_data"
    }
   ],
   "source": [
    "# 18. histogram of the number of projects (binned 0-2, 2-5, 5-10, 10-15, 15-20, 20+) from each school (x-axis), and the number of schools... i.e most schools would have 2-3 projects, few schools would have 10-15 entries.\n",
    "X <- as.numeric(schoolDat$TotalProjectFromSchoolAllYears)\n",
    "X <- X[!is.na(X)]\n",
    "h <- hist(X, breaks = 16, xlab='Number of Projects from School (All Years)', ylab='Number of Schools')\n",
    "\n",
    "# lines(density(X), col=\"blue\", lwd=2)"
   ]
  },
  {
   "cell_type": "code",
   "execution_count": 33,
   "id": "513fcc5d",
   "metadata": {
    "scrolled": false
   },
   "outputs": [
    {
     "data": {
      "text/html": [
       "<ol class=list-inline>\n",
       "\t<li>614</li>\n",
       "\t<li>2</li>\n",
       "</ol>\n"
      ],
      "text/latex": [
       "\\begin{enumerate*}\n",
       "\\item 614\n",
       "\\item 2\n",
       "\\end{enumerate*}\n"
      ],
      "text/markdown": [
       "1. 614\n",
       "2. 2\n",
       "\n",
       "\n"
      ],
      "text/plain": [
       "[1] 614   2"
      ]
     },
     "metadata": {},
     "output_type": "display_data"
    },
    {
     "name": "stderr",
     "output_type": "stream",
     "text": [
      "Warning message:\n",
      "\"Removed 192 rows containing non-finite values (stat_smooth).\"Warning message:\n",
      "\"Removed 192 rows containing missing values (geom_point).\""
     ]
    },
    {
     "data": {
      "text/html": [
       "<table>\n",
       "<thead><tr><th></th><th scope=col>Estimate</th><th scope=col>Std. Error</th><th scope=col>t value</th><th scope=col>Pr(&gt;|t|)</th></tr></thead>\n",
       "<tbody>\n",
       "\t<tr><th scope=row>(Intercept)</th><td>-1.0304790  </td><td>0.7226024   </td><td>-1.426067   </td><td>1.545920e-01</td></tr>\n",
       "\t<tr><th scope=row>V1</th><td> 0.5549566  </td><td>0.1028842   </td><td> 5.393990   </td><td>1.153055e-07</td></tr>\n",
       "</tbody>\n",
       "</table>\n"
      ],
      "text/latex": [
       "\\begin{tabular}{r|llll}\n",
       "  & Estimate & Std. Error & t value & Pr(>\\textbar{}t\\textbar{})\\\\\n",
       "\\hline\n",
       "\t(Intercept) & -1.0304790   & 0.7226024    & -1.426067    & 1.545920e-01\\\\\n",
       "\tV1 &  0.5549566   & 0.1028842    &  5.393990    & 1.153055e-07\\\\\n",
       "\\end{tabular}\n"
      ],
      "text/markdown": [
       "\n",
       "| <!--/--> | Estimate | Std. Error | t value | Pr(>|t|) |\n",
       "|---|---|---|---|---|\n",
       "| (Intercept) | -1.0304790   | 0.7226024    | -1.426067    | 1.545920e-01 |\n",
       "| V1 |  0.5549566   | 0.1028842    |  5.393990    | 1.153055e-07 |\n",
       "\n"
      ],
      "text/plain": [
       "            Estimate   Std. Error t value   Pr(>|t|)    \n",
       "(Intercept) -1.0304790 0.7226024  -1.426067 1.545920e-01\n",
       "V1           0.5549566 0.1028842   5.393990 1.153055e-07"
      ]
     },
     "metadata": {},
     "output_type": "display_data"
    },
    {
     "data": {
      "image/png": "[encoded data removed]",
      "text/plain": [
       "plot without title"
      ]
     },
     "metadata": {},
     "output_type": "display_data"
    }
   ],
   "source": [
    "# 19. scatterplot of school participation (# of projects) vs student size\n",
    "\n",
    "plot.df <- as.data.frame(cbind(log(schoolDat$NumStudents), log(schoolDat$TotalProjectFromSchoolAllYears)))\n",
    "dim(plot.df)\n",
    "ggplot(plot.df, aes(x=V1, y=V2)) +\n",
    "  geom_point(size=2) +\n",
    "  geom_smooth(method=lm) + #,se=FALSE\n",
    "  ggtitle(\"Number of Projects vs School Size\") +\n",
    "  labs(x = \"School Size\", y = \"MSEF Projects\")\n",
    "  # geom_text(x = 10, y = 1000, label = lm_eqn(plot.df), parse = TRUE)\n",
    "\n",
    "linear_model <- lm(V2 ~ V1, data = plot.df)\n",
    "summary(linear_model)$coefficients"
   ]
  },
  {
   "cell_type": "code",
   "execution_count": 13,
   "id": "be9c561a",
   "metadata": {
    "scrolled": false
   },
   "outputs": [
    {
     "name": "stderr",
     "output_type": "stream",
     "text": [
      "Warning message:\n",
      "\"Removed 192 rows containing missing values (geom_point).\""
     ]
    },
    {
     "data": {
      "text/html": [
       "<table>\n",
       "<thead><tr><th></th><th scope=col>Estimate</th><th scope=col>Std. Error</th><th scope=col>t value</th><th scope=col>Pr(&gt;|t|)</th></tr></thead>\n",
       "<tbody>\n",
       "\t<tr><th scope=row>(Intercept)</th><td>34.5141816520</td><td>4.1157122158 </td><td> 8.3859560   </td><td>7.702708e-16 </td></tr>\n",
       "\t<tr><th scope=row>V1</th><td>-0.0002021174</td><td>0.0002469714 </td><td>-0.8183839   </td><td>4.136021e-01 </td></tr>\n",
       "</tbody>\n",
       "</table>\n"
      ],
      "text/latex": [
       "\\begin{tabular}{r|llll}\n",
       "  & Estimate & Std. Error & t value & Pr(>\\textbar{}t\\textbar{})\\\\\n",
       "\\hline\n",
       "\t(Intercept) & 34.5141816520 & 4.1157122158  &  8.3859560    & 7.702708e-16 \\\\\n",
       "\tV1 & -0.0002021174 & 0.0002469714  & -0.8183839    & 4.136021e-01 \\\\\n",
       "\\end{tabular}\n"
      ],
      "text/markdown": [
       "\n",
       "| <!--/--> | Estimate | Std. Error | t value | Pr(>|t|) |\n",
       "|---|---|---|---|---|\n",
       "| (Intercept) | 34.5141816520 | 4.1157122158  |  8.3859560    | 7.702708e-16  |\n",
       "| V1 | -0.0002021174 | 0.0002469714  | -0.8183839    | 4.136021e-01  |\n",
       "\n"
      ],
      "text/plain": [
       "            Estimate      Std. Error   t value    Pr(>|t|)    \n",
       "(Intercept) 34.5141816520 4.1157122158  8.3859560 7.702708e-16\n",
       "V1          -0.0002021174 0.0002469714 -0.8183839 4.136021e-01"
      ]
     },
     "metadata": {},
     "output_type": "display_data"
    },
    {
     "data": {
      "image/png": "[encoded data removed]",
      "text/plain": [
       "plot without title"
      ]
     },
     "metadata": {},
     "output_type": "display_data"
    }
   ],
   "source": [
    "# 20. scatterplot of school participation (# of projects) vs funding\n",
    "\n",
    "plot.df <- as.data.frame(cbind(schoolDat$SpendingPerPupil, schoolDat$TotalProjectFromSchoolAllYears))\n",
    "\n",
    "ggplot(plot.df, aes(x=V1, y=V2)) +\n",
    "  geom_point(size=2) +\n",
    "  # ggtitle(\"Number of Projects vs Funding\") +\n",
    "  labs(x = \"Spending Per Pupil\", y = \"Number of Projects (All Years)\")\n",
    "  # geom_text(x = 10, y = 1000, label = lm_eqn(plot.df), parse = TRUE)\n",
    "\n",
    "linear_model <- lm(V2 ~ V1, data = plot.df)\n",
    "summary(linear_model)$coefficients"
   ]
  },
  {
   "cell_type": "code",
   "execution_count": null,
   "id": "f68bbae6",
   "metadata": {},
   "outputs": [],
   "source": [
    "plot.df <- as.data.frame(cbind(schoolDat$SpendingPerPupil, schoolDat$TotalProjectFromSchoolAllYears))\n",
    "\n",
    "ggplot(plot.df, aes(x=V1, y=V2)) +\n",
    "  geom_point(size=2) +\n",
    "  ggtitle(\"Number of Projects vs Funding\") +\n",
    "  labs(x = \"Spending\", y = \"Projects\")\n",
    "  # geom_text(x = 10, y = 1000, label = lm_eqn(plot.df), parse = TRUE)\n",
    "\n",
    "linear_model <- lm(V2 ~ V1, data = plot.df)\n",
    "summary(linear_model)$coefficients"
   ]
  },
  {
   "cell_type": "code",
   "execution_count": 47,
   "id": "c500d82f",
   "metadata": {},
   "outputs": [
    {
     "name": "stderr",
     "output_type": "stream",
     "text": [
      "Warning message:\n",
      "\"Removed 192 rows containing non-finite values (stat_smooth).\"Warning message:\n",
      "\"Removed 192 rows containing missing values (geom_point).\"Warning message in cor.test.default(x = plot.df$V1, y = plot.df$V2, method = \"spearman\"):\n",
      "\"Cannot compute exact p-value with ties\""
     ]
    },
    {
     "data": {
      "text/plain": [
       "\n",
       "\tSpearman's rank correlation rho\n",
       "\n",
       "data:  plot.df$V1 and plot.df$V2\n",
       "S = 10220732, p-value = 0.0001442\n",
       "alternative hypothesis: true rho is not equal to 0\n",
       "sample estimates:\n",
       "      rho \n",
       "0.1839847 \n"
      ]
     },
     "metadata": {},
     "output_type": "display_data"
    },
    {
     "data": {
      "image/png": "[encoded data removed]",
      "text/plain": [
       "plot without title"
      ]
     },
     "metadata": {},
     "output_type": "display_data"
    }
   ],
   "source": [
    "# 21. scatterplot of school participation vs school rank (2019 or 2018 or avg rank)\n",
    "\n",
    "plot.df <- as.data.frame(cbind(schoolDat$Score2019, schoolDat$Total_awardValue))\n",
    "\n",
    "ggplot(plot.df, aes(x=V1, y=V2)) +\n",
    "  geom_point(size=2) +\n",
    "  ggtitle(\"Performance vs School Rank\") +\n",
    "  geom_smooth(method=lm) + #,se=FALSE\n",
    "  labs(x = \"Rank\", y = \"Performance\")\n",
    "\n",
    "cor.test(x=plot.df$V1, y=plot.df$V2, method = 'spearman')"
   ]
  },
  {
   "cell_type": "code",
   "execution_count": null,
   "id": "5c459ab5",
   "metadata": {},
   "outputs": [],
   "source": [
    "# 22. scatterplot of school size vs performance score\n",
    "\n"
   ]
  }
 ],
 "metadata": {
  "kernelspec": {
   "display_name": "R",
   "language": "R",
   "name": "ir"
  },
  "language_info": {
   "codemirror_mode": "r",
   "file_extension": ".r",
   "mimetype": "text/x-r-source",
   "name": "R",
   "pygments_lexer": "r",
   "version": "3.6.1"
  }
 },
 "nbformat": 4,
 "nbformat_minor": 5
}
